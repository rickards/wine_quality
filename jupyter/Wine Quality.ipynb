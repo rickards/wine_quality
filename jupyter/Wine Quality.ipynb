{
 "cells": [
  {
   "cell_type": "markdown",
   "metadata": {},
   "source": [
    "# Modelagem dos dados"
   ]
  },
  {
   "cell_type": "code",
   "execution_count": 1,
   "metadata": {},
   "outputs": [
    {
     "name": "stderr",
     "output_type": "stream",
     "text": [
      "Using TensorFlow backend.\n"
     ]
    }
   ],
   "source": [
    "import math\n",
    "import keras\n",
    "import numpy as np\n",
    "import pandas as pd\n",
    "import seaborn as sns\n",
    "\n",
    "from scipy import stats\n",
    "from sklearn import preprocessing"
   ]
  },
  {
   "cell_type": "markdown",
   "metadata": {},
   "source": [
    "### Leitura dos dados"
   ]
  },
  {
   "cell_type": "code",
   "execution_count": 2,
   "metadata": {},
   "outputs": [
    {
     "data": {
      "text/html": [
       "<div>\n",
       "<style scoped>\n",
       "    .dataframe tbody tr th:only-of-type {\n",
       "        vertical-align: middle;\n",
       "    }\n",
       "\n",
       "    .dataframe tbody tr th {\n",
       "        vertical-align: top;\n",
       "    }\n",
       "\n",
       "    .dataframe thead th {\n",
       "        text-align: right;\n",
       "    }\n",
       "</style>\n",
       "<table border=\"1\" class=\"dataframe\">\n",
       "  <thead>\n",
       "    <tr style=\"text-align: right;\">\n",
       "      <th></th>\n",
       "      <th>type</th>\n",
       "      <th>fixed acidity</th>\n",
       "      <th>volatile acidity</th>\n",
       "      <th>citric acid</th>\n",
       "      <th>residual sugar</th>\n",
       "      <th>chlorides</th>\n",
       "      <th>free sulfur dioxide</th>\n",
       "      <th>total sulfur dioxide</th>\n",
       "      <th>density</th>\n",
       "      <th>pH</th>\n",
       "      <th>sulphates</th>\n",
       "      <th>alcohol</th>\n",
       "      <th>quality</th>\n",
       "    </tr>\n",
       "  </thead>\n",
       "  <tbody>\n",
       "    <tr>\n",
       "      <th>0</th>\n",
       "      <td>White</td>\n",
       "      <td>7.0</td>\n",
       "      <td>0.27</td>\n",
       "      <td>0.36</td>\n",
       "      <td>20.7</td>\n",
       "      <td>0.045</td>\n",
       "      <td>45.0</td>\n",
       "      <td>170.0</td>\n",
       "      <td>1.0010</td>\n",
       "      <td>3.00</td>\n",
       "      <td>0.45</td>\n",
       "      <td>8.8</td>\n",
       "      <td>6</td>\n",
       "    </tr>\n",
       "    <tr>\n",
       "      <th>1</th>\n",
       "      <td>White</td>\n",
       "      <td>6.3</td>\n",
       "      <td>0.30</td>\n",
       "      <td>0.34</td>\n",
       "      <td>1.6</td>\n",
       "      <td>0.049</td>\n",
       "      <td>14.0</td>\n",
       "      <td>132.0</td>\n",
       "      <td>0.9940</td>\n",
       "      <td>3.30</td>\n",
       "      <td>0.49</td>\n",
       "      <td>9.5</td>\n",
       "      <td>6</td>\n",
       "    </tr>\n",
       "    <tr>\n",
       "      <th>2</th>\n",
       "      <td>White</td>\n",
       "      <td>8.1</td>\n",
       "      <td>0.28</td>\n",
       "      <td>0.40</td>\n",
       "      <td>6.9</td>\n",
       "      <td>0.050</td>\n",
       "      <td>30.0</td>\n",
       "      <td>97.0</td>\n",
       "      <td>0.9951</td>\n",
       "      <td>3.26</td>\n",
       "      <td>0.44</td>\n",
       "      <td>10.1</td>\n",
       "      <td>6</td>\n",
       "    </tr>\n",
       "    <tr>\n",
       "      <th>3</th>\n",
       "      <td>White</td>\n",
       "      <td>7.2</td>\n",
       "      <td>0.23</td>\n",
       "      <td>0.32</td>\n",
       "      <td>8.5</td>\n",
       "      <td>0.058</td>\n",
       "      <td>47.0</td>\n",
       "      <td>186.0</td>\n",
       "      <td>0.9956</td>\n",
       "      <td>3.19</td>\n",
       "      <td>0.40</td>\n",
       "      <td>9.9</td>\n",
       "      <td>6</td>\n",
       "    </tr>\n",
       "    <tr>\n",
       "      <th>4</th>\n",
       "      <td>White</td>\n",
       "      <td>7.2</td>\n",
       "      <td>0.23</td>\n",
       "      <td>0.32</td>\n",
       "      <td>8.5</td>\n",
       "      <td>0.058</td>\n",
       "      <td>47.0</td>\n",
       "      <td>186.0</td>\n",
       "      <td>0.9956</td>\n",
       "      <td>3.19</td>\n",
       "      <td>0.40</td>\n",
       "      <td>9.9</td>\n",
       "      <td>6</td>\n",
       "    </tr>\n",
       "  </tbody>\n",
       "</table>\n",
       "</div>"
      ],
      "text/plain": [
       "    type  fixed acidity  volatile acidity  citric acid  residual sugar  \\\n",
       "0  White            7.0              0.27         0.36            20.7   \n",
       "1  White            6.3              0.30         0.34             1.6   \n",
       "2  White            8.1              0.28         0.40             6.9   \n",
       "3  White            7.2              0.23         0.32             8.5   \n",
       "4  White            7.2              0.23         0.32             8.5   \n",
       "\n",
       "   chlorides  free sulfur dioxide  total sulfur dioxide  density    pH  \\\n",
       "0      0.045                 45.0                 170.0   1.0010  3.00   \n",
       "1      0.049                 14.0                 132.0   0.9940  3.30   \n",
       "2      0.050                 30.0                  97.0   0.9951  3.26   \n",
       "3      0.058                 47.0                 186.0   0.9956  3.19   \n",
       "4      0.058                 47.0                 186.0   0.9956  3.19   \n",
       "\n",
       "   sulphates alcohol  quality  \n",
       "0       0.45     8.8        6  \n",
       "1       0.49     9.5        6  \n",
       "2       0.44    10.1        6  \n",
       "3       0.40     9.9        6  \n",
       "4       0.40     9.9        6  "
      ]
     },
     "execution_count": 2,
     "metadata": {},
     "output_type": "execute_result"
    }
   ],
   "source": [
    "df = pd.read_csv(\"./../winequality.csv\", sep=\";\")\n",
    "df.head()"
   ]
  },
  {
   "cell_type": "markdown",
   "metadata": {},
   "source": [
    "### Vejamos os tipos de dados de cada coluna"
   ]
  },
  {
   "cell_type": "code",
   "execution_count": 3,
   "metadata": {},
   "outputs": [
    {
     "name": "stdout",
     "output_type": "stream",
     "text": [
      "<class 'pandas.core.frame.DataFrame'>\n",
      "RangeIndex: 6497 entries, 0 to 6496\n",
      "Data columns (total 13 columns):\n",
      " #   Column                Non-Null Count  Dtype  \n",
      "---  ------                --------------  -----  \n",
      " 0   type                  6497 non-null   object \n",
      " 1   fixed acidity         6497 non-null   float64\n",
      " 2   volatile acidity      6497 non-null   float64\n",
      " 3   citric acid           6497 non-null   float64\n",
      " 4   residual sugar        6497 non-null   float64\n",
      " 5   chlorides             6497 non-null   float64\n",
      " 6   free sulfur dioxide   6497 non-null   float64\n",
      " 7   total sulfur dioxide  6497 non-null   float64\n",
      " 8   density               6497 non-null   float64\n",
      " 9   pH                    6497 non-null   float64\n",
      " 10  sulphates             6497 non-null   float64\n",
      " 11  alcohol               6497 non-null   object \n",
      " 12  quality               6497 non-null   int64  \n",
      "dtypes: float64(10), int64(1), object(2)\n",
      "memory usage: 660.0+ KB\n"
     ]
    }
   ],
   "source": [
    "df.info()"
   ]
  },
  {
   "cell_type": "markdown",
   "metadata": {},
   "source": [
    "### TRATAMENTO DO BANCO DE DADOS\n",
    "\n",
    "Se observado os dados type e alcohol são objects, precisamos só trabalhar com números.\n",
    "\n",
    "* type: object (vamos mudar para inteiro)\n",
    "* alcohol: object (vamos mudar para float e eliminar dados incosistentes)"
   ]
  },
  {
   "cell_type": "code",
   "execution_count": 4,
   "metadata": {},
   "outputs": [],
   "source": [
    "#adicionar números como representantes das categorias\n",
    "df['type'] = df['type'].map( {'White': 1, 'Red': 0} ).astype(int)\n",
    "#vamos corrigir os erros da coluna, e substituí-los para NaN, em seguida preencher essas lacunas com a moda\n",
    "#poderiamos ignorá-los, mas cada dado é valioso e vamos investigar usando essas dados corrompidos\n",
    "df['alcohol'] = pd.to_numeric(df['alcohol'], errors='coerce')\n",
    "freq_port = df.alcohol.dropna().mode()[0]\n",
    "df['alcohol'] = df['alcohol'].fillna(freq_port)"
   ]
  },
  {
   "cell_type": "markdown",
   "metadata": {},
   "source": [
    "### Agora os dados são apenas números!!!"
   ]
  },
  {
   "cell_type": "code",
   "execution_count": 5,
   "metadata": {},
   "outputs": [
    {
     "name": "stdout",
     "output_type": "stream",
     "text": [
      "<class 'pandas.core.frame.DataFrame'>\n",
      "RangeIndex: 6497 entries, 0 to 6496\n",
      "Data columns (total 13 columns):\n",
      " #   Column                Non-Null Count  Dtype  \n",
      "---  ------                --------------  -----  \n",
      " 0   type                  6497 non-null   int64  \n",
      " 1   fixed acidity         6497 non-null   float64\n",
      " 2   volatile acidity      6497 non-null   float64\n",
      " 3   citric acid           6497 non-null   float64\n",
      " 4   residual sugar        6497 non-null   float64\n",
      " 5   chlorides             6497 non-null   float64\n",
      " 6   free sulfur dioxide   6497 non-null   float64\n",
      " 7   total sulfur dioxide  6497 non-null   float64\n",
      " 8   density               6497 non-null   float64\n",
      " 9   pH                    6497 non-null   float64\n",
      " 10  sulphates             6497 non-null   float64\n",
      " 11  alcohol               6497 non-null   float64\n",
      " 12  quality               6497 non-null   int64  \n",
      "dtypes: float64(11), int64(2)\n",
      "memory usage: 660.0 KB\n"
     ]
    }
   ],
   "source": [
    "df.info()"
   ]
  },
  {
   "cell_type": "code",
   "execution_count": 6,
   "metadata": {},
   "outputs": [],
   "source": [
    "# vamos remover a informação de qualidade para normalizar, depois vamos recoloca-la\n",
    "quality_serie = df['quality']\n",
    "df = df[:-1]"
   ]
  },
  {
   "cell_type": "markdown",
   "metadata": {},
   "source": [
    "### Esse é um caso interessante, vamos adicionar um atributo relacionado a proporção de dioxide, adicionado como joy example para mostrar que algumas derivações de atributos foram avaliadas. Foi percebido essa possibilidade no final da análise, porém o melhor momento de adicionar é antes da normalização."
   ]
  },
  {
   "cell_type": "code",
   "execution_count": 7,
   "metadata": {},
   "outputs": [
    {
     "data": {
      "image/png": "[encoded data removed]",
      "text/plain": [
       "<Figure size 432x288 with 2 Axes>"
      ]
     },
     "metadata": {
      "needs_background": "light"
     },
     "output_type": "display_data"
    }
   ],
   "source": [
    "# Adiciono uma nova variável com a proporção de dioxide\n",
    "df['prop dioxide'] = df['free sulfur dioxide']/df['total sulfur dioxide']\n",
    "\n",
    "ax2 = df.plot.scatter(x='free sulfur dioxide',\n",
    "                      y='total sulfur dioxide',\n",
    "                      c='quality',\n",
    "                      colormap='viridis')"
   ]
  },
  {
   "cell_type": "code",
   "execution_count": 8,
   "metadata": {},
   "outputs": [
    {
     "data": {
      "image/png": "[encoded data removed]",
      "text/plain": [
       "<Figure size 432x288 with 1 Axes>"
      ]
     },
     "metadata": {
      "needs_background": "light"
     },
     "output_type": "display_data"
    }
   ],
   "source": [
    "ax3 = sns.boxplot(x=\"quality\", y=\"prop dioxide\", data=df)"
   ]
  },
  {
   "cell_type": "markdown",
   "metadata": {},
   "source": [
    "### Para começar a análise, vamos ver como a distribuição dos dados se dá"
   ]
  },
  {
   "cell_type": "code",
   "execution_count": 9,
   "metadata": {},
   "outputs": [
    {
     "data": {
      "text/plain": [
       "<matplotlib.axes._subplots.AxesSubplot at 0x7f2c9f883cf8>"
      ]
     },
     "execution_count": 9,
     "metadata": {},
     "output_type": "execute_result"
    },
    {
     "data": {
      "image/png": "[encoded data removed]",
      "text/plain": [
       "<Figure size 432x288 with 1 Axes>"
      ]
     },
     "metadata": {
      "needs_background": "light"
     },
     "output_type": "display_data"
    }
   ],
   "source": [
    "df.boxplot(column=list(df.columns))"
   ]
  },
  {
   "cell_type": "markdown",
   "metadata": {},
   "source": [
    "### Percebe-se que alguns atributos tem valores discrepantes, para melhorar essa visualização e não enviesar nossos modelos (alguns podem ser enviesados por essa discrepâcia de valores), vamos normalizar esses dados."
   ]
  },
  {
   "cell_type": "code",
   "execution_count": 10,
   "metadata": {},
   "outputs": [
    {
     "data": {
      "text/plain": [
       "<matplotlib.axes._subplots.AxesSubplot at 0x7f2c9f70ee10>"
      ]
     },
     "execution_count": 10,
     "metadata": {},
     "output_type": "execute_result"
    },
    {
     "data": {
      "image/png": "[encoded data removed]",
      "text/plain": [
       "<Figure size 432x288 with 1 Axes>"
      ]
     },
     "metadata": {
      "needs_background": "light"
     },
     "output_type": "display_data"
    }
   ],
   "source": [
    "x = df.values #returns a numpy array\n",
    "min_max_scaler = preprocessing.MinMaxScaler()\n",
    "x_scaled = min_max_scaler.fit_transform(x)\n",
    "df_normalized = pd.DataFrame(x_scaled, columns=df.columns)\n",
    "df = df_normalized\n",
    "\n",
    "df.boxplot(column=list(df.columns))"
   ]
  },
  {
   "cell_type": "markdown",
   "metadata": {},
   "source": [
    "### Como podem ver, alguns atributos tem outliers, vamos remove-los."
   ]
  },
  {
   "cell_type": "code",
   "execution_count": 11,
   "metadata": {},
   "outputs": [
    {
     "data": {
      "text/plain": [
       "<matplotlib.axes._subplots.AxesSubplot at 0x7f2c9f566278>"
      ]
     },
     "execution_count": 11,
     "metadata": {},
     "output_type": "execute_result"
    },
    {
     "data": {
      "image/png": "[encoded data removed]",
      "text/plain": [
       "<Figure size 432x288 with 1 Axes>"
      ]
     },
     "metadata": {
      "needs_background": "light"
     },
     "output_type": "display_data"
    }
   ],
   "source": [
    "#REMOVER OUTLIERS\n",
    "z_scores = stats.zscore(df) #calculate z-scores of `df` média 0 desvio padrão 1\n",
    "abs_z_scores = np.abs(z_scores)\n",
    "filtered_entries = (abs_z_scores < 3).all(axis=1)\n",
    "df_without_outliers = df[filtered_entries]\n",
    "\n",
    "df_without_outliers.boxplot(column=list(df.columns))"
   ]
  },
  {
   "cell_type": "code",
   "execution_count": 12,
   "metadata": {},
   "outputs": [
    {
     "data": {
      "text/html": [
       "<div>\n",
       "<style scoped>\n",
       "    .dataframe tbody tr th:only-of-type {\n",
       "        vertical-align: middle;\n",
       "    }\n",
       "\n",
       "    .dataframe tbody tr th {\n",
       "        vertical-align: top;\n",
       "    }\n",
       "\n",
       "    .dataframe thead th {\n",
       "        text-align: right;\n",
       "    }\n",
       "</style>\n",
       "<table border=\"1\" class=\"dataframe\">\n",
       "  <thead>\n",
       "    <tr style=\"text-align: right;\">\n",
       "      <th></th>\n",
       "      <th>quality</th>\n",
       "      <th>type</th>\n",
       "    </tr>\n",
       "  </thead>\n",
       "  <tbody>\n",
       "    <tr>\n",
       "      <th>4</th>\n",
       "      <td>0.833333</td>\n",
       "      <td>0.939560</td>\n",
       "    </tr>\n",
       "    <tr>\n",
       "      <th>3</th>\n",
       "      <td>0.666667</td>\n",
       "      <td>0.856299</td>\n",
       "    </tr>\n",
       "    <tr>\n",
       "      <th>2</th>\n",
       "      <td>0.500000</td>\n",
       "      <td>0.816563</td>\n",
       "    </tr>\n",
       "    <tr>\n",
       "      <th>1</th>\n",
       "      <td>0.333333</td>\n",
       "      <td>0.720352</td>\n",
       "    </tr>\n",
       "    <tr>\n",
       "      <th>0</th>\n",
       "      <td>0.166667</td>\n",
       "      <td>0.836957</td>\n",
       "    </tr>\n",
       "  </tbody>\n",
       "</table>\n",
       "</div>"
      ],
      "text/plain": [
       "    quality      type\n",
       "4  0.833333  0.939560\n",
       "3  0.666667  0.856299\n",
       "2  0.500000  0.816563\n",
       "1  0.333333  0.720352\n",
       "0  0.166667  0.836957"
      ]
     },
     "execution_count": 12,
     "metadata": {},
     "output_type": "execute_result"
    }
   ],
   "source": [
    "df['quality'] = quality_serie\n",
    "df_without_outliers[['quality', 'type']].groupby(['quality'], as_index=False).mean().sort_values(by='quality', ascending=False)"
   ]
  },
  {
   "cell_type": "markdown",
   "metadata": {},
   "source": [
    "### Ao remover os outliers, percebemos que os dados de qualidade 3 e 9 são removidos, então eles são relevantes e devem permanecer junto com os dados.\n",
    "\n",
    "### Agora vamos ver como o atributo quality está distribuido na coluna type novamente, mas com outra perspectiva."
   ]
  },
  {
   "cell_type": "code",
   "execution_count": 13,
   "metadata": {},
   "outputs": [
    {
     "data": {
      "text/html": [
       "<div>\n",
       "<style scoped>\n",
       "    .dataframe tbody tr th:only-of-type {\n",
       "        vertical-align: middle;\n",
       "    }\n",
       "\n",
       "    .dataframe tbody tr th {\n",
       "        vertical-align: top;\n",
       "    }\n",
       "\n",
       "    .dataframe thead th {\n",
       "        text-align: right;\n",
       "    }\n",
       "</style>\n",
       "<table border=\"1\" class=\"dataframe\">\n",
       "  <thead>\n",
       "    <tr style=\"text-align: right;\">\n",
       "      <th></th>\n",
       "      <th>quality</th>\n",
       "      <th>type</th>\n",
       "    </tr>\n",
       "  </thead>\n",
       "  <tbody>\n",
       "    <tr>\n",
       "      <th>6</th>\n",
       "      <td>9</td>\n",
       "      <td>1.000000</td>\n",
       "    </tr>\n",
       "    <tr>\n",
       "      <th>5</th>\n",
       "      <td>8</td>\n",
       "      <td>0.906736</td>\n",
       "    </tr>\n",
       "    <tr>\n",
       "      <th>4</th>\n",
       "      <td>7</td>\n",
       "      <td>0.815570</td>\n",
       "    </tr>\n",
       "    <tr>\n",
       "      <th>3</th>\n",
       "      <td>6</td>\n",
       "      <td>0.775309</td>\n",
       "    </tr>\n",
       "    <tr>\n",
       "      <th>2</th>\n",
       "      <td>5</td>\n",
       "      <td>0.681478</td>\n",
       "    </tr>\n",
       "    <tr>\n",
       "      <th>1</th>\n",
       "      <td>4</td>\n",
       "      <td>0.754630</td>\n",
       "    </tr>\n",
       "    <tr>\n",
       "      <th>0</th>\n",
       "      <td>3</td>\n",
       "      <td>0.666667</td>\n",
       "    </tr>\n",
       "  </tbody>\n",
       "</table>\n",
       "</div>"
      ],
      "text/plain": [
       "   quality      type\n",
       "6        9  1.000000\n",
       "5        8  0.906736\n",
       "4        7  0.815570\n",
       "3        6  0.775309\n",
       "2        5  0.681478\n",
       "1        4  0.754630\n",
       "0        3  0.666667"
      ]
     },
     "execution_count": 13,
     "metadata": {},
     "output_type": "execute_result"
    }
   ],
   "source": [
    "df[['quality', 'type']].groupby(['quality'], as_index=False).mean().sort_values(by='quality', ascending=False)"
   ]
  },
  {
   "cell_type": "markdown",
   "metadata": {},
   "source": [
    "### Atributo type parece mostrar que a incidência de vinhos de qualidade maior estão mais presentes no vinho branco. Isso se deve também a quantidade de vinhos Brancos que são sua maioria.\n",
    "\n",
    "### Vamos interpretar atributo por atributo."
   ]
  },
  {
   "cell_type": "code",
   "execution_count": 14,
   "metadata": {},
   "outputs": [
    {
     "data": {
      "image/png": "[encoded data removed]",
      "text/plain": [
       "<Figure size 432x288 with 1 Axes>"
      ]
     },
     "metadata": {
      "needs_background": "light"
     },
     "output_type": "display_data"
    }
   ],
   "source": [
    "ax = sns.violinplot(x=\"quality\", y=\"fixed acidity\", data=df)"
   ]
  },
  {
   "cell_type": "markdown",
   "metadata": {},
   "source": [
    "### Esse atributo não parece ser muito descritivo porém, para os casos de qualidade 3 e 9, eles se dirvegem com uma barriga maior (maior frequência dos dados) nos vinhos de alta qualidade.\n",
    "\n",
    "### Vamos ao próximo atributo."
   ]
  },
  {
   "cell_type": "code",
   "execution_count": 15,
   "metadata": {},
   "outputs": [
    {
     "data": {
      "image/png": "[encoded data removed]",
      "text/plain": [
       "<Figure size 432x288 with 1 Axes>"
      ]
     },
     "metadata": {
      "needs_background": "light"
     },
     "output_type": "display_data"
    }
   ],
   "source": [
    "ax = sns.boxplot(x=\"quality\", y=\"volatile acidity\", data=df)"
   ]
  },
  {
   "cell_type": "markdown",
   "metadata": {},
   "source": [
    "### Esse atributo já mostrou uma variedada correlacionada a qualidade, apesar de pouca.\n",
    "\n",
    "### Vamos ao próximo:"
   ]
  },
  {
   "cell_type": "code",
   "execution_count": 16,
   "metadata": {},
   "outputs": [
    {
     "data": {
      "image/png": "[encoded data removed]",
      "text/plain": [
       "<Figure size 432x288 with 1 Axes>"
      ]
     },
     "metadata": {
      "needs_background": "light"
     },
     "output_type": "display_data"
    }
   ],
   "source": [
    "ax = sns.boxplot(x=\"quality\", y=\"citric acid\", data=df)"
   ]
  },
  {
   "cell_type": "markdown",
   "metadata": {},
   "source": [
    "### Isoladamente não parece um bom atributo, mas podemos ver quando ele se combina com outro, sempre que isso ocorre, separamos esses casos para aumentar ou diminuir a dimensionalidade e verificar correlações, por enquanto mantemos.\n",
    "\n",
    "### Segue o residual sugar"
   ]
  },
  {
   "cell_type": "code",
   "execution_count": 17,
   "metadata": {},
   "outputs": [
    {
     "data": {
      "image/png": "[encoded data removed]",
      "text/plain": [
       "<Figure size 432x288 with 1 Axes>"
      ]
     },
     "metadata": {
      "needs_background": "light"
     },
     "output_type": "display_data"
    }
   ],
   "source": [
    "ax = sns.boxplot(x=\"quality\", y=\"residual sugar\", data=df)"
   ]
  },
  {
   "cell_type": "markdown",
   "metadata": {},
   "source": [
    "### Mesma situação do anterior citric acid"
   ]
  },
  {
   "cell_type": "code",
   "execution_count": 18,
   "metadata": {},
   "outputs": [
    {
     "data": {
      "image/png": "[encoded data removed]",
      "text/plain": [
       "<Figure size 432x288 with 1 Axes>"
      ]
     },
     "metadata": {
      "needs_background": "light"
     },
     "output_type": "display_data"
    }
   ],
   "source": [
    "ax = sns.boxplot(x=\"quality\", y=\"chlorides\", data=df)"
   ]
  },
  {
   "cell_type": "markdown",
   "metadata": {},
   "source": [
    "### Sutilmente os vinhos com mais qualidade estão em um intervalo mais curto"
   ]
  },
  {
   "cell_type": "code",
   "execution_count": 19,
   "metadata": {},
   "outputs": [
    {
     "data": {
      "image/png": "[encoded data removed]",
      "text/plain": [
       "<Figure size 432x288 with 1 Axes>"
      ]
     },
     "metadata": {
      "needs_background": "light"
     },
     "output_type": "display_data"
    }
   ],
   "source": [
    "ax = sns.boxplot(x=\"quality\", y=\"free sulfur dioxide\", data=df)"
   ]
  },
  {
   "cell_type": "markdown",
   "metadata": {},
   "source": [
    "### Estreitamento do intervalo em vinhos com mais qualidade."
   ]
  },
  {
   "cell_type": "code",
   "execution_count": 20,
   "metadata": {},
   "outputs": [
    {
     "data": {
      "image/png": "[encoded data removed]",
      "text/plain": [
       "<Figure size 432x288 with 1 Axes>"
      ]
     },
     "metadata": {
      "needs_background": "light"
     },
     "output_type": "display_data"
    }
   ],
   "source": [
    "ax = sns.boxplot(x=\"quality\", y=\"total sulfur dioxide\", data=df)"
   ]
  },
  {
   "cell_type": "markdown",
   "metadata": {},
   "source": [
    "### Algumas características só aparecem em vinhos com qualidade inferior, o intervalo fica mais concentrados a medida que a qualidade aumenta."
   ]
  },
  {
   "cell_type": "code",
   "execution_count": 21,
   "metadata": {},
   "outputs": [
    {
     "data": {
      "image/png": "[encoded data removed]",
      "text/plain": [
       "<Figure size 432x288 with 1 Axes>"
      ]
     },
     "metadata": {
      "needs_background": "light"
     },
     "output_type": "display_data"
    }
   ],
   "source": [
    "ax = sns.violinplot(x=\"quality\", y=\"density\", data=df)"
   ]
  },
  {
   "cell_type": "markdown",
   "metadata": {},
   "source": [
    "### Variação inconsistente, os valores aparecem sem seguir crescente estável, nesses casos vamos categorizar por alguns intervalos."
   ]
  },
  {
   "cell_type": "code",
   "execution_count": 22,
   "metadata": {},
   "outputs": [
    {
     "data": {
      "text/html": [
       "<div>\n",
       "<style scoped>\n",
       "    .dataframe tbody tr th:only-of-type {\n",
       "        vertical-align: middle;\n",
       "    }\n",
       "\n",
       "    .dataframe tbody tr th {\n",
       "        vertical-align: top;\n",
       "    }\n",
       "\n",
       "    .dataframe thead th {\n",
       "        text-align: right;\n",
       "    }\n",
       "</style>\n",
       "<table border=\"1\" class=\"dataframe\">\n",
       "  <thead>\n",
       "    <tr style=\"text-align: right;\">\n",
       "      <th></th>\n",
       "      <th>quality</th>\n",
       "      <th>density</th>\n",
       "    </tr>\n",
       "  </thead>\n",
       "  <tbody>\n",
       "    <tr>\n",
       "      <th>6</th>\n",
       "      <td>9</td>\n",
       "      <td>0.000000</td>\n",
       "    </tr>\n",
       "    <tr>\n",
       "      <th>5</th>\n",
       "      <td>8</td>\n",
       "      <td>0.000000</td>\n",
       "    </tr>\n",
       "    <tr>\n",
       "      <th>4</th>\n",
       "      <td>7</td>\n",
       "      <td>0.002780</td>\n",
       "    </tr>\n",
       "    <tr>\n",
       "      <th>3</th>\n",
       "      <td>6</td>\n",
       "      <td>0.005291</td>\n",
       "    </tr>\n",
       "    <tr>\n",
       "      <th>2</th>\n",
       "      <td>5</td>\n",
       "      <td>0.008887</td>\n",
       "    </tr>\n",
       "    <tr>\n",
       "      <th>1</th>\n",
       "      <td>4</td>\n",
       "      <td>0.004630</td>\n",
       "    </tr>\n",
       "    <tr>\n",
       "      <th>0</th>\n",
       "      <td>3</td>\n",
       "      <td>0.000000</td>\n",
       "    </tr>\n",
       "  </tbody>\n",
       "</table>\n",
       "</div>"
      ],
      "text/plain": [
       "   quality   density\n",
       "6        9  0.000000\n",
       "5        8  0.000000\n",
       "4        7  0.002780\n",
       "3        6  0.005291\n",
       "2        5  0.008887\n",
       "1        4  0.004630\n",
       "0        3  0.000000"
      ]
     },
     "execution_count": 22,
     "metadata": {},
     "output_type": "execute_result"
    }
   ],
   "source": [
    "# vamos categorizar, agrupar alguns intervalos\n",
    "df.loc[ df['density'] <= 0.2, 'density'] = 0\n",
    "df.loc[(df['density'] > 0.2) & (df['density'] <= 0.6), 'density'] = 0.5\n",
    "df.loc[ df['density'] > 0.6, 'density'] = 1\n",
    "df['density'] = df['density'].astype(int)\n",
    "df[['quality', 'density']].groupby(['quality'], as_index=False).mean().sort_values(by='quality', ascending=False)"
   ]
  },
  {
   "cell_type": "markdown",
   "metadata": {},
   "source": [
    "### Vinhos com densidade maior são representados com pior qualidade, com algumas exceções, inclusive para os vinhos de pior qualidade, o que dificulta na discriminação da amostra.\n",
    "\n",
    "### Vamos a próxima característica:"
   ]
  },
  {
   "cell_type": "code",
   "execution_count": 23,
   "metadata": {},
   "outputs": [
    {
     "data": {
      "image/png": "[encoded data removed]",
      "text/plain": [
       "<Figure size 432x288 with 1 Axes>"
      ]
     },
     "metadata": {
      "needs_background": "light"
     },
     "output_type": "display_data"
    }
   ],
   "source": [
    "ax = sns.violinplot(x=\"quality\", y=\"pH\", data=df)"
   ]
  },
  {
   "cell_type": "markdown",
   "metadata": {},
   "source": [
    "### Quanto maior a qualidade, mais restrito são os valores aceitáveis de ph do vinho\n",
    "\n",
    "### Vamos a próxima característica:"
   ]
  },
  {
   "cell_type": "code",
   "execution_count": 24,
   "metadata": {},
   "outputs": [
    {
     "data": {
      "image/png": "[encoded data removed]",
      "text/plain": [
       "<Figure size 432x288 with 1 Axes>"
      ]
     },
     "metadata": {
      "needs_background": "light"
     },
     "output_type": "display_data"
    }
   ],
   "source": [
    "ax = sns.boxplot(x=\"quality\", y=\"sulphates\", data=df)"
   ]
  },
  {
   "cell_type": "markdown",
   "metadata": {},
   "source": [
    "### Não parece ser um bom atributo, porém delimita subconjuntos simples (3 e 9), (7 e 8) e (4, 5 e 6)"
   ]
  },
  {
   "cell_type": "code",
   "execution_count": 25,
   "metadata": {},
   "outputs": [
    {
     "data": {
      "image/png": "[encoded data removed]",
      "text/plain": [
       "<Figure size 432x288 with 1 Axes>"
      ]
     },
     "metadata": {
      "needs_background": "light"
     },
     "output_type": "display_data"
    }
   ],
   "source": [
    "ax = sns.boxplot(x=\"quality\", y=\"alcohol\", data=df)"
   ]
  },
  {
   "cell_type": "markdown",
   "metadata": {},
   "source": [
    "### Ótimo atributo, mostra-se bom representante para bons vinhos\n",
    "\n",
    "### Agora vamos separar os atributos ruins e intercala-los com outros atributos para ver se encontra algum padrão para representar bons vinhos:\n",
    "\n",
    "### Vamos começar com "
   ]
  },
  {
   "cell_type": "code",
   "execution_count": 26,
   "metadata": {},
   "outputs": [
    {
     "data": {
      "image/png": "[encoded data removed]",
      "text/plain": [
       "<Figure size 432x288 with 2 Axes>"
      ]
     },
     "metadata": {
      "needs_background": "light"
     },
     "output_type": "display_data"
    }
   ],
   "source": [
    "ax2 = df.plot.scatter(x='citric acid',\n",
    "                      y='chlorides',\n",
    "                      c='quality',\n",
    "                      colormap='viridis')"
   ]
  },
  {
   "cell_type": "markdown",
   "metadata": {},
   "source": [
    "### Isoladamente não parece um bom preditor, mas quando combinado com chlorides, parece ter algum potencial, ver-se que os melhores qualificados vinhos estão na parte inferior do gráfico, apesar de sutil."
   ]
  },
  {
   "cell_type": "code",
   "execution_count": 27,
   "metadata": {},
   "outputs": [
    {
     "data": {
      "image/png": "[encoded data removed]",
      "text/plain": [
       "<Figure size 432x288 with 2 Axes>"
      ]
     },
     "metadata": {
      "needs_background": "light"
     },
     "output_type": "display_data"
    }
   ],
   "source": [
    "ax2 = df.plot.scatter(x='residual sugar',\n",
    "                      y='chlorides',\n",
    "                      c='quality',\n",
    "                      colormap='viridis')"
   ]
  },
  {
   "cell_type": "markdown",
   "metadata": {},
   "source": [
    "### Isoladamente não parece um bom preditor, mas quando combinado com chlorides, um sutil correlação acontece. Quanto mais distante da região inferior esquerda, menor a qualidade do vinho.\n",
    "\n",
    "### Assim, pelo que foi analisado, vamos manter todos os atributos com o acréscimo de mais um."
   ]
  },
  {
   "cell_type": "markdown",
   "metadata": {},
   "source": [
    "# Machine Learning"
   ]
  },
  {
   "cell_type": "code",
   "execution_count": 28,
   "metadata": {},
   "outputs": [],
   "source": [
    "from sklearn.svm import SVC, LinearSVC\n",
    "from sklearn.ensemble import RandomForestClassifier\n",
    "from sklearn.neighbors import KNeighborsClassifier\n",
    "from sklearn.naive_bayes import GaussianNB\n",
    "from sklearn.naive_bayes import MultinomialNB\n",
    "from sklearn.linear_model import Perceptron\n",
    "from sklearn.linear_model import SGDClassifier\n",
    "from sklearn.tree import DecisionTreeClassifier\n",
    "from sklearn.metrics import mean_squared_error\n",
    "from sklearn.metrics import accuracy_score"
   ]
  },
  {
   "cell_type": "markdown",
   "metadata": {},
   "source": [
    "### Vamos selecionar nossas técnicas"
   ]
  },
  {
   "cell_type": "code",
   "execution_count": 29,
   "metadata": {},
   "outputs": [],
   "source": [
    "machine_learning_techniques = []\n",
    "machine_learning_techniques.append(SVC())\n",
    "machine_learning_techniques.append(LinearSVC())\n",
    "machine_learning_techniques.append(RandomForestClassifier())\n",
    "machine_learning_techniques.append(KNeighborsClassifier())\n",
    "machine_learning_techniques.append(GaussianNB())\n",
    "machine_learning_techniques.append(Perceptron())\n",
    "machine_learning_techniques.append(SGDClassifier())\n",
    "machine_learning_techniques.append(DecisionTreeClassifier())\n",
    "machine_learning_techniques.append(MultinomialNB())"
   ]
  },
  {
   "cell_type": "markdown",
   "metadata": {},
   "source": [
    "### Embaralhar nossa amostra"
   ]
  },
  {
   "cell_type": "code",
   "execution_count": 30,
   "metadata": {},
   "outputs": [],
   "source": [
    "df = df.sample(frac=1).reset_index(drop=True)"
   ]
  },
  {
   "cell_type": "markdown",
   "metadata": {},
   "source": [
    "### Treinar e avaliar nossos modelos"
   ]
  },
  {
   "cell_type": "code",
   "execution_count": 31,
   "metadata": {},
   "outputs": [
    {
     "name": "stdout",
     "output_type": "stream",
     "text": [
      "acc: 54.56% - rmse: 0.63 SVC\n",
      "acc: 53.38% - rmse: 0.66 LinearSVC\n",
      "acc: 70.55% - rmse: 0.41 RandomForestClassifier\n",
      "acc: 57.19% - rmse: 0.65 KNeighborsClassifier\n",
      "acc: 2.01% - rmse: 6.54 GaussianNB\n",
      "acc: 46.92% - rmse: 0.89 Perceptron\n",
      "acc: 50.47% - rmse: 0.76 SGDClassifier\n",
      "acc: 62.98% - rmse: 0.67 DecisionTreeClassifier\n",
      "acc: 43.82% - rmse: 0.79 MultinomialNB\n"
     ]
    }
   ],
   "source": [
    "for tech in machine_learning_techniques:\n",
    "\n",
    "    # cross 10-fold validation\n",
    "    interval = int(len(df)/10)\n",
    "    total_acc = []\n",
    "    total_rmse = []\n",
    "    for i in range(0, len(df)-interval, interval):\n",
    "\n",
    "        test_df = df.loc[i:i+interval]\n",
    "        if i+interval > len(df)-interval:\n",
    "            test_df = df.loc[i:]\n",
    "\n",
    "        train_df = df.drop(test_df.index)\n",
    "        # Balanceamento não melhorou a predição dos modelos e por isso não foi utilizado, seguimos com a distribuição reais dos dados.\n",
    "        # train_df = balancing(train_df)\n",
    "\n",
    "        X_test = test_df.drop(\"quality\", axis=1)\n",
    "        Y_test = test_df[\"quality\"]\n",
    "\n",
    "        X_train = train_df.drop(\"quality\", axis=1)\n",
    "        Y_train = train_df[\"quality\"]\n",
    "\n",
    "        # treina\n",
    "        tech.fit(X_train, Y_train)\n",
    "        \n",
    "        # predição e acc\n",
    "        Y_pred = tech.predict(X_test)\n",
    "        \n",
    "        acc_tech = round(tech.score(X_test, Y_test) * 100, 2)\n",
    "        mse = mean_squared_error(Y_test, Y_pred)\n",
    "        # print(f'acc: {acc_tech} mse:{mse}')\n",
    "        total_acc.append(acc_tech)\n",
    "        total_rmse.append(mse)\n",
    "\n",
    "    acc_mean = sum(total_acc)/len(total_acc)\n",
    "    rmse_mean = sum(total_rmse)/len(total_rmse)\n",
    "    print(f'acc: {round(acc_mean, 2)}% - rmse: {round(rmse_mean, 2)} {tech.__class__.__name__}')"
   ]
  },
  {
   "cell_type": "markdown",
   "metadata": {},
   "source": [
    "# Deep Learning"
   ]
  },
  {
   "cell_type": "code",
   "execution_count": 32,
   "metadata": {},
   "outputs": [],
   "source": [
    "import keras\n",
    "import keras.backend as K\n",
    "import pandas as pd\n",
    "import matplotlib.pyplot as plt\n",
    "\n",
    "from keras.utils import np_utils"
   ]
  },
  {
   "cell_type": "markdown",
   "metadata": {},
   "source": [
    "### Definição do modelo"
   ]
  },
  {
   "cell_type": "code",
   "execution_count": 33,
   "metadata": {},
   "outputs": [],
   "source": [
    "model = keras.Sequential([\n",
    "    keras.layers.Dense(128, activation='elu', input_shape=(13,)),\n",
    "    keras.layers.Dense(64, activation='elu'),\n",
    "    keras.layers.Dense(32, activation='elu'),\n",
    "    keras.layers.Dense(16, activation='elu'),\n",
    "    keras.layers.Dense(7, activation='softmax')\n",
    "])"
   ]
  },
  {
   "cell_type": "markdown",
   "metadata": {},
   "source": [
    "### Criação de uma callback"
   ]
  },
  {
   "cell_type": "code",
   "execution_count": 34,
   "metadata": {},
   "outputs": [],
   "source": [
    "from keras.callbacks import Callback\n",
    "\n",
    "class TerminateTrainingLoss(Callback):\n",
    "\n",
    "    \"\"\"\n",
    "    Termina o treino quando atinge determinada loss\n",
    "    \"\"\"\n",
    "\n",
    "    def __init__(self, minimal_loss=0.2):\n",
    "        self.minimal_loss = minimal_loss\n",
    "\n",
    "    def on_epoch_end(self, epoch, logs=None, verbose=False):\n",
    "        \n",
    "        if logs.get('loss') < self.minimal_loss:\n",
    "            self.model.stop_training = True"
   ]
  },
  {
   "cell_type": "markdown",
   "metadata": {},
   "source": [
    "### Criação de uma loss function para observação"
   ]
  },
  {
   "cell_type": "code",
   "execution_count": 35,
   "metadata": {},
   "outputs": [],
   "source": [
    "def RMSE(y_true, y_pred):\n",
    "    # Um pouco diferente da abordagem do sklearn por que utiliza das probabilidades da softmax \n",
    "    # (não comparável até que se utilizem a mesma abordagem para avaliação)\n",
    "    return K.sqrt(K.mean(K.square(y_pred - y_true))) \n",
    "\n",
    "adam = keras.optimizers.Adam(learning_rate=0.004)\n",
    "model.compile(optimizer=adam,\n",
    "              loss='categorical_crossentropy',\n",
    "              metrics=['acc', RMSE])"
   ]
  },
  {
   "cell_type": "markdown",
   "metadata": {},
   "source": [
    "### Preparação dos dados"
   ]
  },
  {
   "cell_type": "code",
   "execution_count": 36,
   "metadata": {},
   "outputs": [
    {
     "name": "stdout",
     "output_type": "stream",
     "text": [
      "interval: 649\n",
      "(650, 6)\n"
     ]
    }
   ],
   "source": [
    "df = df.sample(frac=1).reset_index(drop=True)\n",
    "interval = int(len(df)/10)\n",
    "print(f'interval: {interval}')\n",
    "\n",
    "test_df = df.loc[:interval]\n",
    "train_df = df.drop(test_df.index)\n",
    "# Balanceamento não melhorou a predição dos modelos e por isso não foi utilizado, seguimos com a distribuição reais dos dados.\n",
    "# train_df = balancing(train_df)\n",
    "\n",
    "# Como parte do pré processamento vamos transformar o label em matriz identidade\n",
    "# por isso vamos simplificar o valor desse resultado para um intervalo melhor aceitável\n",
    "# entre 0 e 7 e não entre 3 e 9\n",
    "X_test = test_df.drop(\"quality\", axis=1)\n",
    "Y_test = test_df[\"quality\"]-3\n",
    "\n",
    "X_train = train_df.drop(\"quality\", axis=1)\n",
    "Y_train = train_df[\"quality\"]-3\n",
    "\n",
    "print(np_utils.to_categorical(Y_test).shape)"
   ]
  },
  {
   "cell_type": "markdown",
   "metadata": {},
   "source": [
    "### Treino e avaliação do modelo"
   ]
  },
  {
   "cell_type": "code",
   "execution_count": 37,
   "metadata": {},
   "outputs": [
    {
     "name": "stdout",
     "output_type": "stream",
     "text": [
      "Train on 5261 samples, validate on 585 samples\n",
      "Epoch 1/1000\n",
      "5261/5261 [==============================] - 0s 41us/step - loss: 1.2935 - acc: 0.4592 - RMSE: 0.3051 - val_loss: 1.1066 - val_acc: 0.5419 - val_RMSE: 0.2915\n",
      "Epoch 2/1000\n",
      "5261/5261 [==============================] - 0s 17us/step - loss: 1.1183 - acc: 0.5183 - RMSE: 0.2922 - val_loss: 1.1031 - val_acc: 0.5316 - val_RMSE: 0.2911\n",
      "Epoch 3/1000\n",
      "5261/5261 [==============================] - 0s 18us/step - loss: 1.1029 - acc: 0.5227 - RMSE: 0.2917 - val_loss: 1.0743 - val_acc: 0.5094 - val_RMSE: 0.2895\n",
      "Epoch 4/1000\n",
      "5261/5261 [==============================] - 0s 17us/step - loss: 1.0995 - acc: 0.5305 - RMSE: 0.2936 - val_loss: 1.0835 - val_acc: 0.5453 - val_RMSE: 0.2893\n",
      "Epoch 5/1000\n",
      "5261/5261 [==============================] - 0s 15us/step - loss: 1.0943 - acc: 0.5366 - RMSE: 0.2912 - val_loss: 1.0703 - val_acc: 0.5453 - val_RMSE: 0.2884\n",
      "Epoch 6/1000\n",
      "5261/5261 [==============================] - 0s 15us/step - loss: 1.0873 - acc: 0.5318 - RMSE: 0.2906 - val_loss: 1.0698 - val_acc: 0.5556 - val_RMSE: 0.2879\n",
      "Epoch 7/1000\n",
      "5261/5261 [==============================] - 0s 14us/step - loss: 1.0876 - acc: 0.5349 - RMSE: 0.2906 - val_loss: 1.0794 - val_acc: 0.5231 - val_RMSE: 0.2911\n",
      "Epoch 8/1000\n",
      "5261/5261 [==============================] - 0s 14us/step - loss: 1.0767 - acc: 0.5354 - RMSE: 0.2891 - val_loss: 1.0671 - val_acc: 0.5487 - val_RMSE: 0.2889\n",
      "Epoch 9/1000\n",
      "5261/5261 [==============================] - 0s 14us/step - loss: 1.0791 - acc: 0.5389 - RMSE: 0.2890 - val_loss: 1.0579 - val_acc: 0.5350 - val_RMSE: 0.2875\n",
      "Epoch 10/1000\n",
      "5261/5261 [==============================] - 0s 14us/step - loss: 1.0712 - acc: 0.5444 - RMSE: 0.2887 - val_loss: 1.0869 - val_acc: 0.5282 - val_RMSE: 0.2896\n",
      "Epoch 11/1000\n",
      "5261/5261 [==============================] - 0s 14us/step - loss: 1.0629 - acc: 0.5442 - RMSE: 0.2876 - val_loss: 1.0533 - val_acc: 0.5333 - val_RMSE: 0.2874\n",
      "Epoch 12/1000\n",
      "5261/5261 [==============================] - 0s 14us/step - loss: 1.0637 - acc: 0.5472 - RMSE: 0.2874 - val_loss: 1.0547 - val_acc: 0.5453 - val_RMSE: 0.2870\n",
      "Epoch 13/1000\n",
      "5261/5261 [==============================] - 0s 14us/step - loss: 1.0604 - acc: 0.5431 - RMSE: 0.2871 - val_loss: 1.0356 - val_acc: 0.5436 - val_RMSE: 0.2846\n",
      "Epoch 14/1000\n",
      "5261/5261 [==============================] - 0s 14us/step - loss: 1.0541 - acc: 0.5507 - RMSE: 0.2863 - val_loss: 1.0547 - val_acc: 0.5299 - val_RMSE: 0.2882\n",
      "Epoch 15/1000\n",
      "5261/5261 [==============================] - 0s 15us/step - loss: 1.0599 - acc: 0.5400 - RMSE: 0.2881 - val_loss: 1.0512 - val_acc: 0.5402 - val_RMSE: 0.2877\n",
      "Epoch 16/1000\n",
      "5261/5261 [==============================] - 0s 17us/step - loss: 1.0619 - acc: 0.5491 - RMSE: 0.2882 - val_loss: 1.0259 - val_acc: 0.5487 - val_RMSE: 0.2836\n",
      "Epoch 17/1000\n",
      "5261/5261 [==============================] - 0s 16us/step - loss: 1.0553 - acc: 0.5444 - RMSE: 0.2889 - val_loss: 1.0510 - val_acc: 0.5538 - val_RMSE: 0.2850\n",
      "Epoch 18/1000\n",
      "5261/5261 [==============================] - 0s 14us/step - loss: 1.0578 - acc: 0.5476 - RMSE: 0.2876 - val_loss: 1.0346 - val_acc: 0.5402 - val_RMSE: 0.2862\n",
      "Epoch 19/1000\n",
      "5261/5261 [==============================] - 0s 14us/step - loss: 1.0492 - acc: 0.5474 - RMSE: 0.2858 - val_loss: 1.0242 - val_acc: 0.5504 - val_RMSE: 0.2837\n",
      "Epoch 20/1000\n",
      "5261/5261 [==============================] - 0s 14us/step - loss: 1.0408 - acc: 0.5463 - RMSE: 0.2860 - val_loss: 1.0379 - val_acc: 0.5538 - val_RMSE: 0.2850\n",
      "Epoch 21/1000\n",
      "5261/5261 [==============================] - 0s 17us/step - loss: 1.0427 - acc: 0.5507 - RMSE: 0.2854 - val_loss: 1.0902 - val_acc: 0.5128 - val_RMSE: 0.2962\n",
      "Epoch 22/1000\n",
      "5261/5261 [==============================] - ETA: 0s - loss: 1.0465 - acc: 0.5553 - RMSE: 0.28 - 0s 17us/step - loss: 1.0391 - acc: 0.5567 - RMSE: 0.2857 - val_loss: 1.0307 - val_acc: 0.5419 - val_RMSE: 0.2838\n",
      "Epoch 23/1000\n",
      "5261/5261 [==============================] - 0s 17us/step - loss: 1.0346 - acc: 0.5550 - RMSE: 0.2852 - val_loss: 1.0350 - val_acc: 0.5402 - val_RMSE: 0.2852\n",
      "Epoch 24/1000\n",
      "5261/5261 [==============================] - 0s 13us/step - loss: 1.0336 - acc: 0.5489 - RMSE: 0.2838 - val_loss: 1.0201 - val_acc: 0.5436 - val_RMSE: 0.2845\n",
      "Epoch 25/1000\n",
      "5261/5261 [==============================] - 0s 15us/step - loss: 1.0382 - acc: 0.5552 - RMSE: 0.2862 - val_loss: 1.0217 - val_acc: 0.5419 - val_RMSE: 0.2850\n",
      "Epoch 26/1000\n",
      "5261/5261 [==============================] - 0s 14us/step - loss: 1.0290 - acc: 0.5554 - RMSE: 0.2840 - val_loss: 1.0246 - val_acc: 0.5692 - val_RMSE: 0.2825\n",
      "Epoch 27/1000\n",
      "5261/5261 [==============================] - 0s 14us/step - loss: 1.0287 - acc: 0.5529 - RMSE: 0.2868 - val_loss: 1.0144 - val_acc: 0.5487 - val_RMSE: 0.2825\n",
      "Epoch 28/1000\n",
      "5261/5261 [==============================] - 0s 15us/step - loss: 1.0287 - acc: 0.5558 - RMSE: 0.2841 - val_loss: 1.0332 - val_acc: 0.5590 - val_RMSE: 0.2845\n",
      "Epoch 29/1000\n",
      "5261/5261 [==============================] - 0s 14us/step - loss: 1.0309 - acc: 0.5499 - RMSE: 0.2849 - val_loss: 1.0377 - val_acc: 0.5402 - val_RMSE: 0.2888\n",
      "Epoch 30/1000\n",
      "5261/5261 [==============================] - 0s 14us/step - loss: 1.0204 - acc: 0.5505 - RMSE: 0.2850 - val_loss: 1.0291 - val_acc: 0.5487 - val_RMSE: 0.2846\n",
      "Epoch 31/1000\n",
      "5261/5261 [==============================] - 0s 15us/step - loss: 1.0133 - acc: 0.5647 - RMSE: 0.2831 - val_loss: 1.0087 - val_acc: 0.5573 - val_RMSE: 0.2822\n",
      "Epoch 32/1000\n",
      "5261/5261 [==============================] - 0s 13us/step - loss: 1.0152 - acc: 0.5662 - RMSE: 0.2838 - val_loss: 1.0217 - val_acc: 0.5487 - val_RMSE: 0.2845\n",
      "Epoch 33/1000\n",
      "5261/5261 [==============================] - 0s 14us/step - loss: 1.0156 - acc: 0.5651 - RMSE: 0.2823 - val_loss: 1.0456 - val_acc: 0.5248 - val_RMSE: 0.2870\n",
      "Epoch 34/1000\n",
      "5261/5261 [==============================] - 0s 14us/step - loss: 1.0152 - acc: 0.5697 - RMSE: 0.2826 - val_loss: 1.0233 - val_acc: 0.5299 - val_RMSE: 0.2856\n",
      "Epoch 35/1000\n",
      "5261/5261 [==============================] - 0s 14us/step - loss: 1.0088 - acc: 0.5630 - RMSE: 0.2825 - val_loss: 1.0118 - val_acc: 0.5573 - val_RMSE: 0.2836\n",
      "Epoch 36/1000\n",
      "5261/5261 [==============================] - 0s 14us/step - loss: 1.0049 - acc: 0.5632 - RMSE: 0.2826 - val_loss: 1.0195 - val_acc: 0.5436 - val_RMSE: 0.2850\n",
      "Epoch 37/1000\n",
      "5261/5261 [==============================] - 0s 14us/step - loss: 1.0083 - acc: 0.5681 - RMSE: 0.2813 - val_loss: 1.0012 - val_acc: 0.5624 - val_RMSE: 0.2812\n",
      "Epoch 38/1000\n",
      "5261/5261 [==============================] - 0s 13us/step - loss: 1.0083 - acc: 0.5630 - RMSE: 0.2828 - val_loss: 1.0055 - val_acc: 0.5607 - val_RMSE: 0.2821\n",
      "Epoch 39/1000\n",
      "5261/5261 [==============================] - 0s 14us/step - loss: 1.0108 - acc: 0.5640 - RMSE: 0.2829 - val_loss: 1.0112 - val_acc: 0.5556 - val_RMSE: 0.2837\n",
      "Epoch 40/1000\n",
      "5261/5261 [==============================] - 0s 13us/step - loss: 1.0001 - acc: 0.5714 - RMSE: 0.2814 - val_loss: 1.0267 - val_acc: 0.5385 - val_RMSE: 0.2846\n",
      "Epoch 41/1000\n",
      "5261/5261 [==============================] - 0s 13us/step - loss: 1.0052 - acc: 0.5623 - RMSE: 0.2827 - val_loss: 1.0141 - val_acc: 0.5726 - val_RMSE: 0.2835\n",
      "Epoch 42/1000\n",
      "5261/5261 [==============================] - 0s 13us/step - loss: 1.0137 - acc: 0.5598 - RMSE: 0.2833 - val_loss: 1.0245 - val_acc: 0.5590 - val_RMSE: 0.2841\n",
      "Epoch 43/1000\n",
      "5261/5261 [==============================] - 0s 13us/step - loss: 1.0076 - acc: 0.5695 - RMSE: 0.2820 - val_loss: 1.0305 - val_acc: 0.5436 - val_RMSE: 0.2848\n",
      "Epoch 44/1000\n",
      "5261/5261 [==============================] - 0s 13us/step - loss: 0.9967 - acc: 0.5712 - RMSE: 0.2816 - val_loss: 1.0150 - val_acc: 0.5624 - val_RMSE: 0.2820\n",
      "Epoch 45/1000\n",
      "5261/5261 [==============================] - 0s 15us/step - loss: 0.9969 - acc: 0.5735 - RMSE: 0.2815 - val_loss: 1.0248 - val_acc: 0.5436 - val_RMSE: 0.2849\n",
      "Epoch 46/1000\n",
      "5261/5261 [==============================] - 0s 13us/step - loss: 0.9979 - acc: 0.5718 - RMSE: 0.2825 - val_loss: 1.0053 - val_acc: 0.5538 - val_RMSE: 0.2826\n",
      "Epoch 47/1000\n",
      "5261/5261 [==============================] - 0s 13us/step - loss: 0.9926 - acc: 0.5716 - RMSE: 0.2816 - val_loss: 1.0190 - val_acc: 0.5658 - val_RMSE: 0.2832\n",
      "Epoch 48/1000\n"
     ]
    },
    {
     "name": "stdout",
     "output_type": "stream",
     "text": [
      "5261/5261 [==============================] - 0s 13us/step - loss: 1.0003 - acc: 0.5680 - RMSE: 0.2828 - val_loss: 1.0054 - val_acc: 0.5436 - val_RMSE: 0.2815\n",
      "Epoch 49/1000\n",
      "5261/5261 [==============================] - 0s 13us/step - loss: 0.9815 - acc: 0.5769 - RMSE: 0.2794 - val_loss: 1.0210 - val_acc: 0.5333 - val_RMSE: 0.2844\n",
      "Epoch 50/1000\n",
      "5261/5261 [==============================] - 0s 13us/step - loss: 0.9861 - acc: 0.5750 - RMSE: 0.2803 - val_loss: 1.0073 - val_acc: 0.5607 - val_RMSE: 0.2814\n",
      "Epoch 51/1000\n",
      "5261/5261 [==============================] - 0s 13us/step - loss: 0.9932 - acc: 0.5670 - RMSE: 0.2816 - val_loss: 1.0163 - val_acc: 0.5470 - val_RMSE: 0.2831\n",
      "Epoch 52/1000\n",
      "5261/5261 [==============================] - 0s 13us/step - loss: 0.9801 - acc: 0.5778 - RMSE: 0.2803 - val_loss: 1.0070 - val_acc: 0.5521 - val_RMSE: 0.2826\n",
      "Epoch 53/1000\n",
      "5261/5261 [==============================] - 0s 13us/step - loss: 0.9900 - acc: 0.5695 - RMSE: 0.2806 - val_loss: 1.0020 - val_acc: 0.5795 - val_RMSE: 0.2802\n",
      "Epoch 54/1000\n",
      "5261/5261 [==============================] - 0s 13us/step - loss: 0.9753 - acc: 0.5837 - RMSE: 0.2798 - val_loss: 1.0146 - val_acc: 0.5556 - val_RMSE: 0.2828\n",
      "Epoch 55/1000\n",
      "5261/5261 [==============================] - 0s 13us/step - loss: 0.9866 - acc: 0.5797 - RMSE: 0.2810 - val_loss: 1.0268 - val_acc: 0.5470 - val_RMSE: 0.2827\n",
      "Epoch 56/1000\n",
      "5261/5261 [==============================] - 0s 13us/step - loss: 0.9879 - acc: 0.5763 - RMSE: 0.2808 - val_loss: 1.0064 - val_acc: 0.5573 - val_RMSE: 0.2816\n",
      "Epoch 57/1000\n",
      "5261/5261 [==============================] - 0s 13us/step - loss: 0.9796 - acc: 0.5788 - RMSE: 0.2799 - val_loss: 1.0119 - val_acc: 0.5521 - val_RMSE: 0.2822\n",
      "Epoch 58/1000\n",
      "5261/5261 [==============================] - 0s 14us/step - loss: 0.9712 - acc: 0.5809 - RMSE: 0.2786 - val_loss: 1.0109 - val_acc: 0.5692 - val_RMSE: 0.2818\n",
      "Epoch 59/1000\n",
      "5261/5261 [==============================] - 0s 13us/step - loss: 0.9674 - acc: 0.5814 - RMSE: 0.2786 - val_loss: 0.9949 - val_acc: 0.5744 - val_RMSE: 0.2798\n",
      "Epoch 60/1000\n",
      "5261/5261 [==============================] - 0s 13us/step - loss: 0.9633 - acc: 0.5883 - RMSE: 0.2773 - val_loss: 1.0205 - val_acc: 0.5744 - val_RMSE: 0.2818\n",
      "Epoch 61/1000\n",
      "5261/5261 [==============================] - 0s 13us/step - loss: 0.9571 - acc: 0.5906 - RMSE: 0.2780 - val_loss: 1.0173 - val_acc: 0.5829 - val_RMSE: 0.2811\n",
      "Epoch 62/1000\n",
      "5261/5261 [==============================] - 0s 13us/step - loss: 0.9643 - acc: 0.5790 - RMSE: 0.2787 - val_loss: 1.0204 - val_acc: 0.5726 - val_RMSE: 0.2817\n",
      "Epoch 63/1000\n",
      "5261/5261 [==============================] - 0s 13us/step - loss: 0.9641 - acc: 0.5763 - RMSE: 0.2785 - val_loss: 1.0049 - val_acc: 0.5829 - val_RMSE: 0.2789\n",
      "Epoch 64/1000\n",
      "5261/5261 [==============================] - 0s 13us/step - loss: 0.9589 - acc: 0.5847 - RMSE: 0.2762 - val_loss: 1.0099 - val_acc: 0.5863 - val_RMSE: 0.2800\n",
      "Epoch 65/1000\n",
      "5261/5261 [==============================] - 0s 13us/step - loss: 0.9531 - acc: 0.5879 - RMSE: 0.2770 - val_loss: 1.0056 - val_acc: 0.5761 - val_RMSE: 0.2807\n",
      "Epoch 66/1000\n",
      "5261/5261 [==============================] - 0s 13us/step - loss: 0.9604 - acc: 0.5805 - RMSE: 0.2769 - val_loss: 1.0076 - val_acc: 0.5880 - val_RMSE: 0.2798\n",
      "Epoch 67/1000\n",
      "5261/5261 [==============================] - 0s 13us/step - loss: 0.9480 - acc: 0.5881 - RMSE: 0.2773 - val_loss: 1.0101 - val_acc: 0.5761 - val_RMSE: 0.2800\n",
      "Epoch 68/1000\n",
      "5261/5261 [==============================] - 0s 13us/step - loss: 0.9468 - acc: 0.5902 - RMSE: 0.2758 - val_loss: 0.9990 - val_acc: 0.5863 - val_RMSE: 0.2791\n",
      "Epoch 69/1000\n",
      "5261/5261 [==============================] - 0s 13us/step - loss: 0.9503 - acc: 0.5898 - RMSE: 0.2769 - val_loss: 1.0435 - val_acc: 0.5641 - val_RMSE: 0.2849\n",
      "Epoch 70/1000\n",
      "5261/5261 [==============================] - 0s 13us/step - loss: 0.9434 - acc: 0.5877 - RMSE: 0.2754 - val_loss: 1.0184 - val_acc: 0.5692 - val_RMSE: 0.2803\n",
      "Epoch 71/1000\n",
      "5261/5261 [==============================] - 0s 13us/step - loss: 0.9441 - acc: 0.5872 - RMSE: 0.2766 - val_loss: 1.0104 - val_acc: 0.5795 - val_RMSE: 0.2811\n",
      "Epoch 72/1000\n",
      "5261/5261 [==============================] - 0s 13us/step - loss: 0.9392 - acc: 0.5942 - RMSE: 0.2757 - val_loss: 1.0066 - val_acc: 0.5573 - val_RMSE: 0.2800\n",
      "Epoch 73/1000\n",
      "5261/5261 [==============================] - 0s 13us/step - loss: 0.9382 - acc: 0.6027 - RMSE: 0.2728 - val_loss: 1.0193 - val_acc: 0.5880 - val_RMSE: 0.2785\n",
      "Epoch 74/1000\n",
      "5261/5261 [==============================] - 0s 13us/step - loss: 0.9328 - acc: 0.5942 - RMSE: 0.2740 - val_loss: 1.0387 - val_acc: 0.5829 - val_RMSE: 0.2813\n",
      "Epoch 75/1000\n",
      "5261/5261 [==============================] - 0s 13us/step - loss: 0.9392 - acc: 0.5902 - RMSE: 0.2755 - val_loss: 0.9994 - val_acc: 0.5744 - val_RMSE: 0.2796\n",
      "Epoch 76/1000\n",
      "5261/5261 [==============================] - 0s 13us/step - loss: 0.9267 - acc: 0.6014 - RMSE: 0.2732 - val_loss: 1.0198 - val_acc: 0.5829 - val_RMSE: 0.2819\n",
      "Epoch 77/1000\n",
      "5261/5261 [==============================] - 0s 13us/step - loss: 0.9417 - acc: 0.5925 - RMSE: 0.2758 - val_loss: 1.0196 - val_acc: 0.5795 - val_RMSE: 0.2808\n",
      "Epoch 78/1000\n",
      "5261/5261 [==============================] - 0s 13us/step - loss: 0.9252 - acc: 0.5972 - RMSE: 0.2724 - val_loss: 1.0290 - val_acc: 0.5709 - val_RMSE: 0.2822\n",
      "Epoch 79/1000\n",
      "5261/5261 [==============================] - 0s 13us/step - loss: 0.9206 - acc: 0.6016 - RMSE: 0.2730 - val_loss: 1.0224 - val_acc: 0.5675 - val_RMSE: 0.2814\n",
      "Epoch 80/1000\n",
      "5261/5261 [==============================] - 0s 13us/step - loss: 0.9238 - acc: 0.5986 - RMSE: 0.2736 - val_loss: 1.0152 - val_acc: 0.5846 - val_RMSE: 0.2805\n",
      "Epoch 81/1000\n",
      "5261/5261 [==============================] - 0s 13us/step - loss: 0.9683 - acc: 0.5828 - RMSE: 0.2791 - val_loss: 1.0339 - val_acc: 0.5675 - val_RMSE: 0.2833\n",
      "Epoch 82/1000\n",
      "5261/5261 [==============================] - 0s 13us/step - loss: 0.9166 - acc: 0.6052 - RMSE: 0.2733 - val_loss: 1.0132 - val_acc: 0.5915 - val_RMSE: 0.2789\n",
      "Epoch 83/1000\n",
      "5261/5261 [==============================] - 0s 13us/step - loss: 0.9164 - acc: 0.6056 - RMSE: 0.2722 - val_loss: 1.0272 - val_acc: 0.5521 - val_RMSE: 0.2811\n",
      "Epoch 84/1000\n",
      "5261/5261 [==============================] - 0s 13us/step - loss: 0.9118 - acc: 0.6008 - RMSE: 0.2733 - val_loss: 1.0307 - val_acc: 0.5966 - val_RMSE: 0.2794\n",
      "Epoch 85/1000\n",
      "5261/5261 [==============================] - 0s 14us/step - loss: 0.9036 - acc: 0.6086 - RMSE: 0.2713 - val_loss: 1.0232 - val_acc: 0.5778 - val_RMSE: 0.2804\n",
      "Epoch 86/1000\n",
      "5261/5261 [==============================] - 0s 13us/step - loss: 0.9147 - acc: 0.6060 - RMSE: 0.2712 - val_loss: 1.0506 - val_acc: 0.5607 - val_RMSE: 0.2844\n",
      "Epoch 87/1000\n",
      "5261/5261 [==============================] - 0s 14us/step - loss: 0.9284 - acc: 0.5965 - RMSE: 0.2744 - val_loss: 1.0379 - val_acc: 0.5829 - val_RMSE: 0.2828\n",
      "Epoch 88/1000\n",
      "5261/5261 [==============================] - 0s 14us/step - loss: 0.8941 - acc: 0.6162 - RMSE: 0.2679 - val_loss: 1.0325 - val_acc: 0.5829 - val_RMSE: 0.2807\n",
      "Epoch 89/1000\n",
      "5261/5261 [==============================] - 0s 13us/step - loss: 0.8962 - acc: 0.6132 - RMSE: 0.2705 - val_loss: 1.0173 - val_acc: 0.5812 - val_RMSE: 0.2793\n",
      "Epoch 90/1000\n",
      "5261/5261 [==============================] - 0s 13us/step - loss: 0.8957 - acc: 0.6105 - RMSE: 0.2695 - val_loss: 1.0284 - val_acc: 0.5812 - val_RMSE: 0.2807\n",
      "Epoch 91/1000\n",
      "5261/5261 [==============================] - 0s 13us/step - loss: 0.8971 - acc: 0.6121 - RMSE: 0.2697 - val_loss: 1.0351 - val_acc: 0.5778 - val_RMSE: 0.2804\n",
      "Epoch 92/1000\n",
      "5261/5261 [==============================] - 0s 13us/step - loss: 0.8892 - acc: 0.6155 - RMSE: 0.2685 - val_loss: 1.0552 - val_acc: 0.5658 - val_RMSE: 0.2827\n",
      "Epoch 93/1000\n",
      "5261/5261 [==============================] - 0s 14us/step - loss: 0.8912 - acc: 0.6145 - RMSE: 0.2689 - val_loss: 1.0335 - val_acc: 0.5726 - val_RMSE: 0.2812\n",
      "Epoch 94/1000\n",
      "5261/5261 [==============================] - 0s 14us/step - loss: 0.8926 - acc: 0.6153 - RMSE: 0.2695 - val_loss: 1.0386 - val_acc: 0.5812 - val_RMSE: 0.2797\n",
      "Epoch 95/1000\n",
      "5261/5261 [==============================] - 0s 14us/step - loss: 0.8908 - acc: 0.6096 - RMSE: 0.2688 - val_loss: 1.0436 - val_acc: 0.5744 - val_RMSE: 0.2810\n"
     ]
    },
    {
     "name": "stdout",
     "output_type": "stream",
     "text": [
      "Epoch 96/1000\n",
      "5261/5261 [==============================] - 0s 14us/step - loss: 0.8837 - acc: 0.6159 - RMSE: 0.2677 - val_loss: 1.0564 - val_acc: 0.5590 - val_RMSE: 0.2844\n",
      "Epoch 97/1000\n",
      "5261/5261 [==============================] - 0s 13us/step - loss: 0.8772 - acc: 0.6178 - RMSE: 0.2673 - val_loss: 1.0445 - val_acc: 0.5829 - val_RMSE: 0.2804\n",
      "Epoch 98/1000\n",
      "5261/5261 [==============================] - 0s 13us/step - loss: 0.8831 - acc: 0.6126 - RMSE: 0.2686 - val_loss: 1.0137 - val_acc: 0.5966 - val_RMSE: 0.2781\n",
      "Epoch 99/1000\n",
      "5261/5261 [==============================] - 0s 13us/step - loss: 0.8693 - acc: 0.6193 - RMSE: 0.2660 - val_loss: 1.0199 - val_acc: 0.5658 - val_RMSE: 0.2776\n",
      "Epoch 100/1000\n",
      "5261/5261 [==============================] - 0s 13us/step - loss: 0.8802 - acc: 0.6204 - RMSE: 0.2689 - val_loss: 1.0589 - val_acc: 0.5675 - val_RMSE: 0.2810\n",
      "Epoch 101/1000\n",
      "5261/5261 [==============================] - 0s 13us/step - loss: 0.8708 - acc: 0.6189 - RMSE: 0.2669 - val_loss: 1.0303 - val_acc: 0.5795 - val_RMSE: 0.2793\n",
      "Epoch 102/1000\n",
      "5261/5261 [==============================] - 0s 14us/step - loss: 0.8648 - acc: 0.6191 - RMSE: 0.2647 - val_loss: 1.0216 - val_acc: 0.5880 - val_RMSE: 0.2792\n",
      "Epoch 103/1000\n",
      "5261/5261 [==============================] - 0s 13us/step - loss: 0.8517 - acc: 0.6322 - RMSE: 0.2651 - val_loss: 1.0329 - val_acc: 0.5983 - val_RMSE: 0.2787\n",
      "Epoch 104/1000\n",
      "5261/5261 [==============================] - 0s 13us/step - loss: 0.8553 - acc: 0.6242 - RMSE: 0.2642 - val_loss: 1.0449 - val_acc: 0.5795 - val_RMSE: 0.2806\n",
      "Epoch 105/1000\n",
      "5261/5261 [==============================] - 0s 13us/step - loss: 0.8590 - acc: 0.6244 - RMSE: 0.2654 - val_loss: 1.0633 - val_acc: 0.5607 - val_RMSE: 0.2810\n",
      "Epoch 106/1000\n",
      "5261/5261 [==============================] - 0s 13us/step - loss: 0.8608 - acc: 0.6252 - RMSE: 0.2669 - val_loss: 1.0365 - val_acc: 0.5744 - val_RMSE: 0.2803\n",
      "Epoch 107/1000\n",
      "5261/5261 [==============================] - 0s 13us/step - loss: 0.8641 - acc: 0.6284 - RMSE: 0.2645 - val_loss: 1.0489 - val_acc: 0.5744 - val_RMSE: 0.2807\n",
      "Epoch 108/1000\n",
      "5261/5261 [==============================] - 0s 13us/step - loss: 0.8507 - acc: 0.6269 - RMSE: 0.2636 - val_loss: 1.0492 - val_acc: 0.5726 - val_RMSE: 0.2815\n",
      "Epoch 109/1000\n",
      "5261/5261 [==============================] - 0s 13us/step - loss: 0.8446 - acc: 0.6312 - RMSE: 0.2612 - val_loss: 1.0673 - val_acc: 0.5915 - val_RMSE: 0.2797\n",
      "Epoch 110/1000\n",
      "5261/5261 [==============================] - 0s 13us/step - loss: 0.8413 - acc: 0.6322 - RMSE: 0.2620 - val_loss: 1.0372 - val_acc: 0.5863 - val_RMSE: 0.2772\n",
      "Epoch 111/1000\n",
      "5261/5261 [==============================] - 0s 14us/step - loss: 0.8309 - acc: 0.6347 - RMSE: 0.2618 - val_loss: 1.0821 - val_acc: 0.5778 - val_RMSE: 0.2813\n",
      "Epoch 112/1000\n",
      "5261/5261 [==============================] - 0s 13us/step - loss: 0.8521 - acc: 0.6255 - RMSE: 0.2647 - val_loss: 1.0615 - val_acc: 0.5915 - val_RMSE: 0.2805\n",
      "Epoch 113/1000\n",
      "5261/5261 [==============================] - 0s 13us/step - loss: 0.8437 - acc: 0.6349 - RMSE: 0.2629 - val_loss: 1.0552 - val_acc: 0.5829 - val_RMSE: 0.2792\n",
      "Epoch 114/1000\n",
      "5261/5261 [==============================] - 0s 13us/step - loss: 0.8372 - acc: 0.6274 - RMSE: 0.2614 - val_loss: 1.0607 - val_acc: 0.5778 - val_RMSE: 0.2792\n",
      "Epoch 115/1000\n",
      "5261/5261 [==============================] - 0s 13us/step - loss: 0.8314 - acc: 0.6356 - RMSE: 0.2610 - val_loss: 1.0353 - val_acc: 0.6120 - val_RMSE: 0.2765\n",
      "Epoch 116/1000\n",
      "5261/5261 [==============================] - 0s 13us/step - loss: 0.8241 - acc: 0.6491 - RMSE: 0.2593 - val_loss: 1.0501 - val_acc: 0.6000 - val_RMSE: 0.2790\n",
      "Epoch 117/1000\n",
      "5261/5261 [==============================] - 0s 13us/step - loss: 0.8305 - acc: 0.6362 - RMSE: 0.2609 - val_loss: 1.0383 - val_acc: 0.5983 - val_RMSE: 0.2771\n",
      "Epoch 118/1000\n",
      "5261/5261 [==============================] - 0s 13us/step - loss: 0.8209 - acc: 0.6474 - RMSE: 0.2597 - val_loss: 1.0658 - val_acc: 0.5761 - val_RMSE: 0.2802\n",
      "Epoch 119/1000\n",
      "5261/5261 [==============================] - 0s 13us/step - loss: 0.8221 - acc: 0.6423 - RMSE: 0.2599 - val_loss: 1.0725 - val_acc: 0.5795 - val_RMSE: 0.2801\n",
      "Epoch 120/1000\n",
      "5261/5261 [==============================] - 0s 13us/step - loss: 0.8134 - acc: 0.6432 - RMSE: 0.2581 - val_loss: 1.0912 - val_acc: 0.5692 - val_RMSE: 0.2822\n",
      "Epoch 121/1000\n",
      "5261/5261 [==============================] - 0s 13us/step - loss: 0.8051 - acc: 0.6493 - RMSE: 0.2567 - val_loss: 1.0526 - val_acc: 0.5658 - val_RMSE: 0.2794\n",
      "Epoch 122/1000\n",
      "5261/5261 [==============================] - 0s 13us/step - loss: 0.8061 - acc: 0.6465 - RMSE: 0.2579 - val_loss: 1.0706 - val_acc: 0.5846 - val_RMSE: 0.2817\n",
      "Epoch 123/1000\n",
      "5261/5261 [==============================] - 0s 13us/step - loss: 0.8107 - acc: 0.6495 - RMSE: 0.2576 - val_loss: 1.0655 - val_acc: 0.5880 - val_RMSE: 0.2794\n",
      "Epoch 124/1000\n",
      "5261/5261 [==============================] - 0s 14us/step - loss: 0.8040 - acc: 0.6533 - RMSE: 0.2553 - val_loss: 1.0574 - val_acc: 0.5983 - val_RMSE: 0.2767\n",
      "Epoch 125/1000\n",
      "5261/5261 [==============================] - 0s 13us/step - loss: 0.7901 - acc: 0.6546 - RMSE: 0.2537 - val_loss: 1.0757 - val_acc: 0.5812 - val_RMSE: 0.2809\n",
      "Epoch 126/1000\n",
      "5261/5261 [==============================] - 0s 14us/step - loss: 0.7921 - acc: 0.6472 - RMSE: 0.2540 - val_loss: 1.0942 - val_acc: 0.5692 - val_RMSE: 0.2826\n",
      "Epoch 127/1000\n",
      "5261/5261 [==============================] - 0s 13us/step - loss: 0.7899 - acc: 0.6594 - RMSE: 0.2552 - val_loss: 1.0682 - val_acc: 0.5778 - val_RMSE: 0.2810\n",
      "Epoch 128/1000\n",
      "5261/5261 [==============================] - 0s 13us/step - loss: 0.8010 - acc: 0.6508 - RMSE: 0.2572 - val_loss: 1.0749 - val_acc: 0.5744 - val_RMSE: 0.2807\n",
      "Epoch 129/1000\n",
      "5261/5261 [==============================] - 0s 13us/step - loss: 0.8073 - acc: 0.6527 - RMSE: 0.2554 - val_loss: 1.0759 - val_acc: 0.5863 - val_RMSE: 0.2817\n",
      "Epoch 130/1000\n",
      "5261/5261 [==============================] - 0s 13us/step - loss: 0.8027 - acc: 0.6482 - RMSE: 0.2557 - val_loss: 1.0567 - val_acc: 0.5573 - val_RMSE: 0.2809\n",
      "Epoch 131/1000\n",
      "5261/5261 [==============================] - 0s 13us/step - loss: 0.8129 - acc: 0.6455 - RMSE: 0.2581 - val_loss: 1.0831 - val_acc: 0.5932 - val_RMSE: 0.2805\n",
      "Epoch 132/1000\n",
      "5261/5261 [==============================] - 0s 13us/step - loss: 0.7915 - acc: 0.6561 - RMSE: 0.2547 - val_loss: 1.1051 - val_acc: 0.5897 - val_RMSE: 0.2787\n",
      "Epoch 133/1000\n",
      "5261/5261 [==============================] - 0s 13us/step - loss: 0.7932 - acc: 0.6601 - RMSE: 0.2543 - val_loss: 1.1178 - val_acc: 0.5624 - val_RMSE: 0.2832\n",
      "Epoch 134/1000\n",
      "5261/5261 [==============================] - 0s 13us/step - loss: 0.7761 - acc: 0.6615 - RMSE: 0.2528 - val_loss: 1.0997 - val_acc: 0.5692 - val_RMSE: 0.2806\n",
      "Epoch 135/1000\n",
      "5261/5261 [==============================] - 0s 14us/step - loss: 0.7882 - acc: 0.6550 - RMSE: 0.2558 - val_loss: 1.0945 - val_acc: 0.5846 - val_RMSE: 0.2813\n",
      "Epoch 136/1000\n",
      "5261/5261 [==============================] - 0s 13us/step - loss: 0.7715 - acc: 0.6649 - RMSE: 0.2523 - val_loss: 1.0808 - val_acc: 0.5778 - val_RMSE: 0.2787\n",
      "Epoch 137/1000\n",
      "5261/5261 [==============================] - 0s 13us/step - loss: 0.7747 - acc: 0.6664 - RMSE: 0.2536 - val_loss: 1.1356 - val_acc: 0.5744 - val_RMSE: 0.2825\n",
      "Epoch 138/1000\n",
      "5261/5261 [==============================] - 0s 13us/step - loss: 0.7776 - acc: 0.6626 - RMSE: 0.2530 - val_loss: 1.1277 - val_acc: 0.5641 - val_RMSE: 0.2860\n",
      "Epoch 139/1000\n",
      "5261/5261 [==============================] - 0s 13us/step - loss: 0.7594 - acc: 0.6767 - RMSE: 0.2495 - val_loss: 1.1187 - val_acc: 0.5726 - val_RMSE: 0.2805\n",
      "Epoch 140/1000\n",
      "5261/5261 [==============================] - 0s 13us/step - loss: 0.7675 - acc: 0.6685 - RMSE: 0.2505 - val_loss: 1.0931 - val_acc: 0.5829 - val_RMSE: 0.2806\n",
      "Epoch 141/1000\n",
      "5261/5261 [==============================] - 0s 13us/step - loss: 0.7632 - acc: 0.6714 - RMSE: 0.2509 - val_loss: 1.0992 - val_acc: 0.5658 - val_RMSE: 0.2831\n",
      "Epoch 142/1000\n",
      "5261/5261 [==============================] - 0s 13us/step - loss: 0.7835 - acc: 0.6632 - RMSE: 0.2550 - val_loss: 1.0900 - val_acc: 0.5795 - val_RMSE: 0.2818\n",
      "Epoch 143/1000\n"
     ]
    },
    {
     "name": "stdout",
     "output_type": "stream",
     "text": [
      "5261/5261 [==============================] - 0s 13us/step - loss: 0.7625 - acc: 0.6717 - RMSE: 0.2498 - val_loss: 1.1253 - val_acc: 0.5726 - val_RMSE: 0.2806\n",
      "Epoch 144/1000\n",
      "5261/5261 [==============================] - 0s 13us/step - loss: 0.7539 - acc: 0.6734 - RMSE: 0.2485 - val_loss: 1.1337 - val_acc: 0.5812 - val_RMSE: 0.2814\n",
      "Epoch 145/1000\n",
      "5261/5261 [==============================] - 0s 13us/step - loss: 0.7442 - acc: 0.6740 - RMSE: 0.2489 - val_loss: 1.1297 - val_acc: 0.5744 - val_RMSE: 0.2831\n",
      "Epoch 146/1000\n",
      "5261/5261 [==============================] - 0s 13us/step - loss: 0.7511 - acc: 0.6755 - RMSE: 0.2484 - val_loss: 1.1160 - val_acc: 0.5778 - val_RMSE: 0.2842\n",
      "Epoch 147/1000\n",
      "5261/5261 [==============================] - 0s 13us/step - loss: 0.7446 - acc: 0.6786 - RMSE: 0.2474 - val_loss: 1.1084 - val_acc: 0.5966 - val_RMSE: 0.2787\n",
      "Epoch 148/1000\n",
      "5261/5261 [==============================] - 0s 13us/step - loss: 0.7310 - acc: 0.6839 - RMSE: 0.2462 - val_loss: 1.1652 - val_acc: 0.5607 - val_RMSE: 0.2851\n",
      "Epoch 149/1000\n",
      "5261/5261 [==============================] - 0s 13us/step - loss: 0.7416 - acc: 0.6791 - RMSE: 0.2470 - val_loss: 1.1562 - val_acc: 0.5641 - val_RMSE: 0.2875\n",
      "Epoch 150/1000\n",
      "5261/5261 [==============================] - 0s 13us/step - loss: 0.8116 - acc: 0.6503 - RMSE: 0.2575 - val_loss: 1.1122 - val_acc: 0.5795 - val_RMSE: 0.2833\n",
      "Epoch 151/1000\n",
      "5261/5261 [==============================] - 0s 13us/step - loss: 0.7514 - acc: 0.6753 - RMSE: 0.2494 - val_loss: 1.1692 - val_acc: 0.5709 - val_RMSE: 0.2833\n",
      "Epoch 152/1000\n",
      "5261/5261 [==============================] - 0s 13us/step - loss: 0.7634 - acc: 0.6693 - RMSE: 0.2511 - val_loss: 1.1456 - val_acc: 0.5658 - val_RMSE: 0.2872\n",
      "Epoch 153/1000\n",
      "5261/5261 [==============================] - 0s 13us/step - loss: 0.7338 - acc: 0.6873 - RMSE: 0.2453 - val_loss: 1.1248 - val_acc: 0.5863 - val_RMSE: 0.2850\n",
      "Epoch 154/1000\n",
      "5261/5261 [==============================] - 0s 14us/step - loss: 0.7390 - acc: 0.6873 - RMSE: 0.2461 - val_loss: 1.1260 - val_acc: 0.5726 - val_RMSE: 0.2828\n",
      "Epoch 155/1000\n",
      "5261/5261 [==============================] - 0s 17us/step - loss: 0.7240 - acc: 0.6831 - RMSE: 0.2447 - val_loss: 1.1303 - val_acc: 0.5778 - val_RMSE: 0.2847\n",
      "Epoch 156/1000\n",
      "5261/5261 [==============================] - 0s 17us/step - loss: 0.7255 - acc: 0.6894 - RMSE: 0.2435 - val_loss: 1.1706 - val_acc: 0.5863 - val_RMSE: 0.2832\n",
      "Epoch 157/1000\n",
      "5261/5261 [==============================] - 0s 17us/step - loss: 0.7281 - acc: 0.6877 - RMSE: 0.2447 - val_loss: 1.1823 - val_acc: 0.5778 - val_RMSE: 0.2831\n",
      "Epoch 158/1000\n",
      "5261/5261 [==============================] - 0s 15us/step - loss: 0.7224 - acc: 0.6953 - RMSE: 0.2434 - val_loss: 1.2023 - val_acc: 0.5590 - val_RMSE: 0.2872\n",
      "Epoch 159/1000\n",
      "5261/5261 [==============================] - 0s 13us/step - loss: 0.7096 - acc: 0.6898 - RMSE: 0.2412 - val_loss: 1.1534 - val_acc: 0.5846 - val_RMSE: 0.2826\n",
      "Epoch 160/1000\n",
      "5261/5261 [==============================] - 0s 14us/step - loss: 0.6930 - acc: 0.7079 - RMSE: 0.2387 - val_loss: 1.1647 - val_acc: 0.5744 - val_RMSE: 0.2833\n",
      "Epoch 161/1000\n",
      "5261/5261 [==============================] - 0s 13us/step - loss: 0.6991 - acc: 0.7027 - RMSE: 0.2405 - val_loss: 1.1801 - val_acc: 0.5897 - val_RMSE: 0.2844\n",
      "Epoch 162/1000\n",
      "5261/5261 [==============================] - 0s 13us/step - loss: 0.7152 - acc: 0.6915 - RMSE: 0.2418 - val_loss: 1.1803 - val_acc: 0.5692 - val_RMSE: 0.2868\n",
      "Epoch 163/1000\n",
      "5261/5261 [==============================] - 0s 13us/step - loss: 0.7116 - acc: 0.6942 - RMSE: 0.2424 - val_loss: 1.1387 - val_acc: 0.5812 - val_RMSE: 0.2834\n",
      "Epoch 164/1000\n",
      "5261/5261 [==============================] - 0s 13us/step - loss: 0.7102 - acc: 0.6972 - RMSE: 0.2424 - val_loss: 1.1928 - val_acc: 0.5726 - val_RMSE: 0.2868\n",
      "Epoch 165/1000\n",
      "5261/5261 [==============================] - 0s 13us/step - loss: 0.7162 - acc: 0.6970 - RMSE: 0.2416 - val_loss: 1.1693 - val_acc: 0.5983 - val_RMSE: 0.2816\n",
      "Epoch 166/1000\n",
      "5261/5261 [==============================] - 0s 13us/step - loss: 0.7054 - acc: 0.7004 - RMSE: 0.2402 - val_loss: 1.2336 - val_acc: 0.5744 - val_RMSE: 0.2890\n",
      "Epoch 167/1000\n",
      "5261/5261 [==============================] - 0s 13us/step - loss: 0.6905 - acc: 0.7080 - RMSE: 0.2379 - val_loss: 1.2021 - val_acc: 0.5692 - val_RMSE: 0.2859\n",
      "Epoch 168/1000\n",
      "5261/5261 [==============================] - 0s 13us/step - loss: 0.6866 - acc: 0.7086 - RMSE: 0.2374 - val_loss: 1.1902 - val_acc: 0.5778 - val_RMSE: 0.2824\n",
      "Epoch 169/1000\n",
      "5261/5261 [==============================] - 0s 13us/step - loss: 0.6777 - acc: 0.7079 - RMSE: 0.2354 - val_loss: 1.2141 - val_acc: 0.5538 - val_RMSE: 0.2897\n",
      "Epoch 170/1000\n",
      "5261/5261 [==============================] - 0s 15us/step - loss: 0.6668 - acc: 0.7217 - RMSE: 0.2340 - val_loss: 1.2548 - val_acc: 0.5573 - val_RMSE: 0.2886\n",
      "Epoch 171/1000\n",
      "5261/5261 [==============================] - 0s 16us/step - loss: 0.6872 - acc: 0.7073 - RMSE: 0.2375 - val_loss: 1.1999 - val_acc: 0.5863 - val_RMSE: 0.2855\n",
      "Epoch 172/1000\n",
      "5261/5261 [==============================] - 0s 17us/step - loss: 0.6781 - acc: 0.7156 - RMSE: 0.2347 - val_loss: 1.2099 - val_acc: 0.5726 - val_RMSE: 0.2856\n",
      "Epoch 173/1000\n",
      "5261/5261 [==============================] - 0s 14us/step - loss: 0.6793 - acc: 0.7126 - RMSE: 0.2365 - val_loss: 1.1905 - val_acc: 0.5709 - val_RMSE: 0.2849\n",
      "Epoch 174/1000\n",
      "5261/5261 [==============================] - 0s 14us/step - loss: 0.6877 - acc: 0.7063 - RMSE: 0.2378 - val_loss: 1.2452 - val_acc: 0.5726 - val_RMSE: 0.2862\n",
      "Epoch 175/1000\n",
      "5261/5261 [==============================] - 0s 14us/step - loss: 0.6842 - acc: 0.7023 - RMSE: 0.2371 - val_loss: 1.2523 - val_acc: 0.5675 - val_RMSE: 0.2874\n",
      "Epoch 176/1000\n",
      "5261/5261 [==============================] - 0s 14us/step - loss: 0.6651 - acc: 0.7181 - RMSE: 0.2339 - val_loss: 1.1837 - val_acc: 0.5983 - val_RMSE: 0.2818\n",
      "Epoch 177/1000\n",
      "5261/5261 [==============================] - 0s 13us/step - loss: 0.6663 - acc: 0.7204 - RMSE: 0.2335 - val_loss: 1.2435 - val_acc: 0.5624 - val_RMSE: 0.2876\n",
      "Epoch 178/1000\n",
      "5261/5261 [==============================] - 0s 13us/step - loss: 0.6606 - acc: 0.7185 - RMSE: 0.2326 - val_loss: 1.2322 - val_acc: 0.5658 - val_RMSE: 0.2837\n",
      "Epoch 179/1000\n",
      "5261/5261 [==============================] - 0s 13us/step - loss: 0.6591 - acc: 0.7253 - RMSE: 0.2329 - val_loss: 1.2814 - val_acc: 0.5692 - val_RMSE: 0.2913\n",
      "Epoch 180/1000\n",
      "5261/5261 [==============================] - 0s 13us/step - loss: 0.6630 - acc: 0.7109 - RMSE: 0.2339 - val_loss: 1.2341 - val_acc: 0.5709 - val_RMSE: 0.2874\n",
      "Epoch 181/1000\n",
      "5261/5261 [==============================] - 0s 13us/step - loss: 0.6518 - acc: 0.7227 - RMSE: 0.2305 - val_loss: 1.3109 - val_acc: 0.5590 - val_RMSE: 0.2914\n",
      "Epoch 182/1000\n",
      "5261/5261 [==============================] - 0s 14us/step - loss: 0.6531 - acc: 0.7250 - RMSE: 0.2328 - val_loss: 1.2638 - val_acc: 0.5795 - val_RMSE: 0.2886\n",
      "Epoch 183/1000\n",
      "5261/5261 [==============================] - 0s 13us/step - loss: 0.6457 - acc: 0.7307 - RMSE: 0.2299 - val_loss: 1.2543 - val_acc: 0.5863 - val_RMSE: 0.2849\n",
      "Epoch 184/1000\n",
      "5261/5261 [==============================] - 0s 13us/step - loss: 0.6429 - acc: 0.7297 - RMSE: 0.2293 - val_loss: 1.2924 - val_acc: 0.5624 - val_RMSE: 0.2902\n",
      "Epoch 185/1000\n",
      "5261/5261 [==============================] - 0s 13us/step - loss: 0.6414 - acc: 0.7272 - RMSE: 0.2291 - val_loss: 1.2667 - val_acc: 0.5846 - val_RMSE: 0.2854\n",
      "Epoch 186/1000\n",
      "5261/5261 [==============================] - 0s 13us/step - loss: 0.6585 - acc: 0.7231 - RMSE: 0.2328 - val_loss: 1.4225 - val_acc: 0.5419 - val_RMSE: 0.2975\n",
      "Epoch 187/1000\n",
      "5261/5261 [==============================] - 0s 14us/step - loss: 0.6514 - acc: 0.7299 - RMSE: 0.2325 - val_loss: 1.2629 - val_acc: 0.5658 - val_RMSE: 0.2887\n",
      "Epoch 188/1000\n",
      "5261/5261 [==============================] - 0s 14us/step - loss: 0.6661 - acc: 0.7194 - RMSE: 0.2319 - val_loss: 1.2901 - val_acc: 0.5812 - val_RMSE: 0.2883\n",
      "Epoch 189/1000\n",
      "5261/5261 [==============================] - 0s 14us/step - loss: 0.6438 - acc: 0.7314 - RMSE: 0.2290 - val_loss: 1.3041 - val_acc: 0.5709 - val_RMSE: 0.2909\n",
      "Epoch 190/1000\n"
     ]
    },
    {
     "name": "stdout",
     "output_type": "stream",
     "text": [
      "5261/5261 [==============================] - 0s 13us/step - loss: 0.6465 - acc: 0.7284 - RMSE: 0.2297 - val_loss: 1.3197 - val_acc: 0.5761 - val_RMSE: 0.2888\n",
      "Epoch 191/1000\n",
      "5261/5261 [==============================] - 0s 13us/step - loss: 0.6429 - acc: 0.7297 - RMSE: 0.2287 - val_loss: 1.3278 - val_acc: 0.5675 - val_RMSE: 0.2897\n",
      "Epoch 192/1000\n",
      "5261/5261 [==============================] - 0s 13us/step - loss: 0.6424 - acc: 0.7221 - RMSE: 0.2311 - val_loss: 1.3554 - val_acc: 0.5795 - val_RMSE: 0.2910\n",
      "Epoch 193/1000\n",
      "5261/5261 [==============================] - 0s 13us/step - loss: 0.6192 - acc: 0.7404 - RMSE: 0.2256 - val_loss: 1.2978 - val_acc: 0.5726 - val_RMSE: 0.2886\n",
      "Epoch 194/1000\n",
      "5261/5261 [==============================] - 0s 13us/step - loss: 0.6372 - acc: 0.7310 - RMSE: 0.2282 - val_loss: 1.3620 - val_acc: 0.5761 - val_RMSE: 0.2908\n",
      "Epoch 195/1000\n",
      "5261/5261 [==============================] - 0s 13us/step - loss: 0.6308 - acc: 0.7375 - RMSE: 0.2278 - val_loss: 1.3524 - val_acc: 0.5641 - val_RMSE: 0.2921\n",
      "Epoch 196/1000\n",
      "5261/5261 [==============================] - 0s 13us/step - loss: 0.6604 - acc: 0.7170 - RMSE: 0.2342 - val_loss: 1.3825 - val_acc: 0.5538 - val_RMSE: 0.2946\n",
      "Epoch 197/1000\n",
      "5261/5261 [==============================] - 0s 13us/step - loss: 0.6309 - acc: 0.7430 - RMSE: 0.2279 - val_loss: 1.3711 - val_acc: 0.5607 - val_RMSE: 0.2935\n",
      "Epoch 198/1000\n",
      "5261/5261 [==============================] - 0s 13us/step - loss: 0.6285 - acc: 0.7331 - RMSE: 0.2290 - val_loss: 1.3184 - val_acc: 0.5778 - val_RMSE: 0.2886\n",
      "Epoch 199/1000\n",
      "5261/5261 [==============================] - 0s 13us/step - loss: 0.6494 - acc: 0.7265 - RMSE: 0.2305 - val_loss: 1.3238 - val_acc: 0.5538 - val_RMSE: 0.2949\n",
      "Epoch 200/1000\n",
      "5261/5261 [==============================] - 0s 13us/step - loss: 0.6382 - acc: 0.7383 - RMSE: 0.2290 - val_loss: 1.3414 - val_acc: 0.5504 - val_RMSE: 0.2943\n",
      "Epoch 201/1000\n",
      "5261/5261 [==============================] - 0s 13us/step - loss: 0.6352 - acc: 0.7293 - RMSE: 0.2285 - val_loss: 1.3843 - val_acc: 0.5607 - val_RMSE: 0.2941\n",
      "Epoch 202/1000\n",
      "5261/5261 [==============================] - 0s 14us/step - loss: 0.6268 - acc: 0.7377 - RMSE: 0.2266 - val_loss: 1.3866 - val_acc: 0.5573 - val_RMSE: 0.2939\n",
      "Epoch 203/1000\n",
      "5261/5261 [==============================] - 0s 13us/step - loss: 0.6202 - acc: 0.7462 - RMSE: 0.2237 - val_loss: 1.3437 - val_acc: 0.5692 - val_RMSE: 0.2919\n",
      "Epoch 204/1000\n",
      "5261/5261 [==============================] - 0s 14us/step - loss: 0.6155 - acc: 0.7426 - RMSE: 0.2242 - val_loss: 1.3669 - val_acc: 0.5709 - val_RMSE: 0.2924\n",
      "Epoch 205/1000\n",
      "5261/5261 [==============================] - 0s 18us/step - loss: 0.6136 - acc: 0.7423 - RMSE: 0.2244 - val_loss: 1.4086 - val_acc: 0.5744 - val_RMSE: 0.2929\n",
      "Epoch 206/1000\n",
      "5261/5261 [==============================] - 0s 17us/step - loss: 0.6097 - acc: 0.7445 - RMSE: 0.2239 - val_loss: 1.3958 - val_acc: 0.5504 - val_RMSE: 0.2949\n",
      "Epoch 207/1000\n",
      "5261/5261 [==============================] - 0s 17us/step - loss: 0.5984 - acc: 0.7457 - RMSE: 0.2208 - val_loss: 1.3666 - val_acc: 0.5778 - val_RMSE: 0.2918\n",
      "Epoch 208/1000\n",
      "5261/5261 [==============================] - 0s 17us/step - loss: 0.5814 - acc: 0.7626 - RMSE: 0.2166 - val_loss: 1.3800 - val_acc: 0.5726 - val_RMSE: 0.2898\n",
      "Epoch 209/1000\n",
      "5261/5261 [==============================] - 0s 14us/step - loss: 0.5745 - acc: 0.7580 - RMSE: 0.2166 - val_loss: 1.4160 - val_acc: 0.5624 - val_RMSE: 0.2925\n",
      "Epoch 210/1000\n",
      "5261/5261 [==============================] - 0s 14us/step - loss: 0.5896 - acc: 0.7554 - RMSE: 0.2186 - val_loss: 1.3949 - val_acc: 0.5675 - val_RMSE: 0.2933\n",
      "Epoch 211/1000\n",
      "5261/5261 [==============================] - 0s 13us/step - loss: 0.6053 - acc: 0.7462 - RMSE: 0.2221 - val_loss: 1.4868 - val_acc: 0.5726 - val_RMSE: 0.2968\n",
      "Epoch 212/1000\n",
      "5261/5261 [==============================] - 0s 13us/step - loss: 0.6085 - acc: 0.7457 - RMSE: 0.2240 - val_loss: 1.4270 - val_acc: 0.5812 - val_RMSE: 0.2909\n",
      "Epoch 213/1000\n",
      "5261/5261 [==============================] - 0s 13us/step - loss: 0.6150 - acc: 0.7493 - RMSE: 0.2242 - val_loss: 1.4589 - val_acc: 0.5744 - val_RMSE: 0.2976\n",
      "Epoch 214/1000\n",
      "5261/5261 [==============================] - 0s 13us/step - loss: 0.6977 - acc: 0.7134 - RMSE: 0.2362 - val_loss: 1.3941 - val_acc: 0.5795 - val_RMSE: 0.2941\n",
      "Epoch 215/1000\n",
      "5261/5261 [==============================] - 0s 13us/step - loss: 0.5862 - acc: 0.7542 - RMSE: 0.2196 - val_loss: 1.3635 - val_acc: 0.5744 - val_RMSE: 0.2902\n",
      "Epoch 216/1000\n",
      "5261/5261 [==============================] - 0s 13us/step - loss: 0.5867 - acc: 0.7586 - RMSE: 0.2195 - val_loss: 1.4727 - val_acc: 0.5795 - val_RMSE: 0.2931\n",
      "Epoch 217/1000\n",
      "5261/5261 [==============================] - 0s 13us/step - loss: 0.6149 - acc: 0.7388 - RMSE: 0.2233 - val_loss: 1.4220 - val_acc: 0.5812 - val_RMSE: 0.2943\n",
      "Epoch 218/1000\n",
      "5261/5261 [==============================] - 0s 13us/step - loss: 0.5693 - acc: 0.7637 - RMSE: 0.2150 - val_loss: 1.4431 - val_acc: 0.5607 - val_RMSE: 0.2955\n",
      "Epoch 219/1000\n",
      "5261/5261 [==============================] - 0s 14us/step - loss: 0.5664 - acc: 0.7677 - RMSE: 0.2167 - val_loss: 1.4014 - val_acc: 0.5726 - val_RMSE: 0.2924\n",
      "Epoch 220/1000\n",
      "5261/5261 [==============================] - 0s 13us/step - loss: 0.5920 - acc: 0.7552 - RMSE: 0.2202 - val_loss: 1.4009 - val_acc: 0.5692 - val_RMSE: 0.2923\n",
      "Epoch 221/1000\n",
      "5261/5261 [==============================] - 0s 14us/step - loss: 0.5963 - acc: 0.7516 - RMSE: 0.2209 - val_loss: 1.4141 - val_acc: 0.5778 - val_RMSE: 0.2952\n",
      "Epoch 222/1000\n",
      "5261/5261 [==============================] - 0s 14us/step - loss: 0.5827 - acc: 0.7510 - RMSE: 0.2189 - val_loss: 1.4070 - val_acc: 0.5726 - val_RMSE: 0.2939\n",
      "Epoch 223/1000\n",
      "5261/5261 [==============================] - 0s 14us/step - loss: 0.5787 - acc: 0.7599 - RMSE: 0.2170 - val_loss: 1.4009 - val_acc: 0.5761 - val_RMSE: 0.2941\n",
      "Epoch 224/1000\n",
      "5261/5261 [==============================] - 0s 14us/step - loss: 0.5675 - acc: 0.7626 - RMSE: 0.2162 - val_loss: 1.4230 - val_acc: 0.5795 - val_RMSE: 0.2925\n",
      "Epoch 225/1000\n",
      "5261/5261 [==============================] - 0s 13us/step - loss: 0.5538 - acc: 0.7666 - RMSE: 0.2127 - val_loss: 1.5248 - val_acc: 0.5812 - val_RMSE: 0.2964\n",
      "Epoch 226/1000\n",
      "5261/5261 [==============================] - 0s 14us/step - loss: 0.5698 - acc: 0.7660 - RMSE: 0.2131 - val_loss: 1.5159 - val_acc: 0.5624 - val_RMSE: 0.2949\n",
      "Epoch 227/1000\n",
      "5261/5261 [==============================] - 0s 14us/step - loss: 0.5559 - acc: 0.7708 - RMSE: 0.2132 - val_loss: 1.4574 - val_acc: 0.5658 - val_RMSE: 0.2971\n",
      "Epoch 228/1000\n",
      "5261/5261 [==============================] - 0s 13us/step - loss: 0.5784 - acc: 0.7592 - RMSE: 0.2173 - val_loss: 1.5066 - val_acc: 0.5726 - val_RMSE: 0.2981\n",
      "Epoch 229/1000\n",
      "5261/5261 [==============================] - 0s 13us/step - loss: 0.5403 - acc: 0.7768 - RMSE: 0.2095 - val_loss: 1.5144 - val_acc: 0.5863 - val_RMSE: 0.2931\n",
      "Epoch 230/1000\n",
      "5261/5261 [==============================] - 0s 14us/step - loss: 0.5523 - acc: 0.7670 - RMSE: 0.2129 - val_loss: 1.4397 - val_acc: 0.5778 - val_RMSE: 0.2921\n",
      "Epoch 231/1000\n",
      "5261/5261 [==============================] - 0s 13us/step - loss: 0.5504 - acc: 0.7664 - RMSE: 0.2150 - val_loss: 1.4511 - val_acc: 0.5812 - val_RMSE: 0.2933\n",
      "Epoch 232/1000\n",
      "5261/5261 [==============================] - 0s 14us/step - loss: 0.6185 - acc: 0.7371 - RMSE: 0.2246 - val_loss: 1.4829 - val_acc: 0.5709 - val_RMSE: 0.2948\n",
      "Epoch 233/1000\n",
      "5261/5261 [==============================] - 0s 13us/step - loss: 0.5692 - acc: 0.7645 - RMSE: 0.2153 - val_loss: 1.4030 - val_acc: 0.5795 - val_RMSE: 0.2917\n",
      "Epoch 234/1000\n",
      "5261/5261 [==============================] - 0s 13us/step - loss: 0.5412 - acc: 0.7763 - RMSE: 0.2103 - val_loss: 1.5587 - val_acc: 0.5744 - val_RMSE: 0.2964\n",
      "Epoch 235/1000\n",
      "5261/5261 [==============================] - 0s 13us/step - loss: 0.5503 - acc: 0.7670 - RMSE: 0.2134 - val_loss: 1.4963 - val_acc: 0.5761 - val_RMSE: 0.2939\n",
      "Epoch 236/1000\n",
      "5261/5261 [==============================] - 0s 13us/step - loss: 0.5426 - acc: 0.7765 - RMSE: 0.2104 - val_loss: 1.5491 - val_acc: 0.5863 - val_RMSE: 0.2935\n",
      "Epoch 237/1000\n"
     ]
    },
    {
     "name": "stdout",
     "output_type": "stream",
     "text": [
      "5261/5261 [==============================] - 0s 13us/step - loss: 0.5352 - acc: 0.7826 - RMSE: 0.2107 - val_loss: 1.4917 - val_acc: 0.5726 - val_RMSE: 0.2985\n",
      "Epoch 238/1000\n",
      "5261/5261 [==============================] - 0s 14us/step - loss: 0.5956 - acc: 0.7573 - RMSE: 0.2199 - val_loss: 1.5028 - val_acc: 0.5829 - val_RMSE: 0.2925\n",
      "Epoch 239/1000\n",
      "5261/5261 [==============================] - 0s 13us/step - loss: 0.6239 - acc: 0.7518 - RMSE: 0.2205 - val_loss: 1.4893 - val_acc: 0.5778 - val_RMSE: 0.2973\n",
      "Epoch 240/1000\n",
      "5261/5261 [==============================] - 0s 14us/step - loss: 0.5667 - acc: 0.7630 - RMSE: 0.2166 - val_loss: 1.5274 - val_acc: 0.5726 - val_RMSE: 0.2971\n",
      "Epoch 241/1000\n",
      "5261/5261 [==============================] - 0s 14us/step - loss: 0.5627 - acc: 0.7694 - RMSE: 0.2126 - val_loss: 1.5322 - val_acc: 0.5761 - val_RMSE: 0.2946\n",
      "Epoch 242/1000\n",
      "5261/5261 [==============================] - 0s 14us/step - loss: 0.5298 - acc: 0.7831 - RMSE: 0.2079 - val_loss: 1.5481 - val_acc: 0.5778 - val_RMSE: 0.2947\n",
      "Epoch 243/1000\n",
      "5261/5261 [==============================] - 0s 14us/step - loss: 0.5332 - acc: 0.7820 - RMSE: 0.2082 - val_loss: 1.5819 - val_acc: 0.5744 - val_RMSE: 0.2984\n",
      "Epoch 244/1000\n",
      "5261/5261 [==============================] - 0s 13us/step - loss: 0.5202 - acc: 0.7846 - RMSE: 0.2075 - val_loss: 1.5516 - val_acc: 0.5709 - val_RMSE: 0.2992\n",
      "Epoch 245/1000\n",
      "5261/5261 [==============================] - 0s 14us/step - loss: 0.5567 - acc: 0.7677 - RMSE: 0.2153 - val_loss: 1.5427 - val_acc: 0.5692 - val_RMSE: 0.2982\n",
      "Epoch 246/1000\n",
      "5261/5261 [==============================] - 0s 13us/step - loss: 0.5356 - acc: 0.7776 - RMSE: 0.2102 - val_loss: 1.5482 - val_acc: 0.5607 - val_RMSE: 0.3002\n",
      "Epoch 247/1000\n",
      "5261/5261 [==============================] - 0s 13us/step - loss: 0.5484 - acc: 0.7772 - RMSE: 0.2125 - val_loss: 1.5613 - val_acc: 0.5863 - val_RMSE: 0.2966\n",
      "Epoch 248/1000\n",
      "5261/5261 [==============================] - 0s 13us/step - loss: 0.5190 - acc: 0.7846 - RMSE: 0.2065 - val_loss: 1.5930 - val_acc: 0.5744 - val_RMSE: 0.2957\n",
      "Epoch 249/1000\n",
      "5261/5261 [==============================] - 0s 15us/step - loss: 0.5299 - acc: 0.7746 - RMSE: 0.2092 - val_loss: 1.6099 - val_acc: 0.5949 - val_RMSE: 0.2967\n",
      "Epoch 250/1000\n",
      "5261/5261 [==============================] - 0s 13us/step - loss: 0.5283 - acc: 0.7742 - RMSE: 0.2096 - val_loss: 1.5588 - val_acc: 0.5658 - val_RMSE: 0.2987\n",
      "Epoch 251/1000\n",
      "5261/5261 [==============================] - 0s 14us/step - loss: 0.5310 - acc: 0.7835 - RMSE: 0.2074 - val_loss: 1.6583 - val_acc: 0.5795 - val_RMSE: 0.3019\n",
      "Epoch 252/1000\n",
      "5261/5261 [==============================] - 0s 13us/step - loss: 0.5212 - acc: 0.7856 - RMSE: 0.2074 - val_loss: 1.5777 - val_acc: 0.5829 - val_RMSE: 0.2944\n",
      "Epoch 253/1000\n",
      "5261/5261 [==============================] - 0s 14us/step - loss: 0.5193 - acc: 0.7846 - RMSE: 0.2057 - val_loss: 1.6474 - val_acc: 0.5744 - val_RMSE: 0.2986\n",
      "Epoch 254/1000\n",
      "5261/5261 [==============================] - 0s 14us/step - loss: 0.5207 - acc: 0.7841 - RMSE: 0.2064 - val_loss: 1.5787 - val_acc: 0.5846 - val_RMSE: 0.2955\n",
      "Epoch 255/1000\n",
      "5261/5261 [==============================] - 0s 14us/step - loss: 0.5171 - acc: 0.7905 - RMSE: 0.2060 - val_loss: 1.5650 - val_acc: 0.5744 - val_RMSE: 0.2975\n",
      "Epoch 256/1000\n",
      "5261/5261 [==============================] - 0s 13us/step - loss: 0.6088 - acc: 0.7518 - RMSE: 0.2197 - val_loss: 1.6066 - val_acc: 0.5897 - val_RMSE: 0.2978\n",
      "Epoch 257/1000\n",
      "5261/5261 [==============================] - 0s 13us/step - loss: 0.5140 - acc: 0.7837 - RMSE: 0.2069 - val_loss: 1.6704 - val_acc: 0.5726 - val_RMSE: 0.3005\n",
      "Epoch 258/1000\n",
      "5261/5261 [==============================] - 0s 13us/step - loss: 0.5091 - acc: 0.7884 - RMSE: 0.2022 - val_loss: 1.6347 - val_acc: 0.5761 - val_RMSE: 0.2990\n",
      "Epoch 259/1000\n",
      "5261/5261 [==============================] - 0s 14us/step - loss: 0.4819 - acc: 0.7995 - RMSE: 0.1983 - val_loss: 1.5787 - val_acc: 0.5829 - val_RMSE: 0.2950\n",
      "Epoch 260/1000\n",
      "5261/5261 [==============================] - 0s 14us/step - loss: 0.5106 - acc: 0.7903 - RMSE: 0.2051 - val_loss: 1.6759 - val_acc: 0.5795 - val_RMSE: 0.3008\n",
      "Epoch 261/1000\n",
      "5261/5261 [==============================] - 0s 14us/step - loss: 0.5212 - acc: 0.7862 - RMSE: 0.2062 - val_loss: 1.6968 - val_acc: 0.5692 - val_RMSE: 0.3004\n",
      "Epoch 262/1000\n",
      "5261/5261 [==============================] - 0s 13us/step - loss: 0.5213 - acc: 0.7793 - RMSE: 0.2072 - val_loss: 1.5927 - val_acc: 0.5675 - val_RMSE: 0.2964\n",
      "Epoch 263/1000\n",
      "5261/5261 [==============================] - 0s 13us/step - loss: 0.5019 - acc: 0.7928 - RMSE: 0.2025 - val_loss: 1.6307 - val_acc: 0.5795 - val_RMSE: 0.2977\n",
      "Epoch 264/1000\n",
      "5261/5261 [==============================] - 0s 14us/step - loss: 0.4993 - acc: 0.7905 - RMSE: 0.2004 - val_loss: 1.5978 - val_acc: 0.5880 - val_RMSE: 0.2935\n",
      "Epoch 265/1000\n",
      "5261/5261 [==============================] - 0s 14us/step - loss: 0.4771 - acc: 0.8019 - RMSE: 0.1972 - val_loss: 1.6042 - val_acc: 0.5829 - val_RMSE: 0.2957\n",
      "Epoch 266/1000\n",
      "5261/5261 [==============================] - 0s 14us/step - loss: 0.4866 - acc: 0.7974 - RMSE: 0.2012 - val_loss: 1.6308 - val_acc: 0.5915 - val_RMSE: 0.3006\n",
      "Epoch 267/1000\n",
      "5261/5261 [==============================] - 0s 13us/step - loss: 0.5415 - acc: 0.7698 - RMSE: 0.2103 - val_loss: 1.5706 - val_acc: 0.5863 - val_RMSE: 0.2981\n",
      "Epoch 268/1000\n",
      "5261/5261 [==============================] - 0s 13us/step - loss: 0.5055 - acc: 0.7896 - RMSE: 0.2047 - val_loss: 1.7010 - val_acc: 0.5778 - val_RMSE: 0.3014\n",
      "Epoch 269/1000\n",
      "5261/5261 [==============================] - 0s 13us/step - loss: 0.6196 - acc: 0.7457 - RMSE: 0.2226 - val_loss: 1.6265 - val_acc: 0.5880 - val_RMSE: 0.2975\n",
      "Epoch 270/1000\n",
      "5261/5261 [==============================] - 0s 14us/step - loss: 0.5032 - acc: 0.7879 - RMSE: 0.2008 - val_loss: 1.5689 - val_acc: 0.5863 - val_RMSE: 0.2945\n",
      "Epoch 271/1000\n",
      "5261/5261 [==============================] - 0s 14us/step - loss: 0.5022 - acc: 0.7877 - RMSE: 0.2036 - val_loss: 1.6894 - val_acc: 0.5761 - val_RMSE: 0.2974\n",
      "Epoch 272/1000\n",
      "5261/5261 [==============================] - 0s 14us/step - loss: 0.4971 - acc: 0.7966 - RMSE: 0.2018 - val_loss: 1.7105 - val_acc: 0.5812 - val_RMSE: 0.3006\n",
      "Epoch 273/1000\n",
      "5261/5261 [==============================] - 0s 13us/step - loss: 0.4830 - acc: 0.8056 - RMSE: 0.1964 - val_loss: 1.7144 - val_acc: 0.5761 - val_RMSE: 0.3002\n",
      "Epoch 274/1000\n",
      "5261/5261 [==============================] - 0s 16us/step - loss: 0.4897 - acc: 0.7959 - RMSE: 0.2001 - val_loss: 1.6550 - val_acc: 0.5658 - val_RMSE: 0.3066\n",
      "Epoch 275/1000\n",
      "5261/5261 [==============================] - 0s 18us/step - loss: 0.4924 - acc: 0.8008 - RMSE: 0.2010 - val_loss: 1.6550 - val_acc: 0.5829 - val_RMSE: 0.2987\n",
      "Epoch 276/1000\n",
      "5261/5261 [==============================] - 0s 17us/step - loss: 0.4873 - acc: 0.7949 - RMSE: 0.1994 - val_loss: 1.6640 - val_acc: 0.6034 - val_RMSE: 0.2932\n",
      "Epoch 277/1000\n",
      "5261/5261 [==============================] - 0s 14us/step - loss: 0.4903 - acc: 0.7970 - RMSE: 0.2013 - val_loss: 1.6148 - val_acc: 0.5795 - val_RMSE: 0.2937\n",
      "Epoch 278/1000\n",
      "5261/5261 [==============================] - 0s 14us/step - loss: 0.4862 - acc: 0.7987 - RMSE: 0.2002 - val_loss: 1.7298 - val_acc: 0.5692 - val_RMSE: 0.3002\n",
      "Epoch 279/1000\n",
      "5261/5261 [==============================] - 0s 14us/step - loss: 0.4905 - acc: 0.8016 - RMSE: 0.2001 - val_loss: 1.6819 - val_acc: 0.5761 - val_RMSE: 0.3003\n",
      "Epoch 280/1000\n",
      "5261/5261 [==============================] - 0s 13us/step - loss: 0.5363 - acc: 0.7730 - RMSE: 0.2093 - val_loss: 1.7565 - val_acc: 0.5761 - val_RMSE: 0.3000\n",
      "Epoch 281/1000\n",
      "5261/5261 [==============================] - 0s 13us/step - loss: 0.4797 - acc: 0.7968 - RMSE: 0.1996 - val_loss: 1.7041 - val_acc: 0.6000 - val_RMSE: 0.2928\n",
      "Epoch 282/1000\n",
      "5261/5261 [==============================] - 0s 13us/step - loss: 0.4739 - acc: 0.8075 - RMSE: 0.1959 - val_loss: 1.6814 - val_acc: 0.6034 - val_RMSE: 0.2948\n",
      "Epoch 283/1000\n",
      "5261/5261 [==============================] - 0s 14us/step - loss: 0.4507 - acc: 0.8187 - RMSE: 0.1915 - val_loss: 1.7340 - val_acc: 0.5932 - val_RMSE: 0.2946\n",
      "Epoch 284/1000\n"
     ]
    },
    {
     "name": "stdout",
     "output_type": "stream",
     "text": [
      "5261/5261 [==============================] - 0s 13us/step - loss: 0.4809 - acc: 0.7991 - RMSE: 0.1994 - val_loss: 1.7416 - val_acc: 0.5983 - val_RMSE: 0.2945\n",
      "Epoch 285/1000\n",
      "5261/5261 [==============================] - 0s 13us/step - loss: 0.5186 - acc: 0.7909 - RMSE: 0.2031 - val_loss: 1.7129 - val_acc: 0.5744 - val_RMSE: 0.2951\n",
      "Epoch 286/1000\n",
      "5261/5261 [==============================] - 0s 13us/step - loss: 0.4664 - acc: 0.8035 - RMSE: 0.1950 - val_loss: 1.6796 - val_acc: 0.5915 - val_RMSE: 0.2962\n",
      "Epoch 287/1000\n",
      "5261/5261 [==============================] - 0s 14us/step - loss: 0.4590 - acc: 0.8082 - RMSE: 0.1933 - val_loss: 1.7195 - val_acc: 0.5812 - val_RMSE: 0.2990\n",
      "Epoch 288/1000\n",
      "5261/5261 [==============================] - 0s 13us/step - loss: 0.4757 - acc: 0.8054 - RMSE: 0.1965 - val_loss: 1.8204 - val_acc: 0.5949 - val_RMSE: 0.2941\n",
      "Epoch 289/1000\n",
      "5261/5261 [==============================] - 0s 13us/step - loss: 0.4614 - acc: 0.8084 - RMSE: 0.1938 - val_loss: 1.7512 - val_acc: 0.6068 - val_RMSE: 0.2947\n",
      "Epoch 290/1000\n",
      "5261/5261 [==============================] - 0s 13us/step - loss: 0.4685 - acc: 0.8107 - RMSE: 0.1949 - val_loss: 1.7202 - val_acc: 0.5829 - val_RMSE: 0.2954\n",
      "Epoch 291/1000\n",
      "5261/5261 [==============================] - 0s 16us/step - loss: 0.4624 - acc: 0.8122 - RMSE: 0.1949 - val_loss: 1.8327 - val_acc: 0.5966 - val_RMSE: 0.2972\n",
      "Epoch 292/1000\n",
      "5261/5261 [==============================] - 0s 17us/step - loss: 0.4724 - acc: 0.8088 - RMSE: 0.1963 - val_loss: 1.8120 - val_acc: 0.6017 - val_RMSE: 0.2966\n",
      "Epoch 293/1000\n",
      "5261/5261 [==============================] - 0s 16us/step - loss: 0.4631 - acc: 0.8118 - RMSE: 0.1937 - val_loss: 1.7530 - val_acc: 0.6085 - val_RMSE: 0.2927\n",
      "Epoch 294/1000\n",
      "5261/5261 [==============================] - 0s 13us/step - loss: 0.4531 - acc: 0.8143 - RMSE: 0.1920 - val_loss: 1.8941 - val_acc: 0.5863 - val_RMSE: 0.2953\n",
      "Epoch 295/1000\n",
      "5261/5261 [==============================] - 0s 14us/step - loss: 0.4437 - acc: 0.8194 - RMSE: 0.1891 - val_loss: 1.8493 - val_acc: 0.5983 - val_RMSE: 0.2959\n",
      "Epoch 296/1000\n",
      "5261/5261 [==============================] - 0s 14us/step - loss: 0.4363 - acc: 0.8196 - RMSE: 0.1881 - val_loss: 1.8425 - val_acc: 0.5880 - val_RMSE: 0.2985\n",
      "Epoch 297/1000\n",
      "5261/5261 [==============================] - 0s 14us/step - loss: 0.4836 - acc: 0.8044 - RMSE: 0.1980 - val_loss: 1.9233 - val_acc: 0.5880 - val_RMSE: 0.3005\n",
      "Epoch 298/1000\n",
      "5261/5261 [==============================] - 0s 13us/step - loss: 0.5006 - acc: 0.7953 - RMSE: 0.2028 - val_loss: 1.8439 - val_acc: 0.5915 - val_RMSE: 0.2989\n",
      "Epoch 299/1000\n",
      "5261/5261 [==============================] - 0s 13us/step - loss: 0.5766 - acc: 0.7670 - RMSE: 0.2123 - val_loss: 1.8850 - val_acc: 0.5692 - val_RMSE: 0.3023\n",
      "Epoch 300/1000\n",
      "5261/5261 [==============================] - 0s 13us/step - loss: 0.4696 - acc: 0.8080 - RMSE: 0.1944 - val_loss: 1.8322 - val_acc: 0.5897 - val_RMSE: 0.2962\n",
      "Epoch 301/1000\n",
      "5261/5261 [==============================] - 0s 14us/step - loss: 0.4604 - acc: 0.8133 - RMSE: 0.1917 - val_loss: 1.8267 - val_acc: 0.6068 - val_RMSE: 0.2932\n",
      "Epoch 302/1000\n",
      "5261/5261 [==============================] - 0s 13us/step - loss: 0.4514 - acc: 0.8244 - RMSE: 0.1902 - val_loss: 1.8260 - val_acc: 0.6000 - val_RMSE: 0.2960\n",
      "Epoch 303/1000\n",
      "5261/5261 [==============================] - 0s 14us/step - loss: 0.4513 - acc: 0.8198 - RMSE: 0.1907 - val_loss: 1.7692 - val_acc: 0.5915 - val_RMSE: 0.2924\n",
      "Epoch 304/1000\n",
      "5261/5261 [==============================] - 0s 13us/step - loss: 0.4338 - acc: 0.8238 - RMSE: 0.1894 - val_loss: 1.7566 - val_acc: 0.6034 - val_RMSE: 0.2926\n",
      "Epoch 305/1000\n",
      "5261/5261 [==============================] - 0s 14us/step - loss: 0.4618 - acc: 0.8215 - RMSE: 0.1940 - val_loss: 1.8011 - val_acc: 0.5726 - val_RMSE: 0.3000\n",
      "Epoch 306/1000\n",
      "5261/5261 [==============================] - 0s 13us/step - loss: 0.4426 - acc: 0.8183 - RMSE: 0.1910 - val_loss: 1.7699 - val_acc: 0.6000 - val_RMSE: 0.2919\n",
      "Epoch 307/1000\n",
      "5261/5261 [==============================] - 0s 13us/step - loss: 0.4474 - acc: 0.8173 - RMSE: 0.1903 - val_loss: 1.7995 - val_acc: 0.6017 - val_RMSE: 0.2973\n",
      "Epoch 308/1000\n",
      "5261/5261 [==============================] - 0s 13us/step - loss: 0.4257 - acc: 0.8314 - RMSE: 0.1856 - val_loss: 1.8719 - val_acc: 0.5709 - val_RMSE: 0.3037\n",
      "Epoch 309/1000\n",
      "5261/5261 [==============================] - 0s 13us/step - loss: 0.4479 - acc: 0.8166 - RMSE: 0.1906 - val_loss: 1.8678 - val_acc: 0.5915 - val_RMSE: 0.2987\n",
      "Epoch 310/1000\n",
      "5261/5261 [==============================] - 0s 14us/step - loss: 0.4449 - acc: 0.8198 - RMSE: 0.1896 - val_loss: 1.8241 - val_acc: 0.6137 - val_RMSE: 0.2949\n",
      "Epoch 311/1000\n",
      "5261/5261 [==============================] - 0s 13us/step - loss: 0.4426 - acc: 0.8194 - RMSE: 0.1879 - val_loss: 1.9206 - val_acc: 0.6085 - val_RMSE: 0.2946\n",
      "Epoch 312/1000\n",
      "5261/5261 [==============================] - 0s 13us/step - loss: 0.4277 - acc: 0.8272 - RMSE: 0.1863 - val_loss: 1.9068 - val_acc: 0.5863 - val_RMSE: 0.2980\n",
      "Epoch 313/1000\n",
      "5261/5261 [==============================] - 0s 13us/step - loss: 0.4445 - acc: 0.8162 - RMSE: 0.1913 - val_loss: 1.8642 - val_acc: 0.5897 - val_RMSE: 0.3012\n",
      "Epoch 314/1000\n",
      "5261/5261 [==============================] - 0s 13us/step - loss: 0.4206 - acc: 0.8295 - RMSE: 0.1838 - val_loss: 1.7760 - val_acc: 0.6000 - val_RMSE: 0.2943\n",
      "Epoch 315/1000\n",
      "5261/5261 [==============================] - 0s 13us/step - loss: 0.4182 - acc: 0.8282 - RMSE: 0.1845 - val_loss: 1.8544 - val_acc: 0.5744 - val_RMSE: 0.3000\n",
      "Epoch 316/1000\n",
      "5261/5261 [==============================] - 0s 13us/step - loss: 0.4253 - acc: 0.8251 - RMSE: 0.1876 - val_loss: 1.9546 - val_acc: 0.5949 - val_RMSE: 0.2969\n",
      "Epoch 317/1000\n",
      "5261/5261 [==============================] - 0s 13us/step - loss: 0.4947 - acc: 0.8038 - RMSE: 0.1975 - val_loss: 1.8208 - val_acc: 0.5624 - val_RMSE: 0.3016\n",
      "Epoch 318/1000\n",
      "5261/5261 [==============================] - 0s 14us/step - loss: 0.4757 - acc: 0.8033 - RMSE: 0.1966 - val_loss: 2.0013 - val_acc: 0.5966 - val_RMSE: 0.3011\n",
      "Epoch 319/1000\n",
      "5261/5261 [==============================] - 0s 16us/step - loss: 0.4525 - acc: 0.8088 - RMSE: 0.1909 - val_loss: 2.0296 - val_acc: 0.5795 - val_RMSE: 0.3056\n",
      "Epoch 320/1000\n",
      "5261/5261 [==============================] - 0s 17us/step - loss: 0.4306 - acc: 0.8266 - RMSE: 0.1859 - val_loss: 1.8829 - val_acc: 0.6017 - val_RMSE: 0.2994\n",
      "Epoch 321/1000\n",
      "5261/5261 [==============================] - 0s 16us/step - loss: 0.4111 - acc: 0.8274 - RMSE: 0.1832 - val_loss: 1.9818 - val_acc: 0.6154 - val_RMSE: 0.2940\n",
      "Epoch 322/1000\n",
      "5261/5261 [==============================] - 0s 14us/step - loss: 0.4058 - acc: 0.8379 - RMSE: 0.1808 - val_loss: 1.9834 - val_acc: 0.5744 - val_RMSE: 0.2993\n",
      "Epoch 323/1000\n",
      "5261/5261 [==============================] - 0s 13us/step - loss: 0.4173 - acc: 0.8257 - RMSE: 0.1845 - val_loss: 1.9208 - val_acc: 0.5795 - val_RMSE: 0.3001\n",
      "Epoch 324/1000\n",
      "5261/5261 [==============================] - 0s 13us/step - loss: 0.4594 - acc: 0.8122 - RMSE: 0.1896 - val_loss: 2.0634 - val_acc: 0.5897 - val_RMSE: 0.3027\n",
      "Epoch 325/1000\n",
      "5261/5261 [==============================] - 0s 13us/step - loss: 0.4271 - acc: 0.8293 - RMSE: 0.1862 - val_loss: 1.8769 - val_acc: 0.6120 - val_RMSE: 0.2941\n",
      "Epoch 326/1000\n",
      "5261/5261 [==============================] - 0s 14us/step - loss: 0.4207 - acc: 0.8299 - RMSE: 0.1844 - val_loss: 1.9183 - val_acc: 0.5744 - val_RMSE: 0.3011\n",
      "Epoch 327/1000\n",
      "5261/5261 [==============================] - 0s 16us/step - loss: 0.4135 - acc: 0.8339 - RMSE: 0.1815 - val_loss: 1.8903 - val_acc: 0.6154 - val_RMSE: 0.2929\n",
      "Epoch 328/1000\n",
      "5261/5261 [==============================] - 0s 17us/step - loss: 0.4301 - acc: 0.8278 - RMSE: 0.1851 - val_loss: 1.9165 - val_acc: 0.5863 - val_RMSE: 0.2994\n",
      "Epoch 329/1000\n",
      "5261/5261 [==============================] - 0s 14us/step - loss: 0.4492 - acc: 0.8162 - RMSE: 0.1902 - val_loss: 1.8885 - val_acc: 0.6085 - val_RMSE: 0.2983\n",
      "Epoch 330/1000\n",
      "5261/5261 [==============================] - 0s 13us/step - loss: 0.4336 - acc: 0.8265 - RMSE: 0.1868 - val_loss: 1.9735 - val_acc: 0.5761 - val_RMSE: 0.3050\n",
      "Epoch 331/1000\n"
     ]
    },
    {
     "name": "stdout",
     "output_type": "stream",
     "text": [
      "5261/5261 [==============================] - 0s 13us/step - loss: 0.4230 - acc: 0.8249 - RMSE: 0.1870 - val_loss: 1.9682 - val_acc: 0.6068 - val_RMSE: 0.2949\n",
      "Epoch 332/1000\n",
      "5261/5261 [==============================] - 0s 13us/step - loss: 0.5738 - acc: 0.7913 - RMSE: 0.2040 - val_loss: 1.8752 - val_acc: 0.5915 - val_RMSE: 0.2946\n",
      "Epoch 333/1000\n",
      "5261/5261 [==============================] - 0s 16us/step - loss: 0.5055 - acc: 0.7964 - RMSE: 0.2004 - val_loss: 1.8902 - val_acc: 0.5949 - val_RMSE: 0.2977\n",
      "Epoch 334/1000\n",
      "5261/5261 [==============================] - 0s 18us/step - loss: 0.4421 - acc: 0.8246 - RMSE: 0.1888 - val_loss: 1.9250 - val_acc: 0.6103 - val_RMSE: 0.2910\n",
      "Epoch 335/1000\n",
      "5261/5261 [==============================] - 0s 15us/step - loss: 0.4274 - acc: 0.8240 - RMSE: 0.1865 - val_loss: 1.8530 - val_acc: 0.6000 - val_RMSE: 0.2996\n",
      "Epoch 336/1000\n",
      "5261/5261 [==============================] - 0s 14us/step - loss: 0.4248 - acc: 0.8293 - RMSE: 0.1849 - val_loss: 1.9573 - val_acc: 0.6137 - val_RMSE: 0.2920\n",
      "Epoch 337/1000\n",
      "5261/5261 [==============================] - 0s 15us/step - loss: 0.4416 - acc: 0.8198 - RMSE: 0.1912 - val_loss: 1.8929 - val_acc: 0.6017 - val_RMSE: 0.2971\n",
      "Epoch 338/1000\n",
      "5261/5261 [==============================] - 0s 15us/step - loss: 0.5042 - acc: 0.7938 - RMSE: 0.2016 - val_loss: 1.9564 - val_acc: 0.5932 - val_RMSE: 0.3013\n",
      "Epoch 339/1000\n",
      "5261/5261 [==============================] - 0s 14us/step - loss: 0.4595 - acc: 0.8133 - RMSE: 0.1909 - val_loss: 1.9751 - val_acc: 0.5983 - val_RMSE: 0.2981\n",
      "Epoch 340/1000\n",
      "5261/5261 [==============================] - 0s 14us/step - loss: 0.4097 - acc: 0.8341 - RMSE: 0.1817 - val_loss: 1.9411 - val_acc: 0.6068 - val_RMSE: 0.2943\n",
      "Epoch 341/1000\n",
      "5261/5261 [==============================] - 0s 13us/step - loss: 0.3912 - acc: 0.8445 - RMSE: 0.1786 - val_loss: 1.9841 - val_acc: 0.6137 - val_RMSE: 0.2961\n",
      "Epoch 342/1000\n",
      "5261/5261 [==============================] - 0s 14us/step - loss: 0.3952 - acc: 0.8407 - RMSE: 0.1794 - val_loss: 2.0220 - val_acc: 0.6051 - val_RMSE: 0.2934\n",
      "Epoch 343/1000\n",
      "5261/5261 [==============================] - 0s 13us/step - loss: 0.3927 - acc: 0.8422 - RMSE: 0.1805 - val_loss: 2.0031 - val_acc: 0.6017 - val_RMSE: 0.2987\n",
      "Epoch 344/1000\n",
      "5261/5261 [==============================] - 0s 13us/step - loss: 0.4104 - acc: 0.8354 - RMSE: 0.1798 - val_loss: 2.0146 - val_acc: 0.6171 - val_RMSE: 0.2957\n",
      "Epoch 345/1000\n",
      "5261/5261 [==============================] - 0s 14us/step - loss: 0.3811 - acc: 0.8457 - RMSE: 0.1765 - val_loss: 2.0320 - val_acc: 0.6017 - val_RMSE: 0.2979\n",
      "Epoch 346/1000\n",
      "5261/5261 [==============================] - 0s 16us/step - loss: 0.4040 - acc: 0.8379 - RMSE: 0.1809 - val_loss: 1.9536 - val_acc: 0.6120 - val_RMSE: 0.3005\n",
      "Epoch 347/1000\n",
      "5261/5261 [==============================] - 0s 13us/step - loss: 0.3957 - acc: 0.8388 - RMSE: 0.1806 - val_loss: 2.1310 - val_acc: 0.6239 - val_RMSE: 0.2949\n",
      "Epoch 348/1000\n",
      "5261/5261 [==============================] - 0s 14us/step - loss: 0.4229 - acc: 0.8276 - RMSE: 0.1870 - val_loss: 2.2545 - val_acc: 0.6034 - val_RMSE: 0.2994\n",
      "Epoch 349/1000\n",
      "5261/5261 [==============================] - 0s 13us/step - loss: 0.4187 - acc: 0.8266 - RMSE: 0.1860 - val_loss: 2.1002 - val_acc: 0.5983 - val_RMSE: 0.2999\n",
      "Epoch 350/1000\n",
      "5261/5261 [==============================] - 0s 13us/step - loss: 0.4316 - acc: 0.8261 - RMSE: 0.1877 - val_loss: 2.0477 - val_acc: 0.5983 - val_RMSE: 0.2986\n",
      "Epoch 351/1000\n",
      "5261/5261 [==============================] - 0s 13us/step - loss: 0.5119 - acc: 0.7900 - RMSE: 0.2020 - val_loss: 1.9698 - val_acc: 0.5983 - val_RMSE: 0.2968\n",
      "Epoch 352/1000\n",
      "5261/5261 [==============================] - 0s 13us/step - loss: 0.4196 - acc: 0.8266 - RMSE: 0.1856 - val_loss: 2.0021 - val_acc: 0.6085 - val_RMSE: 0.2972\n",
      "Epoch 353/1000\n",
      "5261/5261 [==============================] - 0s 13us/step - loss: 0.3788 - acc: 0.8502 - RMSE: 0.1756 - val_loss: 2.1048 - val_acc: 0.5983 - val_RMSE: 0.2998\n",
      "Epoch 354/1000\n",
      "5261/5261 [==============================] - 0s 13us/step - loss: 0.4251 - acc: 0.8299 - RMSE: 0.1843 - val_loss: 2.0153 - val_acc: 0.6120 - val_RMSE: 0.2968\n",
      "Epoch 355/1000\n",
      "5261/5261 [==============================] - 0s 14us/step - loss: 0.4001 - acc: 0.8400 - RMSE: 0.1781 - val_loss: 2.0783 - val_acc: 0.6188 - val_RMSE: 0.2947\n",
      "Epoch 356/1000\n",
      "5261/5261 [==============================] - 0s 13us/step - loss: 0.3712 - acc: 0.8500 - RMSE: 0.1741 - val_loss: 2.1601 - val_acc: 0.5880 - val_RMSE: 0.3013\n",
      "Epoch 357/1000\n",
      "5261/5261 [==============================] - 0s 13us/step - loss: 0.4183 - acc: 0.8276 - RMSE: 0.1845 - val_loss: 2.0739 - val_acc: 0.6205 - val_RMSE: 0.2950\n",
      "Epoch 358/1000\n",
      "5261/5261 [==============================] - 0s 13us/step - loss: 0.4322 - acc: 0.8284 - RMSE: 0.1854 - val_loss: 2.1230 - val_acc: 0.6239 - val_RMSE: 0.2977\n",
      "Epoch 359/1000\n",
      "5261/5261 [==============================] - 0s 14us/step - loss: 0.4085 - acc: 0.8325 - RMSE: 0.1828 - val_loss: 2.0339 - val_acc: 0.5983 - val_RMSE: 0.3036\n",
      "Epoch 360/1000\n",
      "5261/5261 [==============================] - 0s 14us/step - loss: 0.3711 - acc: 0.8527 - RMSE: 0.1729 - val_loss: 2.1017 - val_acc: 0.6034 - val_RMSE: 0.2982\n",
      "Epoch 361/1000\n",
      "5261/5261 [==============================] - 0s 13us/step - loss: 0.3727 - acc: 0.8540 - RMSE: 0.1729 - val_loss: 2.1088 - val_acc: 0.5829 - val_RMSE: 0.3049\n",
      "Epoch 362/1000\n",
      "5261/5261 [==============================] - 0s 13us/step - loss: 0.4170 - acc: 0.8287 - RMSE: 0.1830 - val_loss: 2.1271 - val_acc: 0.6000 - val_RMSE: 0.2991\n",
      "Epoch 363/1000\n",
      "5261/5261 [==============================] - 0s 13us/step - loss: 0.4002 - acc: 0.8415 - RMSE: 0.1809 - val_loss: 2.1988 - val_acc: 0.6017 - val_RMSE: 0.3028\n",
      "Epoch 364/1000\n",
      "5261/5261 [==============================] - 0s 14us/step - loss: 0.5443 - acc: 0.7921 - RMSE: 0.2054 - val_loss: 2.0951 - val_acc: 0.5829 - val_RMSE: 0.3089\n",
      "Epoch 365/1000\n",
      "5261/5261 [==============================] - 0s 13us/step - loss: 0.4106 - acc: 0.8388 - RMSE: 0.1822 - val_loss: 2.0862 - val_acc: 0.6120 - val_RMSE: 0.2971\n",
      "Epoch 366/1000\n",
      "5261/5261 [==============================] - 0s 13us/step - loss: 0.4021 - acc: 0.8384 - RMSE: 0.1806 - val_loss: 2.1870 - val_acc: 0.5949 - val_RMSE: 0.3063\n",
      "Epoch 367/1000\n",
      "5261/5261 [==============================] - 0s 14us/step - loss: 0.3849 - acc: 0.8453 - RMSE: 0.1776 - val_loss: 2.2428 - val_acc: 0.5915 - val_RMSE: 0.3024\n",
      "Epoch 368/1000\n",
      "5261/5261 [==============================] - 0s 13us/step - loss: 0.4758 - acc: 0.8095 - RMSE: 0.1944 - val_loss: 2.0102 - val_acc: 0.5829 - val_RMSE: 0.3019\n",
      "Epoch 369/1000\n",
      "5261/5261 [==============================] - 0s 13us/step - loss: 0.4761 - acc: 0.8116 - RMSE: 0.1962 - val_loss: 2.1405 - val_acc: 0.5829 - val_RMSE: 0.3054\n",
      "Epoch 370/1000\n",
      "5261/5261 [==============================] - 0s 13us/step - loss: 0.4188 - acc: 0.8265 - RMSE: 0.1846 - val_loss: 1.9923 - val_acc: 0.6120 - val_RMSE: 0.3007\n",
      "Epoch 371/1000\n",
      "5261/5261 [==============================] - 0s 13us/step - loss: 0.3864 - acc: 0.8460 - RMSE: 0.1787 - val_loss: 2.0709 - val_acc: 0.5897 - val_RMSE: 0.3012\n",
      "Epoch 372/1000\n",
      "5261/5261 [==============================] - 0s 14us/step - loss: 0.3749 - acc: 0.8495 - RMSE: 0.1749 - val_loss: 2.1293 - val_acc: 0.6205 - val_RMSE: 0.2954\n",
      "Epoch 373/1000\n",
      "5261/5261 [==============================] - 0s 13us/step - loss: 0.3920 - acc: 0.8420 - RMSE: 0.1801 - val_loss: 2.0467 - val_acc: 0.6239 - val_RMSE: 0.2951\n",
      "Epoch 374/1000\n",
      "5261/5261 [==============================] - 0s 13us/step - loss: 0.4602 - acc: 0.8145 - RMSE: 0.1926 - val_loss: 2.0862 - val_acc: 0.5863 - val_RMSE: 0.3001\n",
      "Epoch 375/1000\n",
      "5261/5261 [==============================] - 0s 13us/step - loss: 0.4375 - acc: 0.8232 - RMSE: 0.1881 - val_loss: 2.1046 - val_acc: 0.6171 - val_RMSE: 0.2956\n",
      "Epoch 376/1000\n",
      "5261/5261 [==============================] - 0s 13us/step - loss: 0.3776 - acc: 0.8525 - RMSE: 0.1752 - val_loss: 2.0339 - val_acc: 0.6120 - val_RMSE: 0.2972\n",
      "Epoch 377/1000\n",
      "5261/5261 [==============================] - 0s 14us/step - loss: 0.3847 - acc: 0.8420 - RMSE: 0.1764 - val_loss: 1.9361 - val_acc: 0.6085 - val_RMSE: 0.3022\n",
      "Epoch 378/1000\n"
     ]
    },
    {
     "name": "stdout",
     "output_type": "stream",
     "text": [
      "5261/5261 [==============================] - 0s 13us/step - loss: 0.3662 - acc: 0.8525 - RMSE: 0.1720 - val_loss: 2.1766 - val_acc: 0.6342 - val_RMSE: 0.2971\n",
      "Epoch 379/1000\n",
      "5261/5261 [==============================] - 0s 13us/step - loss: 0.3535 - acc: 0.8601 - RMSE: 0.1669 - val_loss: 2.0656 - val_acc: 0.5829 - val_RMSE: 0.3056\n",
      "Epoch 380/1000\n",
      "5261/5261 [==============================] - 0s 13us/step - loss: 0.3401 - acc: 0.8669 - RMSE: 0.1646 - val_loss: 2.1845 - val_acc: 0.5983 - val_RMSE: 0.3008\n",
      "Epoch 381/1000\n",
      "5261/5261 [==============================] - 0s 13us/step - loss: 0.3436 - acc: 0.8637 - RMSE: 0.1677 - val_loss: 2.0546 - val_acc: 0.6068 - val_RMSE: 0.3014\n",
      "Epoch 382/1000\n",
      "5261/5261 [==============================] - 0s 13us/step - loss: 0.3631 - acc: 0.8590 - RMSE: 0.1725 - val_loss: 2.0939 - val_acc: 0.5863 - val_RMSE: 0.3031\n",
      "Epoch 383/1000\n",
      "5261/5261 [==============================] - 0s 13us/step - loss: 0.3979 - acc: 0.8411 - RMSE: 0.1797 - val_loss: 2.1151 - val_acc: 0.6068 - val_RMSE: 0.3016\n",
      "Epoch 384/1000\n",
      "5261/5261 [==============================] - 0s 13us/step - loss: 0.3774 - acc: 0.8476 - RMSE: 0.1730 - val_loss: 2.1775 - val_acc: 0.5897 - val_RMSE: 0.3054\n",
      "Epoch 385/1000\n",
      "5261/5261 [==============================] - 0s 13us/step - loss: 0.3821 - acc: 0.8451 - RMSE: 0.1750 - val_loss: 2.2499 - val_acc: 0.5949 - val_RMSE: 0.3015\n",
      "Epoch 386/1000\n",
      "5261/5261 [==============================] - 0s 13us/step - loss: 0.3548 - acc: 0.8595 - RMSE: 0.1694 - val_loss: 2.1994 - val_acc: 0.5983 - val_RMSE: 0.3003\n",
      "Epoch 387/1000\n",
      "5261/5261 [==============================] - 0s 13us/step - loss: 0.3700 - acc: 0.8534 - RMSE: 0.1735 - val_loss: 2.2218 - val_acc: 0.6274 - val_RMSE: 0.2999\n",
      "Epoch 388/1000\n",
      "5261/5261 [==============================] - 0s 14us/step - loss: 0.4461 - acc: 0.8204 - RMSE: 0.1907 - val_loss: 2.1412 - val_acc: 0.5726 - val_RMSE: 0.3104\n",
      "Epoch 389/1000\n",
      "5261/5261 [==============================] - 0s 14us/step - loss: 0.5013 - acc: 0.8008 - RMSE: 0.1975 - val_loss: 2.2014 - val_acc: 0.5897 - val_RMSE: 0.3032\n",
      "Epoch 390/1000\n",
      "5261/5261 [==============================] - 0s 13us/step - loss: 0.4261 - acc: 0.8333 - RMSE: 0.1843 - val_loss: 2.2038 - val_acc: 0.6120 - val_RMSE: 0.3005\n",
      "Epoch 391/1000\n",
      "5261/5261 [==============================] - 0s 13us/step - loss: 0.3784 - acc: 0.8481 - RMSE: 0.1749 - val_loss: 2.3571 - val_acc: 0.6017 - val_RMSE: 0.3055\n",
      "Epoch 392/1000\n",
      "5261/5261 [==============================] - 0s 13us/step - loss: 0.3642 - acc: 0.8569 - RMSE: 0.1724 - val_loss: 2.2122 - val_acc: 0.6239 - val_RMSE: 0.2957\n",
      "Epoch 393/1000\n",
      "5261/5261 [==============================] - 0s 13us/step - loss: 0.3390 - acc: 0.8654 - RMSE: 0.1663 - val_loss: 2.1920 - val_acc: 0.6188 - val_RMSE: 0.2975\n",
      "Epoch 394/1000\n",
      "5261/5261 [==============================] - 0s 14us/step - loss: 0.4276 - acc: 0.8305 - RMSE: 0.1837 - val_loss: 2.2615 - val_acc: 0.6017 - val_RMSE: 0.3006\n",
      "Epoch 395/1000\n",
      "5261/5261 [==============================] - 0s 14us/step - loss: 0.4077 - acc: 0.8379 - RMSE: 0.1791 - val_loss: 2.2928 - val_acc: 0.6205 - val_RMSE: 0.2966\n",
      "Epoch 396/1000\n",
      "5261/5261 [==============================] - 0s 14us/step - loss: 0.3566 - acc: 0.8540 - RMSE: 0.1700 - val_loss: 2.2116 - val_acc: 0.6034 - val_RMSE: 0.3016\n",
      "Epoch 397/1000\n",
      "5261/5261 [==============================] - 0s 13us/step - loss: 0.3706 - acc: 0.8481 - RMSE: 0.1720 - val_loss: 2.3185 - val_acc: 0.6171 - val_RMSE: 0.2983\n",
      "Epoch 398/1000\n",
      "5261/5261 [==============================] - 0s 13us/step - loss: 0.3453 - acc: 0.8597 - RMSE: 0.1684 - val_loss: 2.2058 - val_acc: 0.6222 - val_RMSE: 0.2986\n",
      "Epoch 399/1000\n",
      "5261/5261 [==============================] - 0s 13us/step - loss: 0.3838 - acc: 0.8438 - RMSE: 0.1758 - val_loss: 2.3455 - val_acc: 0.5915 - val_RMSE: 0.3064\n",
      "Epoch 400/1000\n",
      "5261/5261 [==============================] - 0s 13us/step - loss: 0.3845 - acc: 0.8453 - RMSE: 0.1765 - val_loss: 2.2769 - val_acc: 0.6137 - val_RMSE: 0.3028\n",
      "Epoch 401/1000\n",
      "5261/5261 [==============================] - 0s 13us/step - loss: 0.3560 - acc: 0.8574 - RMSE: 0.1709 - val_loss: 2.3083 - val_acc: 0.6068 - val_RMSE: 0.3019\n",
      "Epoch 402/1000\n",
      "5261/5261 [==============================] - 0s 13us/step - loss: 0.3467 - acc: 0.8597 - RMSE: 0.1672 - val_loss: 2.2638 - val_acc: 0.6137 - val_RMSE: 0.3046\n",
      "Epoch 403/1000\n",
      "5261/5261 [==============================] - 0s 14us/step - loss: 0.3569 - acc: 0.8592 - RMSE: 0.1684 - val_loss: 2.2885 - val_acc: 0.6103 - val_RMSE: 0.3018\n",
      "Epoch 404/1000\n",
      "5261/5261 [==============================] - 0s 13us/step - loss: 0.3798 - acc: 0.8525 - RMSE: 0.1724 - val_loss: 2.3329 - val_acc: 0.6034 - val_RMSE: 0.3012\n",
      "Epoch 405/1000\n",
      "5261/5261 [==============================] - 0s 13us/step - loss: 0.3664 - acc: 0.8563 - RMSE: 0.1689 - val_loss: 2.2748 - val_acc: 0.6017 - val_RMSE: 0.3024\n",
      "Epoch 406/1000\n",
      "5261/5261 [==============================] - 0s 13us/step - loss: 0.3436 - acc: 0.8664 - RMSE: 0.1640 - val_loss: 2.2355 - val_acc: 0.6274 - val_RMSE: 0.2987\n",
      "Epoch 407/1000\n",
      "5261/5261 [==============================] - 0s 13us/step - loss: 0.3315 - acc: 0.8675 - RMSE: 0.1626 - val_loss: 2.3667 - val_acc: 0.6017 - val_RMSE: 0.3008\n",
      "Epoch 408/1000\n",
      "5261/5261 [==============================] - 0s 14us/step - loss: 0.3405 - acc: 0.8637 - RMSE: 0.1644 - val_loss: 2.3607 - val_acc: 0.5624 - val_RMSE: 0.3113\n",
      "Epoch 409/1000\n",
      "5261/5261 [==============================] - 0s 12us/step - loss: 0.4433 - acc: 0.8244 - RMSE: 0.1897 - val_loss: 2.2837 - val_acc: 0.5812 - val_RMSE: 0.3103\n",
      "Epoch 410/1000\n",
      "5261/5261 [==============================] - 0s 11us/step - loss: 0.5768 - acc: 0.7869 - RMSE: 0.2064 - val_loss: 2.2957 - val_acc: 0.5812 - val_RMSE: 0.3065\n",
      "Epoch 411/1000\n",
      "5261/5261 [==============================] - 0s 14us/step - loss: 0.4054 - acc: 0.8339 - RMSE: 0.1824 - val_loss: 2.2140 - val_acc: 0.6103 - val_RMSE: 0.2971\n",
      "Epoch 412/1000\n",
      "5261/5261 [==============================] - 0s 14us/step - loss: 0.3790 - acc: 0.8472 - RMSE: 0.1747 - val_loss: 2.1424 - val_acc: 0.6154 - val_RMSE: 0.2984\n",
      "Epoch 413/1000\n",
      "5261/5261 [==============================] - 0s 13us/step - loss: 0.3641 - acc: 0.8517 - RMSE: 0.1733 - val_loss: 2.3346 - val_acc: 0.5897 - val_RMSE: 0.3033\n",
      "Epoch 414/1000\n",
      "5261/5261 [==============================] - 0s 13us/step - loss: 0.3977 - acc: 0.8409 - RMSE: 0.1797 - val_loss: 2.2604 - val_acc: 0.6000 - val_RMSE: 0.3061\n",
      "Epoch 415/1000\n",
      "5261/5261 [==============================] - 0s 14us/step - loss: 0.3803 - acc: 0.8445 - RMSE: 0.1737 - val_loss: 2.3014 - val_acc: 0.5983 - val_RMSE: 0.3046\n",
      "Epoch 416/1000\n",
      "5261/5261 [==============================] - 0s 14us/step - loss: 0.3312 - acc: 0.8681 - RMSE: 0.1620 - val_loss: 2.2905 - val_acc: 0.6154 - val_RMSE: 0.3009\n",
      "Epoch 417/1000\n",
      "5261/5261 [==============================] - 0s 14us/step - loss: 0.3283 - acc: 0.8690 - RMSE: 0.1626 - val_loss: 2.1826 - val_acc: 0.6017 - val_RMSE: 0.3025\n",
      "Epoch 418/1000\n",
      "5261/5261 [==============================] - 0s 13us/step - loss: 0.3261 - acc: 0.8650 - RMSE: 0.1613 - val_loss: 2.2392 - val_acc: 0.6171 - val_RMSE: 0.3008\n",
      "Epoch 419/1000\n",
      "5261/5261 [==============================] - 0s 14us/step - loss: 0.3120 - acc: 0.8757 - RMSE: 0.1585 - val_loss: 2.3701 - val_acc: 0.6171 - val_RMSE: 0.3028\n",
      "Epoch 420/1000\n",
      "5261/5261 [==============================] - 0s 13us/step - loss: 0.3408 - acc: 0.8624 - RMSE: 0.1674 - val_loss: 2.2646 - val_acc: 0.6256 - val_RMSE: 0.3022\n",
      "Epoch 421/1000\n",
      "5261/5261 [==============================] - 0s 13us/step - loss: 0.3905 - acc: 0.8464 - RMSE: 0.1782 - val_loss: 2.4043 - val_acc: 0.6017 - val_RMSE: 0.3020\n",
      "Epoch 422/1000\n",
      "5261/5261 [==============================] - 0s 13us/step - loss: 0.3536 - acc: 0.8552 - RMSE: 0.1708 - val_loss: 2.3891 - val_acc: 0.6154 - val_RMSE: 0.2997\n",
      "Epoch 423/1000\n",
      "5261/5261 [==============================] - 0s 14us/step - loss: 0.4547 - acc: 0.8145 - RMSE: 0.1913 - val_loss: 2.2156 - val_acc: 0.5915 - val_RMSE: 0.3068\n",
      "Epoch 424/1000\n",
      "5261/5261 [==============================] - 0s 14us/step - loss: 0.4138 - acc: 0.8289 - RMSE: 0.1807 - val_loss: 2.3154 - val_acc: 0.6000 - val_RMSE: 0.3066\n",
      "Epoch 425/1000\n"
     ]
    },
    {
     "name": "stdout",
     "output_type": "stream",
     "text": [
      "5261/5261 [==============================] - 0s 13us/step - loss: 0.3410 - acc: 0.8622 - RMSE: 0.1655 - val_loss: 2.3917 - val_acc: 0.6188 - val_RMSE: 0.2995\n",
      "Epoch 426/1000\n",
      "5261/5261 [==============================] - 0s 13us/step - loss: 0.3615 - acc: 0.8521 - RMSE: 0.1728 - val_loss: 2.4430 - val_acc: 0.6000 - val_RMSE: 0.3063\n",
      "Epoch 427/1000\n",
      "5261/5261 [==============================] - 0s 13us/step - loss: 0.3703 - acc: 0.8550 - RMSE: 0.1736 - val_loss: 2.3385 - val_acc: 0.6000 - val_RMSE: 0.3047\n",
      "Epoch 428/1000\n",
      "5261/5261 [==============================] - 0s 13us/step - loss: 0.4807 - acc: 0.8287 - RMSE: 0.1869 - val_loss: 2.2872 - val_acc: 0.6154 - val_RMSE: 0.3000\n",
      "Epoch 429/1000\n",
      "5261/5261 [==============================] - 0s 13us/step - loss: 0.4252 - acc: 0.8325 - RMSE: 0.1844 - val_loss: 2.3371 - val_acc: 0.5897 - val_RMSE: 0.3079\n",
      "Epoch 430/1000\n",
      "5261/5261 [==============================] - 0s 14us/step - loss: 0.3744 - acc: 0.8512 - RMSE: 0.1728 - val_loss: 2.5602 - val_acc: 0.6154 - val_RMSE: 0.3058\n",
      "Epoch 431/1000\n",
      "5261/5261 [==============================] - 0s 17us/step - loss: 0.3496 - acc: 0.8599 - RMSE: 0.1682 - val_loss: 2.2869 - val_acc: 0.5949 - val_RMSE: 0.3084\n",
      "Epoch 432/1000\n",
      "5261/5261 [==============================] - 0s 17us/step - loss: 0.3321 - acc: 0.8671 - RMSE: 0.1635 - val_loss: 2.4074 - val_acc: 0.6188 - val_RMSE: 0.3044\n",
      "Epoch 433/1000\n",
      "5261/5261 [==============================] - 0s 17us/step - loss: 0.3108 - acc: 0.8749 - RMSE: 0.1576 - val_loss: 2.4933 - val_acc: 0.6205 - val_RMSE: 0.3034\n",
      "Epoch 434/1000\n",
      "5261/5261 [==============================] - 0s 14us/step - loss: 0.3353 - acc: 0.8647 - RMSE: 0.1631 - val_loss: 2.3459 - val_acc: 0.5915 - val_RMSE: 0.3039\n",
      "Epoch 435/1000\n",
      "5261/5261 [==============================] - 0s 14us/step - loss: 0.3476 - acc: 0.8630 - RMSE: 0.1671 - val_loss: 2.3800 - val_acc: 0.6051 - val_RMSE: 0.3010\n",
      "Epoch 436/1000\n",
      "5261/5261 [==============================] - 0s 13us/step - loss: 0.3811 - acc: 0.8453 - RMSE: 0.1750 - val_loss: 2.3883 - val_acc: 0.6068 - val_RMSE: 0.3017\n",
      "Epoch 437/1000\n",
      "5261/5261 [==============================] - 0s 14us/step - loss: 0.3722 - acc: 0.8515 - RMSE: 0.1739 - val_loss: 2.4016 - val_acc: 0.5915 - val_RMSE: 0.3075\n",
      "Epoch 438/1000\n",
      "5261/5261 [==============================] - 0s 15us/step - loss: 0.3465 - acc: 0.8614 - RMSE: 0.1662 - val_loss: 2.3817 - val_acc: 0.6239 - val_RMSE: 0.2987\n",
      "Epoch 439/1000\n",
      "5261/5261 [==============================] - 0s 16us/step - loss: 0.3159 - acc: 0.8742 - RMSE: 0.1581 - val_loss: 2.3769 - val_acc: 0.6188 - val_RMSE: 0.3008\n",
      "Epoch 440/1000\n",
      "5261/5261 [==============================] - 0s 17us/step - loss: 0.3341 - acc: 0.8650 - RMSE: 0.1645 - val_loss: 2.4056 - val_acc: 0.6188 - val_RMSE: 0.3039\n",
      "Epoch 441/1000\n",
      "5261/5261 [==============================] - 0s 17us/step - loss: 0.3262 - acc: 0.8721 - RMSE: 0.1615 - val_loss: 2.4079 - val_acc: 0.6051 - val_RMSE: 0.3058\n",
      "Epoch 442/1000\n",
      "5261/5261 [==============================] - 0s 14us/step - loss: 0.3392 - acc: 0.8609 - RMSE: 0.1657 - val_loss: 2.3850 - val_acc: 0.6103 - val_RMSE: 0.3070\n",
      "Epoch 443/1000\n",
      "5261/5261 [==============================] - 0s 14us/step - loss: 0.3560 - acc: 0.8590 - RMSE: 0.1678 - val_loss: 2.6700 - val_acc: 0.6171 - val_RMSE: 0.3058\n",
      "Epoch 444/1000\n",
      "5261/5261 [==============================] - 0s 13us/step - loss: 0.3825 - acc: 0.8487 - RMSE: 0.1763 - val_loss: 2.5342 - val_acc: 0.5966 - val_RMSE: 0.3077\n",
      "Epoch 445/1000\n",
      "5261/5261 [==============================] - 0s 13us/step - loss: 0.3737 - acc: 0.8512 - RMSE: 0.1746 - val_loss: 2.6368 - val_acc: 0.6034 - val_RMSE: 0.3062\n",
      "Epoch 446/1000\n",
      "5261/5261 [==============================] - 0s 13us/step - loss: 0.4033 - acc: 0.8356 - RMSE: 0.1808 - val_loss: 2.5842 - val_acc: 0.6120 - val_RMSE: 0.3023\n",
      "Epoch 447/1000\n",
      "5261/5261 [==============================] - 0s 13us/step - loss: 0.3616 - acc: 0.8561 - RMSE: 0.1710 - val_loss: 2.5820 - val_acc: 0.6154 - val_RMSE: 0.3055\n",
      "Epoch 448/1000\n",
      "5261/5261 [==============================] - 0s 13us/step - loss: 0.3597 - acc: 0.8500 - RMSE: 0.1703 - val_loss: 2.5740 - val_acc: 0.6051 - val_RMSE: 0.3042\n",
      "Epoch 449/1000\n",
      "5261/5261 [==============================] - 0s 13us/step - loss: 0.3714 - acc: 0.8525 - RMSE: 0.1714 - val_loss: 2.5041 - val_acc: 0.6085 - val_RMSE: 0.3052\n",
      "Epoch 450/1000\n",
      "5261/5261 [==============================] - 0s 14us/step - loss: 0.3170 - acc: 0.8738 - RMSE: 0.1603 - val_loss: 2.4767 - val_acc: 0.5983 - val_RMSE: 0.3023\n",
      "Epoch 451/1000\n",
      "5261/5261 [==============================] - 0s 13us/step - loss: 0.3534 - acc: 0.8588 - RMSE: 0.1673 - val_loss: 2.6688 - val_acc: 0.6120 - val_RMSE: 0.3039\n",
      "Epoch 452/1000\n",
      "5261/5261 [==============================] - 0s 13us/step - loss: 0.3126 - acc: 0.8732 - RMSE: 0.1568 - val_loss: 2.4599 - val_acc: 0.6120 - val_RMSE: 0.3039\n",
      "Epoch 453/1000\n",
      "5261/5261 [==============================] - 0s 13us/step - loss: 0.2993 - acc: 0.8835 - RMSE: 0.1547 - val_loss: 2.5111 - val_acc: 0.6188 - val_RMSE: 0.3040\n",
      "Epoch 454/1000\n",
      "5261/5261 [==============================] - 0s 13us/step - loss: 0.3084 - acc: 0.8751 - RMSE: 0.1585 - val_loss: 2.5992 - val_acc: 0.6000 - val_RMSE: 0.3051\n",
      "Epoch 455/1000\n",
      "5261/5261 [==============================] - 0s 14us/step - loss: 0.3153 - acc: 0.8688 - RMSE: 0.1589 - val_loss: 2.5932 - val_acc: 0.6171 - val_RMSE: 0.3031\n",
      "Epoch 456/1000\n",
      "5261/5261 [==============================] - 0s 13us/step - loss: 0.3150 - acc: 0.8789 - RMSE: 0.1580 - val_loss: 2.5315 - val_acc: 0.6222 - val_RMSE: 0.2998\n",
      "Epoch 457/1000\n",
      "5261/5261 [==============================] - 0s 13us/step - loss: 0.2948 - acc: 0.8822 - RMSE: 0.1535 - val_loss: 2.6267 - val_acc: 0.6017 - val_RMSE: 0.3099\n",
      "Epoch 458/1000\n",
      "5261/5261 [==============================] - 0s 13us/step - loss: 0.3162 - acc: 0.8725 - RMSE: 0.1585 - val_loss: 2.5699 - val_acc: 0.6222 - val_RMSE: 0.3029\n",
      "Epoch 459/1000\n",
      "5261/5261 [==============================] - 0s 13us/step - loss: 0.3261 - acc: 0.8721 - RMSE: 0.1613 - val_loss: 2.7164 - val_acc: 0.6103 - val_RMSE: 0.3037\n",
      "Epoch 460/1000\n",
      "5261/5261 [==============================] - 0s 13us/step - loss: 0.3171 - acc: 0.8707 - RMSE: 0.1597 - val_loss: 2.6813 - val_acc: 0.6034 - val_RMSE: 0.3062\n",
      "Epoch 461/1000\n",
      "5261/5261 [==============================] - 0s 13us/step - loss: 0.3410 - acc: 0.8597 - RMSE: 0.1651 - val_loss: 2.5700 - val_acc: 0.6051 - val_RMSE: 0.3059\n",
      "Epoch 462/1000\n",
      "5261/5261 [==============================] - 0s 13us/step - loss: 0.3287 - acc: 0.8696 - RMSE: 0.1622 - val_loss: 2.5785 - val_acc: 0.6205 - val_RMSE: 0.3059\n",
      "Epoch 463/1000\n",
      "5261/5261 [==============================] - 0s 13us/step - loss: 0.3224 - acc: 0.8687 - RMSE: 0.1611 - val_loss: 2.6868 - val_acc: 0.6137 - val_RMSE: 0.3074\n",
      "Epoch 464/1000\n",
      "5261/5261 [==============================] - 0s 13us/step - loss: 0.3488 - acc: 0.8586 - RMSE: 0.1680 - val_loss: 2.7412 - val_acc: 0.6171 - val_RMSE: 0.3065\n",
      "Epoch 465/1000\n",
      "5261/5261 [==============================] - 0s 13us/step - loss: 0.4854 - acc: 0.8133 - RMSE: 0.1950 - val_loss: 2.5326 - val_acc: 0.5863 - val_RMSE: 0.3138\n",
      "Epoch 466/1000\n",
      "5261/5261 [==============================] - 0s 13us/step - loss: 0.3871 - acc: 0.8439 - RMSE: 0.1759 - val_loss: 2.6377 - val_acc: 0.5880 - val_RMSE: 0.3088\n",
      "Epoch 467/1000\n",
      "5261/5261 [==============================] - 0s 14us/step - loss: 0.6912 - acc: 0.7651 - RMSE: 0.2196 - val_loss: 2.4819 - val_acc: 0.5726 - val_RMSE: 0.3160\n",
      "Epoch 468/1000\n",
      "5261/5261 [==============================] - 0s 13us/step - loss: 0.5096 - acc: 0.8048 - RMSE: 0.1984 - val_loss: 2.4283 - val_acc: 0.5795 - val_RMSE: 0.3088\n",
      "Epoch 469/1000\n",
      "5261/5261 [==============================] - 0s 14us/step - loss: 0.4233 - acc: 0.8284 - RMSE: 0.1844 - val_loss: 2.2844 - val_acc: 0.6137 - val_RMSE: 0.2990\n",
      "Epoch 470/1000\n",
      "5261/5261 [==============================] - 0s 14us/step - loss: 0.3924 - acc: 0.8458 - RMSE: 0.1751 - val_loss: 2.3234 - val_acc: 0.6103 - val_RMSE: 0.2989\n",
      "Epoch 471/1000\n",
      "5261/5261 [==============================] - 0s 13us/step - loss: 0.3321 - acc: 0.8707 - RMSE: 0.1641 - val_loss: 2.2861 - val_acc: 0.6291 - val_RMSE: 0.2998\n",
      "Epoch 472/1000\n"
     ]
    },
    {
     "name": "stdout",
     "output_type": "stream",
     "text": [
      "5261/5261 [==============================] - 0s 13us/step - loss: 0.3368 - acc: 0.8645 - RMSE: 0.1642 - val_loss: 2.3372 - val_acc: 0.6205 - val_RMSE: 0.3001\n",
      "Epoch 473/1000\n",
      "5261/5261 [==============================] - 0s 13us/step - loss: 0.3068 - acc: 0.8806 - RMSE: 0.1586 - val_loss: 2.4295 - val_acc: 0.6017 - val_RMSE: 0.2999\n",
      "Epoch 474/1000\n",
      "5261/5261 [==============================] - 0s 13us/step - loss: 0.4136 - acc: 0.8453 - RMSE: 0.1747 - val_loss: 2.3667 - val_acc: 0.6171 - val_RMSE: 0.3021\n",
      "Epoch 475/1000\n",
      "5261/5261 [==============================] - 0s 13us/step - loss: 0.3102 - acc: 0.8803 - RMSE: 0.1558 - val_loss: 2.3974 - val_acc: 0.6205 - val_RMSE: 0.2993\n",
      "Epoch 476/1000\n",
      "5261/5261 [==============================] - 0s 13us/step - loss: 0.2935 - acc: 0.8856 - RMSE: 0.1526 - val_loss: 2.3860 - val_acc: 0.6325 - val_RMSE: 0.2975\n",
      "Epoch 477/1000\n",
      "5261/5261 [==============================] - 0s 13us/step - loss: 0.3037 - acc: 0.8795 - RMSE: 0.1549 - val_loss: 2.4138 - val_acc: 0.6222 - val_RMSE: 0.2994\n",
      "Epoch 478/1000\n",
      "5261/5261 [==============================] - 0s 13us/step - loss: 0.3097 - acc: 0.8810 - RMSE: 0.1545 - val_loss: 2.5872 - val_acc: 0.6291 - val_RMSE: 0.2988\n",
      "Epoch 479/1000\n",
      "5261/5261 [==============================] - 0s 13us/step - loss: 0.2889 - acc: 0.8841 - RMSE: 0.1536 - val_loss: 2.4024 - val_acc: 0.6154 - val_RMSE: 0.3004\n",
      "Epoch 480/1000\n",
      "5261/5261 [==============================] - 0s 14us/step - loss: 0.2858 - acc: 0.8875 - RMSE: 0.1512 - val_loss: 2.4631 - val_acc: 0.6308 - val_RMSE: 0.2967\n",
      "Epoch 481/1000\n",
      "5261/5261 [==============================] - 0s 14us/step - loss: 0.2857 - acc: 0.8869 - RMSE: 0.1521 - val_loss: 2.4977 - val_acc: 0.6068 - val_RMSE: 0.3025\n",
      "Epoch 482/1000\n",
      "5261/5261 [==============================] - 0s 13us/step - loss: 0.3311 - acc: 0.8725 - RMSE: 0.1620 - val_loss: 2.4923 - val_acc: 0.5932 - val_RMSE: 0.3090\n",
      "Epoch 483/1000\n",
      "5261/5261 [==============================] - 0s 13us/step - loss: 0.3154 - acc: 0.8732 - RMSE: 0.1603 - val_loss: 2.6107 - val_acc: 0.6188 - val_RMSE: 0.3013\n",
      "Epoch 484/1000\n",
      "5261/5261 [==============================] - 0s 14us/step - loss: 0.3264 - acc: 0.8700 - RMSE: 0.1612 - val_loss: 2.5642 - val_acc: 0.6171 - val_RMSE: 0.3083\n",
      "Epoch 485/1000\n",
      "5261/5261 [==============================] - 0s 14us/step - loss: 0.2956 - acc: 0.8833 - RMSE: 0.1532 - val_loss: 2.6446 - val_acc: 0.6325 - val_RMSE: 0.3019\n",
      "Epoch 486/1000\n",
      "5261/5261 [==============================] - 0s 13us/step - loss: 0.2779 - acc: 0.8953 - RMSE: 0.1488 - val_loss: 2.6909 - val_acc: 0.6171 - val_RMSE: 0.3040\n",
      "Epoch 487/1000\n",
      "5261/5261 [==============================] - 0s 14us/step - loss: 0.2903 - acc: 0.8856 - RMSE: 0.1524 - val_loss: 2.6635 - val_acc: 0.6034 - val_RMSE: 0.3088\n",
      "Epoch 488/1000\n",
      "5261/5261 [==============================] - 0s 13us/step - loss: 0.2959 - acc: 0.8858 - RMSE: 0.1555 - val_loss: 2.7037 - val_acc: 0.6137 - val_RMSE: 0.3038\n",
      "Epoch 489/1000\n",
      "5261/5261 [==============================] - 0s 13us/step - loss: 0.4045 - acc: 0.8445 - RMSE: 0.1772 - val_loss: 2.7178 - val_acc: 0.6239 - val_RMSE: 0.3043\n",
      "Epoch 490/1000\n",
      "5261/5261 [==============================] - 0s 13us/step - loss: 0.4141 - acc: 0.8371 - RMSE: 0.1808 - val_loss: 2.5123 - val_acc: 0.5949 - val_RMSE: 0.3085\n",
      "Epoch 491/1000\n",
      "5261/5261 [==============================] - 0s 13us/step - loss: 0.3587 - acc: 0.8584 - RMSE: 0.1697 - val_loss: 2.7176 - val_acc: 0.6256 - val_RMSE: 0.3000\n",
      "Epoch 492/1000\n",
      "5261/5261 [==============================] - 0s 13us/step - loss: 0.3018 - acc: 0.8749 - RMSE: 0.1564 - val_loss: 2.7051 - val_acc: 0.6068 - val_RMSE: 0.3062\n",
      "Epoch 493/1000\n",
      "5261/5261 [==============================] - 0s 13us/step - loss: 0.2885 - acc: 0.8837 - RMSE: 0.1535 - val_loss: 2.7048 - val_acc: 0.6188 - val_RMSE: 0.3020\n",
      "Epoch 494/1000\n",
      "5261/5261 [==============================] - 0s 13us/step - loss: 0.3015 - acc: 0.8801 - RMSE: 0.1544 - val_loss: 2.6902 - val_acc: 0.6291 - val_RMSE: 0.3026\n",
      "Epoch 495/1000\n",
      "5261/5261 [==============================] - 0s 13us/step - loss: 0.3397 - acc: 0.8669 - RMSE: 0.1649 - val_loss: 2.8099 - val_acc: 0.6239 - val_RMSE: 0.3030\n",
      "Epoch 496/1000\n",
      "5261/5261 [==============================] - 0s 13us/step - loss: 0.3398 - acc: 0.8664 - RMSE: 0.1651 - val_loss: 2.7446 - val_acc: 0.5966 - val_RMSE: 0.3058\n",
      "Epoch 497/1000\n",
      "5261/5261 [==============================] - 0s 13us/step - loss: 0.3376 - acc: 0.8679 - RMSE: 0.1615 - val_loss: 2.7546 - val_acc: 0.6274 - val_RMSE: 0.3003\n",
      "Epoch 498/1000\n",
      "5261/5261 [==============================] - 0s 13us/step - loss: 0.2989 - acc: 0.8831 - RMSE: 0.1542 - val_loss: 2.6351 - val_acc: 0.6154 - val_RMSE: 0.3043\n",
      "Epoch 499/1000\n",
      "5261/5261 [==============================] - 0s 14us/step - loss: 0.3175 - acc: 0.8726 - RMSE: 0.1608 - val_loss: 2.8161 - val_acc: 0.6085 - val_RMSE: 0.3028\n",
      "Epoch 500/1000\n",
      "5261/5261 [==============================] - 0s 13us/step - loss: 0.3023 - acc: 0.8799 - RMSE: 0.1551 - val_loss: 2.8035 - val_acc: 0.6017 - val_RMSE: 0.3097\n",
      "Epoch 501/1000\n",
      "5261/5261 [==============================] - 0s 14us/step - loss: 0.2973 - acc: 0.8818 - RMSE: 0.1550 - val_loss: 2.7769 - val_acc: 0.6239 - val_RMSE: 0.3064\n",
      "Epoch 502/1000\n",
      "5261/5261 [==============================] - 0s 14us/step - loss: 0.3240 - acc: 0.8666 - RMSE: 0.1628 - val_loss: 2.8782 - val_acc: 0.5932 - val_RMSE: 0.3099\n",
      "Epoch 503/1000\n",
      "5261/5261 [==============================] - 0s 13us/step - loss: 0.3965 - acc: 0.8491 - RMSE: 0.1733 - val_loss: 2.6870 - val_acc: 0.5915 - val_RMSE: 0.3143\n",
      "Epoch 504/1000\n",
      "5261/5261 [==============================] - 0s 13us/step - loss: 0.3396 - acc: 0.8635 - RMSE: 0.1657 - val_loss: 2.6304 - val_acc: 0.6017 - val_RMSE: 0.3080\n",
      "Epoch 505/1000\n",
      "5261/5261 [==============================] - 0s 13us/step - loss: 0.3027 - acc: 0.8801 - RMSE: 0.1570 - val_loss: 2.6099 - val_acc: 0.6085 - val_RMSE: 0.3083\n",
      "Epoch 506/1000\n",
      "5261/5261 [==============================] - 0s 13us/step - loss: 0.3369 - acc: 0.8639 - RMSE: 0.1643 - val_loss: 2.6783 - val_acc: 0.5932 - val_RMSE: 0.3024\n",
      "Epoch 507/1000\n",
      "5261/5261 [==============================] - 0s 13us/step - loss: 0.3449 - acc: 0.8647 - RMSE: 0.1667 - val_loss: 2.6314 - val_acc: 0.6068 - val_RMSE: 0.3042\n",
      "Epoch 508/1000\n",
      "5261/5261 [==============================] - 0s 14us/step - loss: 0.3318 - acc: 0.8679 - RMSE: 0.1628 - val_loss: 2.6148 - val_acc: 0.5983 - val_RMSE: 0.3074\n",
      "Epoch 509/1000\n",
      "5261/5261 [==============================] - 0s 13us/step - loss: 0.3145 - acc: 0.8755 - RMSE: 0.1579 - val_loss: 2.7717 - val_acc: 0.5915 - val_RMSE: 0.3074\n",
      "Epoch 510/1000\n",
      "5261/5261 [==============================] - 0s 13us/step - loss: 0.3031 - acc: 0.8778 - RMSE: 0.1569 - val_loss: 2.6527 - val_acc: 0.6034 - val_RMSE: 0.3077\n",
      "Epoch 511/1000\n",
      "5261/5261 [==============================] - 0s 13us/step - loss: 0.3495 - acc: 0.8662 - RMSE: 0.1648 - val_loss: 2.7411 - val_acc: 0.6103 - val_RMSE: 0.3066\n",
      "Epoch 512/1000\n",
      "5261/5261 [==============================] - 0s 13us/step - loss: 0.3271 - acc: 0.8683 - RMSE: 0.1602 - val_loss: 2.8073 - val_acc: 0.6017 - val_RMSE: 0.3066\n",
      "Epoch 513/1000\n",
      "5261/5261 [==============================] - 0s 13us/step - loss: 0.3049 - acc: 0.8822 - RMSE: 0.1555 - val_loss: 2.6023 - val_acc: 0.6000 - val_RMSE: 0.3075\n",
      "Epoch 514/1000\n",
      "5261/5261 [==============================] - 0s 13us/step - loss: 0.3001 - acc: 0.8759 - RMSE: 0.1551 - val_loss: 2.6426 - val_acc: 0.6308 - val_RMSE: 0.2963\n",
      "Epoch 515/1000\n",
      "5261/5261 [==============================] - 0s 13us/step - loss: 0.2728 - acc: 0.8920 - RMSE: 0.1468 - val_loss: 2.7083 - val_acc: 0.6222 - val_RMSE: 0.3019\n",
      "Epoch 516/1000\n",
      "5261/5261 [==============================] - 0s 13us/step - loss: 0.2754 - acc: 0.8913 - RMSE: 0.1470 - val_loss: 2.6576 - val_acc: 0.6137 - val_RMSE: 0.3036\n",
      "Epoch 517/1000\n",
      "5261/5261 [==============================] - 0s 13us/step - loss: 0.2800 - acc: 0.8852 - RMSE: 0.1497 - val_loss: 2.6671 - val_acc: 0.6325 - val_RMSE: 0.2980\n",
      "Epoch 518/1000\n",
      "5261/5261 [==============================] - 0s 13us/step - loss: 0.2788 - acc: 0.8913 - RMSE: 0.1488 - val_loss: 2.7703 - val_acc: 0.6256 - val_RMSE: 0.3063\n",
      "Epoch 519/1000\n"
     ]
    },
    {
     "name": "stdout",
     "output_type": "stream",
     "text": [
      "5261/5261 [==============================] - 0s 14us/step - loss: 0.3402 - acc: 0.8734 - RMSE: 0.1632 - val_loss: 2.9476 - val_acc: 0.5846 - val_RMSE: 0.3129\n",
      "Epoch 520/1000\n",
      "5261/5261 [==============================] - 0s 14us/step - loss: 0.3633 - acc: 0.8580 - RMSE: 0.1682 - val_loss: 2.5481 - val_acc: 0.6000 - val_RMSE: 0.3082\n",
      "Epoch 521/1000\n",
      "5261/5261 [==============================] - 0s 14us/step - loss: 0.3337 - acc: 0.8647 - RMSE: 0.1650 - val_loss: 2.6432 - val_acc: 0.6000 - val_RMSE: 0.3057\n",
      "Epoch 522/1000\n",
      "5261/5261 [==============================] - 0s 14us/step - loss: 0.3559 - acc: 0.8561 - RMSE: 0.1677 - val_loss: 2.8798 - val_acc: 0.5915 - val_RMSE: 0.3114\n",
      "Epoch 523/1000\n",
      "5261/5261 [==============================] - 0s 17us/step - loss: 0.3243 - acc: 0.8694 - RMSE: 0.1588 - val_loss: 2.8637 - val_acc: 0.6154 - val_RMSE: 0.3076\n",
      "Epoch 524/1000\n",
      "5261/5261 [==============================] - 0s 16us/step - loss: 0.2924 - acc: 0.8846 - RMSE: 0.1518 - val_loss: 2.7161 - val_acc: 0.6171 - val_RMSE: 0.3050\n",
      "Epoch 525/1000\n",
      "5261/5261 [==============================] - 0s 15us/step - loss: 0.2719 - acc: 0.8934 - RMSE: 0.1475 - val_loss: 3.1052 - val_acc: 0.6034 - val_RMSE: 0.3119\n",
      "Epoch 526/1000\n",
      "5261/5261 [==============================] - 0s 14us/step - loss: 0.3124 - acc: 0.8751 - RMSE: 0.1589 - val_loss: 2.9182 - val_acc: 0.5846 - val_RMSE: 0.3125\n",
      "Epoch 527/1000\n",
      "5261/5261 [==============================] - 0s 14us/step - loss: 0.5225 - acc: 0.8247 - RMSE: 0.1908 - val_loss: 3.0838 - val_acc: 0.5932 - val_RMSE: 0.3114\n",
      "Epoch 528/1000\n",
      "5261/5261 [==============================] - 0s 14us/step - loss: 0.4030 - acc: 0.8466 - RMSE: 0.1757 - val_loss: 2.8220 - val_acc: 0.5829 - val_RMSE: 0.3153\n",
      "Epoch 529/1000\n",
      "5261/5261 [==============================] - 0s 13us/step - loss: 0.3366 - acc: 0.8677 - RMSE: 0.1655 - val_loss: 2.6690 - val_acc: 0.6034 - val_RMSE: 0.3097\n",
      "Epoch 530/1000\n",
      "5261/5261 [==============================] - 0s 13us/step - loss: 0.3287 - acc: 0.8675 - RMSE: 0.1630 - val_loss: 2.5249 - val_acc: 0.6205 - val_RMSE: 0.3008\n",
      "Epoch 531/1000\n",
      "5261/5261 [==============================] - 0s 13us/step - loss: 0.2878 - acc: 0.8863 - RMSE: 0.1511 - val_loss: 2.6807 - val_acc: 0.6103 - val_RMSE: 0.3024\n",
      "Epoch 532/1000\n",
      "5261/5261 [==============================] - 0s 13us/step - loss: 0.2711 - acc: 0.8932 - RMSE: 0.1475 - val_loss: 2.7554 - val_acc: 0.6256 - val_RMSE: 0.3024\n",
      "Epoch 533/1000\n",
      "5261/5261 [==============================] - 0s 16us/step - loss: 0.2511 - acc: 0.8991 - RMSE: 0.1417 - val_loss: 2.8629 - val_acc: 0.6291 - val_RMSE: 0.2994\n",
      "Epoch 534/1000\n",
      "5261/5261 [==============================] - 0s 17us/step - loss: 0.2600 - acc: 0.9004 - RMSE: 0.1424 - val_loss: 2.7943 - val_acc: 0.6222 - val_RMSE: 0.3000\n",
      "Epoch 535/1000\n",
      "5261/5261 [==============================] - 0s 14us/step - loss: 0.2507 - acc: 0.9038 - RMSE: 0.1419 - val_loss: 2.7245 - val_acc: 0.6256 - val_RMSE: 0.3023\n",
      "Epoch 536/1000\n",
      "5261/5261 [==============================] - 0s 14us/step - loss: 0.3161 - acc: 0.8804 - RMSE: 0.1577 - val_loss: 2.8770 - val_acc: 0.6188 - val_RMSE: 0.3037\n",
      "Epoch 537/1000\n",
      "5261/5261 [==============================] - 0s 13us/step - loss: 0.2702 - acc: 0.8956 - RMSE: 0.1452 - val_loss: 2.8002 - val_acc: 0.6239 - val_RMSE: 0.3014\n",
      "Epoch 538/1000\n",
      "5261/5261 [==============================] - 0s 13us/step - loss: 0.2653 - acc: 0.8970 - RMSE: 0.1459 - val_loss: 2.9087 - val_acc: 0.6188 - val_RMSE: 0.3010\n",
      "Epoch 539/1000\n",
      "5261/5261 [==============================] - 0s 13us/step - loss: 0.2908 - acc: 0.8860 - RMSE: 0.1538 - val_loss: 2.7469 - val_acc: 0.6308 - val_RMSE: 0.3019\n",
      "Epoch 540/1000\n",
      "5261/5261 [==============================] - 0s 13us/step - loss: 0.2998 - acc: 0.8782 - RMSE: 0.1559 - val_loss: 2.8050 - val_acc: 0.6068 - val_RMSE: 0.3092\n",
      "Epoch 541/1000\n",
      "5261/5261 [==============================] - 0s 13us/step - loss: 0.3734 - acc: 0.8534 - RMSE: 0.1726 - val_loss: 2.6853 - val_acc: 0.6205 - val_RMSE: 0.3035\n",
      "Epoch 542/1000\n",
      "5261/5261 [==============================] - 0s 14us/step - loss: 0.4694 - acc: 0.8335 - RMSE: 0.1849 - val_loss: 3.0647 - val_acc: 0.5846 - val_RMSE: 0.3110\n",
      "Epoch 543/1000\n",
      "5261/5261 [==============================] - 0s 13us/step - loss: 0.3698 - acc: 0.8576 - RMSE: 0.1725 - val_loss: 2.7824 - val_acc: 0.6274 - val_RMSE: 0.3053\n",
      "Epoch 544/1000\n",
      "5261/5261 [==============================] - 0s 13us/step - loss: 0.3034 - acc: 0.8778 - RMSE: 0.1567 - val_loss: 2.6664 - val_acc: 0.6291 - val_RMSE: 0.3012\n",
      "Epoch 545/1000\n",
      "5261/5261 [==============================] - 0s 13us/step - loss: 0.2628 - acc: 0.8981 - RMSE: 0.1439 - val_loss: 2.8631 - val_acc: 0.6068 - val_RMSE: 0.3016\n",
      "Epoch 546/1000\n",
      "5261/5261 [==============================] - 0s 13us/step - loss: 0.2657 - acc: 0.8934 - RMSE: 0.1449 - val_loss: 2.9790 - val_acc: 0.6256 - val_RMSE: 0.3039\n",
      "Epoch 547/1000\n",
      "5261/5261 [==============================] - 0s 13us/step - loss: 0.2617 - acc: 0.8945 - RMSE: 0.1455 - val_loss: 2.7695 - val_acc: 0.6137 - val_RMSE: 0.3032\n",
      "Epoch 548/1000\n",
      "5261/5261 [==============================] - 0s 13us/step - loss: 0.2769 - acc: 0.8922 - RMSE: 0.1466 - val_loss: 2.9572 - val_acc: 0.6274 - val_RMSE: 0.3030\n",
      "Epoch 549/1000\n",
      "5261/5261 [==============================] - 0s 13us/step - loss: 0.2889 - acc: 0.8844 - RMSE: 0.1532 - val_loss: 2.9962 - val_acc: 0.6171 - val_RMSE: 0.3058\n",
      "Epoch 550/1000\n",
      "5261/5261 [==============================] - 0s 13us/step - loss: 0.3100 - acc: 0.8734 - RMSE: 0.1572 - val_loss: 2.8878 - val_acc: 0.6120 - val_RMSE: 0.3054\n",
      "Epoch 551/1000\n",
      "5261/5261 [==============================] - 0s 13us/step - loss: 0.3447 - acc: 0.8605 - RMSE: 0.1643 - val_loss: 2.8887 - val_acc: 0.6103 - val_RMSE: 0.3050\n",
      "Epoch 552/1000\n",
      "5261/5261 [==============================] - 0s 13us/step - loss: 0.3848 - acc: 0.8538 - RMSE: 0.1725 - val_loss: 2.9435 - val_acc: 0.5949 - val_RMSE: 0.3119\n",
      "Epoch 553/1000\n",
      "5261/5261 [==============================] - 0s 14us/step - loss: 0.3199 - acc: 0.8789 - RMSE: 0.1583 - val_loss: 2.6954 - val_acc: 0.6222 - val_RMSE: 0.3018\n",
      "Epoch 554/1000\n",
      "5261/5261 [==============================] - 0s 13us/step - loss: 0.2919 - acc: 0.8863 - RMSE: 0.1536 - val_loss: 2.8091 - val_acc: 0.6256 - val_RMSE: 0.3019\n",
      "Epoch 555/1000\n",
      "5261/5261 [==============================] - 0s 13us/step - loss: 0.3354 - acc: 0.8715 - RMSE: 0.1619 - val_loss: 2.9078 - val_acc: 0.6239 - val_RMSE: 0.3000\n",
      "Epoch 556/1000\n",
      "5261/5261 [==============================] - 0s 13us/step - loss: 0.3088 - acc: 0.8757 - RMSE: 0.1564 - val_loss: 2.8278 - val_acc: 0.5846 - val_RMSE: 0.3110\n",
      "Epoch 557/1000\n",
      "5261/5261 [==============================] - 0s 13us/step - loss: 0.2972 - acc: 0.8827 - RMSE: 0.1551 - val_loss: 2.8680 - val_acc: 0.6017 - val_RMSE: 0.3044\n",
      "Epoch 558/1000\n",
      "5261/5261 [==============================] - 0s 13us/step - loss: 0.2961 - acc: 0.8911 - RMSE: 0.1513 - val_loss: 2.8677 - val_acc: 0.6103 - val_RMSE: 0.3016\n",
      "Epoch 559/1000\n",
      "5261/5261 [==============================] - 0s 13us/step - loss: 0.2765 - acc: 0.8909 - RMSE: 0.1485 - val_loss: 2.9210 - val_acc: 0.6256 - val_RMSE: 0.3008\n",
      "Epoch 560/1000\n",
      "5261/5261 [==============================] - 0s 13us/step - loss: 0.2573 - acc: 0.8970 - RMSE: 0.1428 - val_loss: 2.6605 - val_acc: 0.6120 - val_RMSE: 0.3040\n",
      "Epoch 561/1000\n",
      "5261/5261 [==============================] - 0s 13us/step - loss: 0.3028 - acc: 0.8797 - RMSE: 0.1554 - val_loss: 2.8840 - val_acc: 0.6171 - val_RMSE: 0.3052\n",
      "Epoch 562/1000\n",
      "5261/5261 [==============================] - 0s 13us/step - loss: 0.2852 - acc: 0.8901 - RMSE: 0.1507 - val_loss: 2.8819 - val_acc: 0.6256 - val_RMSE: 0.3041\n",
      "Epoch 563/1000\n",
      "5261/5261 [==============================] - 0s 13us/step - loss: 0.2726 - acc: 0.8930 - RMSE: 0.1476 - val_loss: 2.8369 - val_acc: 0.6274 - val_RMSE: 0.3031\n",
      "Epoch 564/1000\n",
      "5261/5261 [==============================] - 0s 13us/step - loss: 0.2609 - acc: 0.8987 - RMSE: 0.1430 - val_loss: 2.9243 - val_acc: 0.6188 - val_RMSE: 0.3057\n",
      "Epoch 565/1000\n",
      "5261/5261 [==============================] - 0s 13us/step - loss: 0.2768 - acc: 0.8913 - RMSE: 0.1479 - val_loss: 3.1699 - val_acc: 0.6120 - val_RMSE: 0.3081\n",
      "Epoch 566/1000\n"
     ]
    },
    {
     "name": "stdout",
     "output_type": "stream",
     "text": [
      "5261/5261 [==============================] - 0s 13us/step - loss: 0.2543 - acc: 0.9036 - RMSE: 0.1399 - val_loss: 2.7927 - val_acc: 0.6222 - val_RMSE: 0.3059\n",
      "Epoch 567/1000\n",
      "5261/5261 [==============================] - 0s 13us/step - loss: 0.2539 - acc: 0.9027 - RMSE: 0.1416 - val_loss: 3.0653 - val_acc: 0.6034 - val_RMSE: 0.3114\n",
      "Epoch 568/1000\n",
      "5261/5261 [==============================] - 0s 13us/step - loss: 0.2804 - acc: 0.8939 - RMSE: 0.1496 - val_loss: 3.0080 - val_acc: 0.5949 - val_RMSE: 0.3088\n",
      "Epoch 569/1000\n",
      "5261/5261 [==============================] - 0s 13us/step - loss: 0.3837 - acc: 0.8557 - RMSE: 0.1694 - val_loss: 3.1081 - val_acc: 0.5829 - val_RMSE: 0.3120\n",
      "Epoch 570/1000\n",
      "5261/5261 [==============================] - 0s 14us/step - loss: 0.3545 - acc: 0.8658 - RMSE: 0.1641 - val_loss: 3.3247 - val_acc: 0.6103 - val_RMSE: 0.3079\n",
      "Epoch 571/1000\n",
      "5261/5261 [==============================] - 0s 13us/step - loss: 0.3306 - acc: 0.8647 - RMSE: 0.1622 - val_loss: 3.2693 - val_acc: 0.5983 - val_RMSE: 0.3079\n",
      "Epoch 572/1000\n",
      "5261/5261 [==============================] - 0s 13us/step - loss: 0.2939 - acc: 0.8852 - RMSE: 0.1532 - val_loss: 2.8341 - val_acc: 0.5949 - val_RMSE: 0.3094\n",
      "Epoch 573/1000\n",
      "5261/5261 [==============================] - 0s 13us/step - loss: 0.2868 - acc: 0.8890 - RMSE: 0.1522 - val_loss: 2.9405 - val_acc: 0.6068 - val_RMSE: 0.3067\n",
      "Epoch 574/1000\n",
      "5261/5261 [==============================] - 0s 13us/step - loss: 0.2953 - acc: 0.8820 - RMSE: 0.1553 - val_loss: 3.0368 - val_acc: 0.6188 - val_RMSE: 0.3026\n",
      "Epoch 575/1000\n",
      "5261/5261 [==============================] - 0s 13us/step - loss: 0.4095 - acc: 0.8483 - RMSE: 0.1769 - val_loss: 3.1152 - val_acc: 0.6051 - val_RMSE: 0.3071\n",
      "Epoch 576/1000\n",
      "5261/5261 [==============================] - 0s 13us/step - loss: 0.3836 - acc: 0.8495 - RMSE: 0.1749 - val_loss: 2.8426 - val_acc: 0.5966 - val_RMSE: 0.3069\n",
      "Epoch 577/1000\n",
      "5261/5261 [==============================] - 0s 13us/step - loss: 0.3320 - acc: 0.8690 - RMSE: 0.1646 - val_loss: 3.1785 - val_acc: 0.6120 - val_RMSE: 0.3056\n",
      "Epoch 578/1000\n",
      "5261/5261 [==============================] - 0s 14us/step - loss: 0.3254 - acc: 0.8715 - RMSE: 0.1638 - val_loss: 2.7329 - val_acc: 0.5744 - val_RMSE: 0.3097\n",
      "Epoch 579/1000\n",
      "5261/5261 [==============================] - 0s 13us/step - loss: 0.4681 - acc: 0.8306 - RMSE: 0.1831 - val_loss: 2.7182 - val_acc: 0.6154 - val_RMSE: 0.3050\n",
      "Epoch 580/1000\n",
      "5261/5261 [==============================] - 0s 13us/step - loss: 0.3134 - acc: 0.8761 - RMSE: 0.1591 - val_loss: 2.8625 - val_acc: 0.6205 - val_RMSE: 0.3010\n",
      "Epoch 581/1000\n",
      "5261/5261 [==============================] - 0s 13us/step - loss: 0.3345 - acc: 0.8685 - RMSE: 0.1611 - val_loss: 2.7577 - val_acc: 0.6017 - val_RMSE: 0.3112\n",
      "Epoch 582/1000\n",
      "5261/5261 [==============================] - 0s 13us/step - loss: 0.2844 - acc: 0.8875 - RMSE: 0.1511 - val_loss: 2.8417 - val_acc: 0.6034 - val_RMSE: 0.3092\n",
      "Epoch 583/1000\n",
      "5261/5261 [==============================] - 0s 13us/step - loss: 0.2384 - acc: 0.9057 - RMSE: 0.1372 - val_loss: 2.8166 - val_acc: 0.6137 - val_RMSE: 0.3023\n",
      "Epoch 584/1000\n",
      "5261/5261 [==============================] - 0s 13us/step - loss: 0.2303 - acc: 0.9118 - RMSE: 0.1348 - val_loss: 2.9787 - val_acc: 0.6154 - val_RMSE: 0.3040\n",
      "Epoch 585/1000\n",
      "5261/5261 [==============================] - 0s 14us/step - loss: 0.2936 - acc: 0.8949 - RMSE: 0.1477 - val_loss: 2.9440 - val_acc: 0.6171 - val_RMSE: 0.3021\n",
      "Epoch 586/1000\n",
      "5261/5261 [==============================] - 0s 13us/step - loss: 0.2604 - acc: 0.9006 - RMSE: 0.1445 - val_loss: 3.0603 - val_acc: 0.6034 - val_RMSE: 0.3049\n",
      "Epoch 587/1000\n",
      "5261/5261 [==============================] - 0s 13us/step - loss: 0.2331 - acc: 0.9084 - RMSE: 0.1366 - val_loss: 3.0790 - val_acc: 0.6103 - val_RMSE: 0.3056\n",
      "Epoch 588/1000\n",
      "5261/5261 [==============================] - 0s 13us/step - loss: 0.2854 - acc: 0.8949 - RMSE: 0.1486 - val_loss: 2.8754 - val_acc: 0.6188 - val_RMSE: 0.3025\n",
      "Epoch 589/1000\n",
      "5261/5261 [==============================] - 0s 14us/step - loss: 0.2607 - acc: 0.8979 - RMSE: 0.1454 - val_loss: 3.1357 - val_acc: 0.5983 - val_RMSE: 0.3119\n",
      "Epoch 590/1000\n",
      "5261/5261 [==============================] - 0s 13us/step - loss: 0.2542 - acc: 0.8991 - RMSE: 0.1442 - val_loss: 2.8814 - val_acc: 0.6137 - val_RMSE: 0.3038\n",
      "Epoch 591/1000\n",
      "5261/5261 [==============================] - 0s 13us/step - loss: 0.3070 - acc: 0.8844 - RMSE: 0.1544 - val_loss: 2.9266 - val_acc: 0.6120 - val_RMSE: 0.3045\n",
      "Epoch 592/1000\n",
      "5261/5261 [==============================] - 0s 13us/step - loss: 0.2731 - acc: 0.8905 - RMSE: 0.1477 - val_loss: 2.8990 - val_acc: 0.6188 - val_RMSE: 0.3044\n",
      "Epoch 593/1000\n",
      "5261/5261 [==============================] - 0s 13us/step - loss: 0.3283 - acc: 0.8744 - RMSE: 0.1605 - val_loss: 2.9173 - val_acc: 0.5949 - val_RMSE: 0.3087\n",
      "Epoch 594/1000\n",
      "5261/5261 [==============================] - 0s 13us/step - loss: 0.5172 - acc: 0.8242 - RMSE: 0.1907 - val_loss: 3.5633 - val_acc: 0.5658 - val_RMSE: 0.3225\n",
      "Epoch 595/1000\n",
      "5261/5261 [==============================] - 0s 13us/step - loss: 1.3006 - acc: 0.6964 - RMSE: 0.2553 - val_loss: 2.8471 - val_acc: 0.5470 - val_RMSE: 0.3258\n",
      "Epoch 596/1000\n",
      "5261/5261 [==============================] - 0s 13us/step - loss: 0.6890 - acc: 0.7685 - RMSE: 0.2164 - val_loss: 2.6751 - val_acc: 0.5726 - val_RMSE: 0.3177\n",
      "Epoch 597/1000\n",
      "5261/5261 [==============================] - 0s 13us/step - loss: 0.4178 - acc: 0.8346 - RMSE: 0.1800 - val_loss: 2.3473 - val_acc: 0.6171 - val_RMSE: 0.3013\n",
      "Epoch 598/1000\n",
      "5261/5261 [==============================] - 0s 13us/step - loss: 0.3228 - acc: 0.8683 - RMSE: 0.1621 - val_loss: 2.3098 - val_acc: 0.6188 - val_RMSE: 0.2993\n",
      "Epoch 599/1000\n",
      "5261/5261 [==============================] - 0s 13us/step - loss: 0.2916 - acc: 0.8896 - RMSE: 0.1541 - val_loss: 2.5040 - val_acc: 0.6154 - val_RMSE: 0.3017\n",
      "Epoch 600/1000\n",
      "5261/5261 [==============================] - 0s 13us/step - loss: 0.2925 - acc: 0.8867 - RMSE: 0.1538 - val_loss: 2.5311 - val_acc: 0.6222 - val_RMSE: 0.3023\n",
      "Epoch 601/1000\n",
      "5261/5261 [==============================] - 0s 13us/step - loss: 0.2598 - acc: 0.8979 - RMSE: 0.1436 - val_loss: 2.5114 - val_acc: 0.6291 - val_RMSE: 0.3010\n",
      "Epoch 602/1000\n",
      "5261/5261 [==============================] - 0s 13us/step - loss: 0.2355 - acc: 0.9158 - RMSE: 0.1356 - val_loss: 2.6209 - val_acc: 0.6154 - val_RMSE: 0.3015\n",
      "Epoch 603/1000\n",
      "5261/5261 [==============================] - 0s 13us/step - loss: 0.2335 - acc: 0.9097 - RMSE: 0.1366 - val_loss: 2.5707 - val_acc: 0.6120 - val_RMSE: 0.3042\n",
      "Epoch 604/1000\n",
      "5261/5261 [==============================] - 0s 13us/step - loss: 0.2715 - acc: 0.8987 - RMSE: 0.1442 - val_loss: 2.6785 - val_acc: 0.6188 - val_RMSE: 0.3031\n",
      "Epoch 605/1000\n",
      "5261/5261 [==============================] - 0s 13us/step - loss: 0.2270 - acc: 0.9150 - RMSE: 0.1328 - val_loss: 2.6397 - val_acc: 0.6205 - val_RMSE: 0.3025\n",
      "Epoch 606/1000\n",
      "5261/5261 [==============================] - 0s 13us/step - loss: 0.2206 - acc: 0.9224 - RMSE: 0.1291 - val_loss: 2.7116 - val_acc: 0.6239 - val_RMSE: 0.3010\n",
      "Epoch 607/1000\n",
      "5261/5261 [==============================] - 0s 13us/step - loss: 0.2167 - acc: 0.9190 - RMSE: 0.1286 - val_loss: 2.6904 - val_acc: 0.6051 - val_RMSE: 0.3041\n",
      "Epoch 608/1000\n",
      "5261/5261 [==============================] - 0s 13us/step - loss: 0.2168 - acc: 0.9188 - RMSE: 0.1282 - val_loss: 2.7637 - val_acc: 0.6000 - val_RMSE: 0.3083\n",
      "Epoch 609/1000\n",
      "5261/5261 [==============================] - 0s 13us/step - loss: 0.2167 - acc: 0.9194 - RMSE: 0.1269 - val_loss: 2.8186 - val_acc: 0.6222 - val_RMSE: 0.3043\n",
      "Epoch 610/1000\n",
      "5261/5261 [==============================] - 0s 13us/step - loss: 0.2192 - acc: 0.9192 - RMSE: 0.1305 - val_loss: 2.8685 - val_acc: 0.6017 - val_RMSE: 0.3062\n",
      "Epoch 611/1000\n",
      "5261/5261 [==============================] - 0s 13us/step - loss: 0.2674 - acc: 0.8968 - RMSE: 0.1447 - val_loss: 2.8271 - val_acc: 0.6154 - val_RMSE: 0.3039\n",
      "Epoch 612/1000\n",
      "5261/5261 [==============================] - 0s 13us/step - loss: 0.2439 - acc: 0.9069 - RMSE: 0.1376 - val_loss: 2.7726 - val_acc: 0.6137 - val_RMSE: 0.3039\n",
      "Epoch 613/1000\n"
     ]
    },
    {
     "name": "stdout",
     "output_type": "stream",
     "text": [
      "5261/5261 [==============================] - 0s 13us/step - loss: 0.2599 - acc: 0.9010 - RMSE: 0.1447 - val_loss: 2.8852 - val_acc: 0.6085 - val_RMSE: 0.3066\n",
      "Epoch 614/1000\n",
      "5261/5261 [==============================] - 0s 13us/step - loss: 0.2747 - acc: 0.8934 - RMSE: 0.1470 - val_loss: 2.8619 - val_acc: 0.6051 - val_RMSE: 0.3081\n",
      "Epoch 615/1000\n",
      "5261/5261 [==============================] - 0s 13us/step - loss: 0.2484 - acc: 0.9038 - RMSE: 0.1414 - val_loss: 2.9465 - val_acc: 0.6137 - val_RMSE: 0.3027\n",
      "Epoch 616/1000\n",
      "5261/5261 [==============================] - 0s 13us/step - loss: 0.2581 - acc: 0.8974 - RMSE: 0.1428 - val_loss: 3.0020 - val_acc: 0.6188 - val_RMSE: 0.3042\n",
      "Epoch 617/1000\n",
      "5261/5261 [==============================] - 0s 14us/step - loss: 0.2714 - acc: 0.8939 - RMSE: 0.1471 - val_loss: 2.9591 - val_acc: 0.6154 - val_RMSE: 0.3060\n",
      "Epoch 618/1000\n",
      "5261/5261 [==============================] - 0s 13us/step - loss: 0.2760 - acc: 0.8892 - RMSE: 0.1482 - val_loss: 2.8669 - val_acc: 0.6017 - val_RMSE: 0.3055\n",
      "Epoch 619/1000\n",
      "5261/5261 [==============================] - 0s 13us/step - loss: 0.2767 - acc: 0.8958 - RMSE: 0.1454 - val_loss: 2.9862 - val_acc: 0.6000 - val_RMSE: 0.3102\n",
      "Epoch 620/1000\n",
      "5261/5261 [==============================] - 0s 13us/step - loss: 0.2510 - acc: 0.9027 - RMSE: 0.1412 - val_loss: 3.0606 - val_acc: 0.6000 - val_RMSE: 0.3064\n",
      "Epoch 621/1000\n",
      "5261/5261 [==============================] - 0s 13us/step - loss: 0.2917 - acc: 0.8854 - RMSE: 0.1530 - val_loss: 2.9120 - val_acc: 0.6085 - val_RMSE: 0.3060\n",
      "Epoch 622/1000\n",
      "5261/5261 [==============================] - 0s 13us/step - loss: 0.3416 - acc: 0.8707 - RMSE: 0.1614 - val_loss: 3.0437 - val_acc: 0.5915 - val_RMSE: 0.3129\n",
      "Epoch 623/1000\n",
      "5261/5261 [==============================] - 0s 13us/step - loss: 0.3103 - acc: 0.8801 - RMSE: 0.1540 - val_loss: 3.0712 - val_acc: 0.6034 - val_RMSE: 0.3112\n",
      "Epoch 624/1000\n",
      "5261/5261 [==============================] - 0s 13us/step - loss: 0.2737 - acc: 0.8917 - RMSE: 0.1488 - val_loss: 3.0474 - val_acc: 0.5949 - val_RMSE: 0.3124\n",
      "Epoch 625/1000\n",
      "5261/5261 [==============================] - 0s 13us/step - loss: 0.2678 - acc: 0.8981 - RMSE: 0.1462 - val_loss: 3.0853 - val_acc: 0.6017 - val_RMSE: 0.3077\n",
      "Epoch 626/1000\n",
      "5261/5261 [==============================] - 0s 13us/step - loss: 0.2979 - acc: 0.8850 - RMSE: 0.1529 - val_loss: 3.0740 - val_acc: 0.5932 - val_RMSE: 0.3099\n",
      "Epoch 627/1000\n",
      "5261/5261 [==============================] - 0s 14us/step - loss: 0.2716 - acc: 0.8928 - RMSE: 0.1477 - val_loss: 3.0408 - val_acc: 0.5761 - val_RMSE: 0.3134\n",
      "Epoch 628/1000\n",
      "5261/5261 [==============================] - 0s 13us/step - loss: 0.2778 - acc: 0.8930 - RMSE: 0.1464 - val_loss: 2.9080 - val_acc: 0.6154 - val_RMSE: 0.3046\n",
      "Epoch 629/1000\n",
      "5261/5261 [==============================] - 0s 13us/step - loss: 0.2646 - acc: 0.8924 - RMSE: 0.1461 - val_loss: 2.9701 - val_acc: 0.6051 - val_RMSE: 0.3095\n",
      "Epoch 630/1000\n",
      "5261/5261 [==============================] - 0s 13us/step - loss: 0.2465 - acc: 0.9023 - RMSE: 0.1423 - val_loss: 3.2625 - val_acc: 0.6000 - val_RMSE: 0.3086\n",
      "Epoch 631/1000\n",
      "5261/5261 [==============================] - 0s 13us/step - loss: 0.5954 - acc: 0.8075 - RMSE: 0.1988 - val_loss: 3.0489 - val_acc: 0.5897 - val_RMSE: 0.3155\n",
      "Epoch 632/1000\n",
      "5261/5261 [==============================] - 0s 13us/step - loss: 0.3927 - acc: 0.8557 - RMSE: 0.1725 - val_loss: 2.7292 - val_acc: 0.6017 - val_RMSE: 0.3035\n",
      "Epoch 633/1000\n",
      "5261/5261 [==============================] - 0s 13us/step - loss: 0.3455 - acc: 0.8578 - RMSE: 0.1648 - val_loss: 2.8740 - val_acc: 0.5932 - val_RMSE: 0.3112\n",
      "Epoch 634/1000\n",
      "5261/5261 [==============================] - 0s 15us/step - loss: 0.3002 - acc: 0.8823 - RMSE: 0.1534 - val_loss: 2.7790 - val_acc: 0.6085 - val_RMSE: 0.3079\n",
      "Epoch 635/1000\n",
      "5261/5261 [==============================] - 0s 13us/step - loss: 0.2748 - acc: 0.8880 - RMSE: 0.1480 - val_loss: 2.8180 - val_acc: 0.6017 - val_RMSE: 0.3052\n",
      "Epoch 636/1000\n",
      "5261/5261 [==============================] - 0s 13us/step - loss: 0.2216 - acc: 0.9129 - RMSE: 0.1321 - val_loss: 2.8963 - val_acc: 0.6188 - val_RMSE: 0.3070\n",
      "Epoch 637/1000\n",
      "5261/5261 [==============================] - 0s 13us/step - loss: 0.2235 - acc: 0.9137 - RMSE: 0.1336 - val_loss: 2.8878 - val_acc: 0.6068 - val_RMSE: 0.3059\n",
      "Epoch 638/1000\n",
      "5261/5261 [==============================] - 0s 13us/step - loss: 0.2131 - acc: 0.9192 - RMSE: 0.1313 - val_loss: 3.0270 - val_acc: 0.6103 - val_RMSE: 0.3062\n",
      "Epoch 639/1000\n",
      "5261/5261 [==============================] - 0s 13us/step - loss: 0.2553 - acc: 0.8985 - RMSE: 0.1414 - val_loss: 2.9215 - val_acc: 0.5915 - val_RMSE: 0.3114\n",
      "Epoch 640/1000\n",
      "5261/5261 [==============================] - 0s 13us/step - loss: 0.2386 - acc: 0.9088 - RMSE: 0.1383 - val_loss: 2.9919 - val_acc: 0.5949 - val_RMSE: 0.3116\n",
      "Epoch 641/1000\n",
      "5261/5261 [==============================] - 0s 13us/step - loss: 0.2438 - acc: 0.9034 - RMSE: 0.1407 - val_loss: 2.9416 - val_acc: 0.6274 - val_RMSE: 0.3029\n",
      "Epoch 642/1000\n",
      "5261/5261 [==============================] - 0s 14us/step - loss: 0.2168 - acc: 0.9204 - RMSE: 0.1303 - val_loss: 3.1571 - val_acc: 0.6017 - val_RMSE: 0.3099\n",
      "Epoch 643/1000\n",
      "5261/5261 [==============================] - 0s 13us/step - loss: 0.2305 - acc: 0.9131 - RMSE: 0.1334 - val_loss: 3.0410 - val_acc: 0.6120 - val_RMSE: 0.3072\n",
      "Epoch 644/1000\n",
      "5261/5261 [==============================] - 0s 13us/step - loss: 0.2176 - acc: 0.9169 - RMSE: 0.1315 - val_loss: 2.9900 - val_acc: 0.6068 - val_RMSE: 0.3100\n",
      "Epoch 645/1000\n",
      "5261/5261 [==============================] - 0s 13us/step - loss: 0.2576 - acc: 0.9000 - RMSE: 0.1421 - val_loss: 3.1078 - val_acc: 0.6034 - val_RMSE: 0.3075\n",
      "Epoch 646/1000\n",
      "5261/5261 [==============================] - 0s 13us/step - loss: 0.2461 - acc: 0.9071 - RMSE: 0.1372 - val_loss: 2.9905 - val_acc: 0.6103 - val_RMSE: 0.3087\n",
      "Epoch 647/1000\n",
      "5261/5261 [==============================] - 0s 13us/step - loss: 0.2382 - acc: 0.9103 - RMSE: 0.1371 - val_loss: 2.9315 - val_acc: 0.6000 - val_RMSE: 0.3090\n",
      "Epoch 648/1000\n",
      "5261/5261 [==============================] - 0s 13us/step - loss: 0.2738 - acc: 0.8936 - RMSE: 0.1475 - val_loss: 3.2002 - val_acc: 0.6034 - val_RMSE: 0.3151\n",
      "Epoch 649/1000\n",
      "5261/5261 [==============================] - 0s 13us/step - loss: 0.4121 - acc: 0.8485 - RMSE: 0.1755 - val_loss: 3.1817 - val_acc: 0.6051 - val_RMSE: 0.3079\n",
      "Epoch 650/1000\n",
      "5261/5261 [==============================] - 0s 13us/step - loss: 0.3080 - acc: 0.8785 - RMSE: 0.1559 - val_loss: 3.1613 - val_acc: 0.5966 - val_RMSE: 0.3077\n",
      "Epoch 651/1000\n",
      "5261/5261 [==============================] - 0s 13us/step - loss: 0.2557 - acc: 0.9019 - RMSE: 0.1430 - val_loss: 3.1977 - val_acc: 0.6120 - val_RMSE: 0.3062\n",
      "Epoch 652/1000\n",
      "5261/5261 [==============================] - 0s 13us/step - loss: 0.2453 - acc: 0.9057 - RMSE: 0.1381 - val_loss: 3.2119 - val_acc: 0.6137 - val_RMSE: 0.3055\n",
      "Epoch 653/1000\n",
      "5261/5261 [==============================] - 0s 13us/step - loss: 0.2419 - acc: 0.9059 - RMSE: 0.1380 - val_loss: 2.9948 - val_acc: 0.6137 - val_RMSE: 0.3039\n",
      "Epoch 654/1000\n",
      "5261/5261 [==============================] - 0s 14us/step - loss: 0.2230 - acc: 0.9135 - RMSE: 0.1338 - val_loss: 3.0490 - val_acc: 0.6325 - val_RMSE: 0.3012\n",
      "Epoch 655/1000\n",
      "5261/5261 [==============================] - 0s 13us/step - loss: 0.2673 - acc: 0.8953 - RMSE: 0.1439 - val_loss: 3.0947 - val_acc: 0.6274 - val_RMSE: 0.3053\n",
      "Epoch 656/1000\n",
      "5261/5261 [==============================] - 0s 13us/step - loss: 0.2688 - acc: 0.8898 - RMSE: 0.1474 - val_loss: 3.1591 - val_acc: 0.6051 - val_RMSE: 0.3114\n",
      "Epoch 657/1000\n",
      "5261/5261 [==============================] - 0s 13us/step - loss: 0.2697 - acc: 0.8953 - RMSE: 0.1459 - val_loss: 3.1748 - val_acc: 0.5983 - val_RMSE: 0.3100\n",
      "Epoch 658/1000\n",
      "5261/5261 [==============================] - 0s 13us/step - loss: 0.2660 - acc: 0.8981 - RMSE: 0.1436 - val_loss: 3.1172 - val_acc: 0.5966 - val_RMSE: 0.3096\n",
      "Epoch 659/1000\n",
      "5261/5261 [==============================] - 0s 13us/step - loss: 0.2908 - acc: 0.8920 - RMSE: 0.1506 - val_loss: 3.1658 - val_acc: 0.6017 - val_RMSE: 0.3090\n",
      "Epoch 660/1000\n"
     ]
    },
    {
     "name": "stdout",
     "output_type": "stream",
     "text": [
      "5261/5261 [==============================] - 0s 13us/step - loss: 0.3632 - acc: 0.8601 - RMSE: 0.1642 - val_loss: 3.0813 - val_acc: 0.6051 - val_RMSE: 0.3096\n",
      "Epoch 661/1000\n",
      "5261/5261 [==============================] - 0s 13us/step - loss: 0.2767 - acc: 0.8884 - RMSE: 0.1496 - val_loss: 3.1117 - val_acc: 0.6103 - val_RMSE: 0.3072\n",
      "Epoch 662/1000\n",
      "5261/5261 [==============================] - 0s 13us/step - loss: 0.2699 - acc: 0.8964 - RMSE: 0.1450 - val_loss: 3.3309 - val_acc: 0.6085 - val_RMSE: 0.3082\n",
      "Epoch 663/1000\n",
      "5261/5261 [==============================] - 0s 13us/step - loss: 0.2570 - acc: 0.9012 - RMSE: 0.1421 - val_loss: 3.4250 - val_acc: 0.6085 - val_RMSE: 0.3106\n",
      "Epoch 664/1000\n",
      "5261/5261 [==============================] - 0s 13us/step - loss: 0.2389 - acc: 0.9105 - RMSE: 0.1367 - val_loss: 3.2241 - val_acc: 0.6068 - val_RMSE: 0.3106\n",
      "Epoch 665/1000\n",
      "5261/5261 [==============================] - 0s 13us/step - loss: 0.2407 - acc: 0.9091 - RMSE: 0.1362 - val_loss: 3.2429 - val_acc: 0.6051 - val_RMSE: 0.3106\n",
      "Epoch 666/1000\n",
      "5261/5261 [==============================] - 0s 14us/step - loss: 0.2329 - acc: 0.9088 - RMSE: 0.1366 - val_loss: 3.2657 - val_acc: 0.5932 - val_RMSE: 0.3123\n",
      "Epoch 667/1000\n",
      "5261/5261 [==============================] - 0s 13us/step - loss: 0.3245 - acc: 0.8730 - RMSE: 0.1570 - val_loss: 3.3727 - val_acc: 0.6034 - val_RMSE: 0.3093\n",
      "Epoch 668/1000\n",
      "5261/5261 [==============================] - 0s 14us/step - loss: 0.2936 - acc: 0.8842 - RMSE: 0.1514 - val_loss: 3.1725 - val_acc: 0.6103 - val_RMSE: 0.3080\n",
      "Epoch 669/1000\n",
      "5261/5261 [==============================] - 0s 13us/step - loss: 0.2576 - acc: 0.8974 - RMSE: 0.1437 - val_loss: 3.3065 - val_acc: 0.5949 - val_RMSE: 0.3147\n",
      "Epoch 670/1000\n",
      "5261/5261 [==============================] - 0s 14us/step - loss: 0.2584 - acc: 0.9008 - RMSE: 0.1418 - val_loss: 3.1753 - val_acc: 0.6222 - val_RMSE: 0.3014\n",
      "Epoch 671/1000\n",
      "5261/5261 [==============================] - 0s 13us/step - loss: 0.3174 - acc: 0.8784 - RMSE: 0.1581 - val_loss: 3.1625 - val_acc: 0.5932 - val_RMSE: 0.3117\n",
      "Epoch 672/1000\n",
      "5261/5261 [==============================] - 0s 13us/step - loss: 0.3471 - acc: 0.8700 - RMSE: 0.1623 - val_loss: 3.2957 - val_acc: 0.6256 - val_RMSE: 0.3027\n",
      "Epoch 673/1000\n",
      "5261/5261 [==============================] - 0s 14us/step - loss: 0.2767 - acc: 0.8975 - RMSE: 0.1469 - val_loss: 3.0898 - val_acc: 0.6171 - val_RMSE: 0.3028\n",
      "Epoch 674/1000\n",
      "5261/5261 [==============================] - 0s 14us/step - loss: 0.2827 - acc: 0.8941 - RMSE: 0.1477 - val_loss: 3.1463 - val_acc: 0.5966 - val_RMSE: 0.3098\n",
      "Epoch 675/1000\n",
      "5261/5261 [==============================] - 0s 13us/step - loss: 0.3309 - acc: 0.8744 - RMSE: 0.1595 - val_loss: 3.2181 - val_acc: 0.6051 - val_RMSE: 0.3084\n",
      "Epoch 676/1000\n",
      "5261/5261 [==============================] - 0s 13us/step - loss: 0.3616 - acc: 0.8677 - RMSE: 0.1666 - val_loss: 3.0369 - val_acc: 0.6068 - val_RMSE: 0.3101\n",
      "Epoch 677/1000\n",
      "5261/5261 [==============================] - 0s 13us/step - loss: 0.4350 - acc: 0.8419 - RMSE: 0.1795 - val_loss: 3.0597 - val_acc: 0.6103 - val_RMSE: 0.3056\n",
      "Epoch 678/1000\n",
      "5261/5261 [==============================] - 0s 13us/step - loss: 0.2887 - acc: 0.8869 - RMSE: 0.1508 - val_loss: 3.2515 - val_acc: 0.6103 - val_RMSE: 0.3051\n",
      "Epoch 679/1000\n",
      "5261/5261 [==============================] - 0s 13us/step - loss: 0.2617 - acc: 0.8989 - RMSE: 0.1439 - val_loss: 3.1189 - val_acc: 0.6034 - val_RMSE: 0.3058\n",
      "Epoch 680/1000\n",
      "5261/5261 [==============================] - 0s 13us/step - loss: 0.2326 - acc: 0.9118 - RMSE: 0.1360 - val_loss: 3.0304 - val_acc: 0.6085 - val_RMSE: 0.3044\n",
      "Epoch 681/1000\n",
      "5261/5261 [==============================] - 0s 13us/step - loss: 0.2434 - acc: 0.9071 - RMSE: 0.1382 - val_loss: 3.1839 - val_acc: 0.6120 - val_RMSE: 0.3092\n",
      "Epoch 682/1000\n",
      "5261/5261 [==============================] - 0s 13us/step - loss: 0.2297 - acc: 0.9101 - RMSE: 0.1347 - val_loss: 3.1450 - val_acc: 0.6154 - val_RMSE: 0.3060\n",
      "Epoch 683/1000\n",
      "5261/5261 [==============================] - 0s 13us/step - loss: 0.2086 - acc: 0.9209 - RMSE: 0.1283 - val_loss: 3.1575 - val_acc: 0.6034 - val_RMSE: 0.3054\n",
      "Epoch 684/1000\n",
      "5261/5261 [==============================] - 0s 13us/step - loss: 0.1985 - acc: 0.9268 - RMSE: 0.1244 - val_loss: 3.2065 - val_acc: 0.6308 - val_RMSE: 0.3044\n",
      "\n",
      "Deep learning trouxe uma acurácia de 0.62\n",
      "\n"
     ]
    }
   ],
   "source": [
    "# callback\n",
    "callback = TerminateTrainingLoss()\n",
    "\n",
    "# treina\n",
    "history = model.fit(X_train, \n",
    "                    np_utils.to_categorical(Y_train, num_classes=7), \n",
    "                    epochs=1000, \n",
    "                    callbacks=[callback],\n",
    "                    verbose=1, \n",
    "                    batch_size=128, \n",
    "                    validation_split = 0.1)\n",
    "\n",
    "# predição e acc e mse\n",
    "_, acc_tech, _ = model.evaluate(X_test, \n",
    "                            np_utils.to_categorical(Y_test, num_classes=7), \n",
    "                            verbose=0)\n",
    "\n",
    "print(f'\\nDeep learning trouxe uma acurácia de {round(acc_tech,2)}\\n')"
   ]
  },
  {
   "cell_type": "markdown",
   "metadata": {},
   "source": [
    "### Vamos plotar o histórico de treinamento"
   ]
  },
  {
   "cell_type": "code",
   "execution_count": 38,
   "metadata": {},
   "outputs": [
    {
     "data": {
      "image/png": "[encoded data removed]",
      "text/plain": [
       "<Figure size 432x288 with 1 Axes>"
      ]
     },
     "metadata": {
      "needs_background": "light"
     },
     "output_type": "display_data"
    },
    {
     "data": {
      "image/png": "[encoded data removed]",
      "text/plain": [
       "<Figure size 432x288 with 1 Axes>"
      ]
     },
     "metadata": {
      "needs_background": "light"
     },
     "output_type": "display_data"
    },
    {
     "data": {
      "image/png": "[encoded data removed]",
      "text/plain": [
       "<Figure size 432x288 with 1 Axes>"
      ]
     },
     "metadata": {
      "needs_background": "light"
     },
     "output_type": "display_data"
    }
   ],
   "source": [
    "# summarize history for accuracy\n",
    "plt.plot(history.history['acc'])\n",
    "plt.plot(history.history['val_acc'])\n",
    "plt.title('model accuracy')\n",
    "plt.ylabel('accuracy')\n",
    "plt.xlabel('epoch')\n",
    "plt.legend(['train', 'test'], loc='upper left')\n",
    "plt.show()\n",
    "\n",
    "# Plot training & validation loss values\n",
    "plt.plot(history.history['loss'])\n",
    "plt.plot(history.history['val_loss'])\n",
    "plt.title('Model loss')\n",
    "plt.ylabel('Loss')\n",
    "plt.xlabel('Epoch')\n",
    "plt.legend(['Train', 'Test'], loc='upper left')\n",
    "plt.show()\n",
    "\n",
    "# Plot training & validation mse values\n",
    "plt.plot(history.history['RMSE'])\n",
    "plt.plot(history.history['val_RMSE'])\n",
    "plt.title('Model mse')\n",
    "plt.ylabel('RMSE')\n",
    "plt.xlabel('Epoch')\n",
    "plt.legend(['Train', 'Test'], loc='upper left')\n",
    "plt.show()"
   ]
  },
  {
   "cell_type": "code",
   "execution_count": null,
   "metadata": {},
   "outputs": [],
   "source": []
  }
 ],
 "metadata": {
  "kernelspec": {
   "display_name": "Python 3.6.9 64-bit ('ml_env': venv)",
   "language": "python",
   "name": "python36964bitmlenvvenvded8fca22bfd4c968ce012aa85b98156"
  },
  "language_info": {
   "codemirror_mode": {
    "name": "ipython",
    "version": 3
   },
   "file_extension": ".py",
   "mimetype": "text/x-python",
   "name": "python",
   "nbconvert_exporter": "python",
   "pygments_lexer": "ipython3",
   "version": "3.6.9"
  }
 },
 "nbformat": 4,
 "nbformat_minor": 4
}
